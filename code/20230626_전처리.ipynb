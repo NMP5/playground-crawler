{
 "cells": [
  {
   "attachments": {},
   "cell_type": "markdown",
   "metadata": {},
   "source": [
    "# crawled_data_combined.csv 파일에서 전처리를 위한 데이터 확인 (EDA) 작업"
   ]
  },
  {
   "attachments": {},
   "cell_type": "markdown",
   "metadata": {},
   "source": [
    "### Tag 옵션"
   ]
  },
  {
   "attachments": {},
   "cell_type": "markdown",
   "metadata": {},
   "source": [
    "#### 2000개"
   ]
  },
  {
   "cell_type": "code",
   "execution_count": 83,
   "metadata": {},
   "outputs": [
    {
     "name": "stdout",
     "output_type": "stream",
     "text": [
      "{'셔틀버스', '자율복장', 'IoT', '설립10년이상', '세미나참가비', '퇴사율5%이하', '워크샵', '어린이집', '주35시간', '위워크', '보건, 사회복지', '301~1,000명', '산업기능요원', '석식제공', '와인', '원격근무', 'iMac', '퇴사율 6~10%', '간식', '숙박, 음식점', '스톡옵션', '연봉상위1%', '부동산', '결혼기념일', '판매, 유통', '연말보너스', '인원급성장', '연봉업계평균이상', '의료비', '사업지원', '택시비', '물류, 운송', '음료', '교육비', '50명이하', '수평적조직', '전문, 과학기술', '차량지원', '문화비', '인원성장', '운동비', '설립4~9년', '51~300명', '기타 서비스업', '주차', '유연근무', '시리얼', '인공지능', '사내식당', '제조', '대출지원', '생일선물', '조식제공', '리프레시휴가', '보육시설', '수유실', '1,001~10,000명', '자기계발', '어학교육', '직무교육', '스터디지원', '건강검진', '식비', '복지포인트', '스타트업', '수면실', '단체보험', '통신비', '성과급', '금융', '노트북', '육아휴직', '푸드테크', '핀테크', '연봉상위6~10%', '설립3년이하', '헬스장', '동호회', '건설', '재택근무', '누적투자100억이상', '연봉상위11~20%', '휴게실', '기숙사', '출산휴가', '야근없음', '과일', '안마의자', '10,001명이상', '커피', '컨퍼런스참가비', 'Macbook', '전문연구요원', '상여금', '도서구매비', '샐러드', 'IT, 컨텐츠', '중식제공', '반려동물', '예술, 스포츠, 여가', '사내카페', '맥주', '사택', '교육'}\n",
      "15247\n",
      "104\n"
     ]
    }
   ],
   "source": [
    "import re\n",
    "\n",
    "with open(\"../data/crawled_data_combined_2000.csv\", encoding=\"utf-8\") as f:\n",
    "    reader = csv.reader(f)\n",
    "    # 태그 하나씩 쪼개서 넣을 리스트 (set으로 중복 제거 전)\n",
    "    tagList = []\n",
    "\n",
    "    # csv 파일 리더로, 한 row씩 읽기\n",
    "    for row in reader:\n",
    "\n",
    "        # row list의 6번째 element인 tags string을 ''안 단어들로 나눠서 list만들기\n",
    "        tags = re.findall(r\"'(.*?)'\", row[6])     \n",
    "\n",
    "        # 각 줄의 태그를 tagList에 넣는다.\n",
    "        tagList += tags\n",
    "    \n",
    "    tagSet = set(tagList)\n",
    "    print(tagSet)\n",
    "    print(len(tagList))\n",
    "    print(len(tagSet))"
   ]
  },
  {
   "cell_type": "code",
   "execution_count": 84,
   "metadata": {},
   "outputs": [
    {
     "name": "stdout",
     "output_type": "stream",
     "text": [
      "87\n",
      "['셔틀버스', '자율복장', 'IoT', '설립10년이상', '세미나참가비', '퇴사율5%이하', '워크샵', '어린이집', '주35시간', '위워크', '301~1,000명', '산업기능요원', '석식제공', '와인', '원격근무', '퇴사율 6~10%', '간식', '스톡옵션', '연봉상위1%', '결혼기념일', '판매, 유통', '인원급성장', '연봉업계평균이상', '의료비', '택시비', '물류, 운송', '음료', '교육비', '50명이하', '수평적조직', '전문, 과학기술', '인원성장', '설립4~9년', '51~300명', '기타 서비스업', '주차', '유연근무', '시리얼', '인공지능', '사내식당', '제조', '대출지원', '생일선물', '조식제공', '리프레시휴가', '보육시설', '1,001~10,000명', '자기계발', '직무교육', '건강검진', '식비', '복지포인트', '스타트업', '수면실', '단체보험', '통신비', '성과급', '금융', '노트북', '육아휴직', '핀테크', '연봉상위6~10%', '설립3년이하', '헬스장', '동호회', '재택근무', '누적투자100억이상', '연봉상위11~20%', '휴게실', '기숙사', '출산휴가', '과일', '안마의자', '10,001명이상', '커피', 'Macbook', '전문연구요원', '상여금', '도서구매비', '샐러드', 'IT, 컨텐츠', '중식제공', '반려동물', '예술, 스포츠, 여가', '사내카페', '맥주', '교육']\n"
     ]
    }
   ],
   "source": [
    "tags_filter = []\n",
    "for i in tagSet:\n",
    "    if tagList.count(i) >=10:\n",
    "        tags_filter.append(i)\n",
    "\n",
    "print(len(tags_filter))\n",
    "print(tags_filter)"
   ]
  },
  {
   "attachments": {},
   "cell_type": "markdown",
   "metadata": {},
   "source": [
    "#### Total"
   ]
  },
  {
   "cell_type": "code",
   "execution_count": 85,
   "metadata": {},
   "outputs": [
    {
     "name": "stdout",
     "output_type": "stream",
     "text": [
      "{'셔틀버스', '자율복장', 'IoT', '설립10년이상', '세미나참가비', '퇴사율5%이하', '전기, 가스', '워크샵', '어린이집', '주35시간', '위워크', '보건, 사회복지', '301~1,000명', '산업기능요원', '석식제공', '와인', '원격근무', 'iMac', '퇴사율 6~10%', '간식', '숙박, 음식점', '스톡옵션', '연봉상위1%', '부동산', '결혼기념일', '판매, 유통', '연말보너스', '인원급성장', '농림어업', '연봉업계평균이상', '의료비', '해외연수', '사업지원', '택시비', '물류, 운송', '음료', '교육비', '50명이하', '수평적조직', '전문, 과학기술', '차량지원', '문화비', '인원성장', '운동비', '설립4~9년', '51~300명', '기타 서비스업', '주차', '유연근무', '시리얼', '인공지능', '사내식당', '제조', '대출지원', '생일선물', '조식제공', '리프레시휴가', '보육시설', '수유실', '1,001~10,000명', '자기계발', '어학교육', '직무교육', '스터디지원', '건강검진', '식비', '복지포인트', '스타트업', '수면실', '단체보험', '통신비', '주4일근무', '성과급', '금융', '노트북', '육아휴직', '푸드테크', '핀테크', '연봉상위6~10%', '설립3년이하', '헬스장', '동호회', '건설', '재택근무', '누적투자100억이상', '연봉상위11~20%', '휴게실', '기숙사', '출산휴가', '야근없음', '과일', '안마의자', '10,001명이상', '커피', '컨퍼런스참가비', 'Macbook', '전문연구요원', '상여금', '도서구매비', '샐러드', '공공행정, 국방', 'IT, 컨텐츠', '중식제공', '반려동물', '예술, 스포츠, 여가', '사내카페', '맥주', '사택', '게임', '교육'}\n",
      "41323\n",
      "110\n"
     ]
    }
   ],
   "source": [
    "import re\n",
    "\n",
    "with open(\"../data/crawled_data_combined.csv\", encoding=\"utf-8\") as f:\n",
    "    reader = csv.reader(f)\n",
    "    # 태그 하나씩 쪼개서 넣을 리스트 (set으로 중복 제거 전)\n",
    "    tagList = []\n",
    "\n",
    "    # csv 파일 리더로, 한 row씩 읽기\n",
    "    for row in reader:\n",
    "\n",
    "        # row list의 6번째 element인 tags string을 ''안 단어들로 나눠서 list만들기\n",
    "        tags = re.findall(r\"'(.*?)'\", row[6])     \n",
    "\n",
    "        # 각 줄의 태그를 tagList에 넣는다.\n",
    "        tagList += tags\n",
    "    \n",
    "    tagSet = set(tagList)\n",
    "    print(tagSet)\n",
    "    print(len(tagList))\n",
    "    print(len(tagSet))"
   ]
  },
  {
   "cell_type": "code",
   "execution_count": 86,
   "metadata": {},
   "outputs": [
    {
     "name": "stdout",
     "output_type": "stream",
     "text": [
      "97\n"
     ]
    }
   ],
   "source": [
    "tags_filter = []\n",
    "for i in tagSet:\n",
    "    if tagList.count(i) >=10:\n",
    "        tags_filter.append(i)\n",
    "\n",
    "print(len(tags_filter))\n"
   ]
  },
  {
   "attachments": {},
   "cell_type": "markdown",
   "metadata": {},
   "source": [
    "## Skill 옵션"
   ]
  },
  {
   "attachments": {},
   "cell_type": "markdown",
   "metadata": {},
   "source": [
    "#### 2000개"
   ]
  },
  {
   "cell_type": "code",
   "execution_count": 87,
   "metadata": {},
   "outputs": [
    {
     "name": "stdout",
     "output_type": "stream",
     "text": [
      "{'MySQL', 'SONET', 'ORM', 'NodeJS', '성능 측정', '방화벽', 'DBT', '모바일 장치', '프로토 타이핑', 'PaaS', 'ASP', '윈도우 프로그래밍', 'GruntJS', '데이터 시각화', 'Java', 'POS', 'Scrum', 'Xamarin', 'Windows 원격 데스크톱', '정보 보안', 'FMEA', 'SD', 'CRM', '개발', 'MATLAB', 'EMC 규정 준수', 'GIS', 'OLAP', 'NoSQL', 'SAS', 'OpenCL', 'Unreal Engine', 'EMC Storage', 'NFC', '모터 제어', 'Apple Software', '최적화', '연구 및 개발', 'CCNA', 'Kubernetes', 'RFP', '딥 러닝', 'LiDAR', 'XAML', 'SAP HR', '앱 서버', '임베디드 소프트웨어', 'JSP', 'React', 'Amazon Web Service', 'Mobile App Design', 'VMware Infrastructure', 'iOS', 'SAP 구현', 'SDLC', 'Github', 'OpenCV', 'Multi Tasking', '정보관리', 'Palantir', '신호 처리', 'DHCP', 'Typeform', 'Confluence', '웹사이트', 'SPSS', 'Stata', 'SAP FICO', 'WPF', 'Adobe Illustrator', 'VR', 'Apache 2', 'Flask', 'WebGL', 'ERP 소프트웨어', 'Bootstrap', 'SPI', 'Powershell', 'RESTful Architecture', 'TypeScript', 'Embedded C', '서버 관리', '기술 개발', 'UX', '교육 기술', '그래픽 디자인', '회로 설계', 'RabbitMQ', '알고리즘 개발', 'Next.js', 'RHEL', '인터페이스', 'Go', 'Redux', 'Splunk', '차량', 'CAM', '리팩토링', 'FPGA', 'Rhino 3D', 'LIS', '전력전자학', 'TCP', 'CSS3', '보안 교육', 'Android', '복제', '라이브러리 관리', '보안 정책', 'CSS', 'BitBucket', '펌웨어', '서비스 디자인', 'WinForm', 'Mac', 'C++', '고객 관계', '수학', 'WBS', 'EC2', 'NumPy', 'STP', 'LTE', '전자 공학', '리눅스 시스템 관리', 'PKI', 'Apache', 'MDX', '기술 교육', 'QC', 'ObjectiveC', 'SOLR', 'IoT', 'Laravel', 'Microsoft Server', '로봇', 'CentOS', '애자일 방법론', '클라우드 응용 프로그램', 'Perl', 'Flow', 'Sketch', 'WPF 개발', 'DLP', 'iOS 개발', 'Bash', 'HP', 'OOP', 'Maven', 'JavaScript', 'Redis', '네트워크 설계', 'Svelte', 'Tableau', 'ETL 도구', 'FPGA 프로토 타이핑', '도메인 관리', '브랜딩', 'Spring Boot', 'PMP', '품질 보증', 'Coroutine', 'Metal', 'ES6', '샘플 관리', 'Adobe Photoshop', '인공 지능', 'ASIC', 'Visual Studio', 'Pytorch', 'Axure', 'Zemax', 'Shell', 'Shader', 'Tomcat', 'CISSP', 'Google Maps', '시스템 관리', 'Django', 'MSSQL', '안드로이드 SDK', 'ML', 'VBA', 'CodeIgniter', 'Clustering', 'ElasticSearch', 'GraphQL', 'Telerik', 'TDD', 'Children', 'RTL 코딩', 'Spring Framework', 'Retrofit2', 'Framer', 'Qt', '.NET', 'MFC', 'OpenGL', 'AutoCAD', 'ADC', 'Jenkins', 'SSH', 'SciPy', 'Data Analysis', 'Ethereum', 'Notion', 'WebSphere MQ', 'CAN', '기술 관리', 'Redmine', 'Hadoop', 'AngularJS', 'MVC', '무선 통신', 'Firebase', 'CSS 자바 스크립트', 'RTL 설계', '유지보수', 'Windows 서비스', 'JIRA', 'Ruby on Rails', 'Delphi', 'DevOps', '테스트 실행', 'Visual Basic', 'Slack', 'PADS Layout', 'Google Cloud Platform', 'ETL', 'DWDM', '백신', 'GCPs', 'STL', 'MongoDB', 'IIS', '리눅스 서버', 'Asana', 'Windows 8', '통신', 'IPS', 'JsonAPI', 'Unity3D', 'PHP', 'QlikView', 'Android Studio', 'ASP .NET', 'Office 365', 'Blockchain', 'API 개발', 'UNIX', '프레젠테이션', 'Google Analytics', 'Google Apps', '서버 아키텍처', '고객 지원', 'Linux', '데이터베이스', 'Ruby', 'SketchUp', 'ITIL', 'GUI', '서버', 'Git', '네트워크 개발', '.NET Core', 'WebRTC', '컴퓨터 공학', 'CakePHP', '아날로그 회로 설계', '보안 감사', '의료 영상', '스토리지 솔루션', 'OpenMP', 'ISO', 'EMR', 'IntelliJ IDEA', 'SMTP', 'VDI', '회로 분석', 'Verilog', 'NAS', 'Web Socket', 'C', 'IT 관리', '제품 개발', 'SAP MM', '웹 디자인', 'PostgreSQL', 'REST', 'CUDA', '웹 개발', 'PCB 레이아웃 설계', 'SQL 서버', 'Entity Framework', 'SSRS', '통계 모델링', 'Perforce', 'Swift', '자동차', 'Raspberry Pi', 'Mixpanel', 'JUnit', 'Servlets', 'ROS', '애자일 프로젝트 관리', '운영체제', 'Communication', 'PLC', '영상', '기술 문서', 'JSTL', 'Asterisk', '3G', '의료 기기', 'C / C++', 'UDP', '3D 모델링', 'VM웨어', 'Adobe XD', 'OSS', '네트워크 관리', 'Figma', 'Flutter', 'Akka', 'DNS', 'Amplitude', 'Windows Embedded', 'Excel', 'EAI', '데이터 분석', 'iBatis', '모바일 게임', 'VHDL', 'LESS', '시스템 구축', 'WordPress', 'HTML', 'SNMP', 'AR', 'UX 기획', 'PowerBuilder', '검증', '네트워크 엔지니어링', 'SVN', 'Rx', '프로그램 관리', 'Storage', 'TestNG', 'Oracle', 'SSL', 'Oracle SQL', '공차 분석', 'SQLite', '영어 실력', 'MXNET', '전원 엔지니어링', 'Rust', 'I2C', 'FastAPI', '하드웨어', 'BGP', 'CISA', '가상화', 'ANSI C', 'VoIP', '네트워크 인프라', '리눅스 커널', 'Processing', 'RS232', 'SEO', '데이터 마트', 'SQL', 'Shell Scripting', 'API', 'HTTP', 'SASS', 'IT 운영', '프로젝트 관리', 'Nginx', 'SAP ERP', '인버터', 'Xilinx', '임베디드 시스템', 'SAP SD', '보안', 'UI 디자인', '검색 엔진', 'SoC', 'LINQ', 'Kotlin', 'Google Tag Manager', 'User Experience', 'ABAP', 'VPN', 'MMO', 'VueJS', '솔루션 개발', '샘플 준비', 'TCL', '보안 관리', 'Agile', 'Scala', '품질 관리', 'RPG', 'NLP', 'AJAX', 'AWS', 'Revit', 'Hilt', 'Azure', 'JSON', '안드로이드 개발', 'Neo4j', '의료 장비', 'SAP', 'User Stories', '소프트웨어 개발', '하드웨어 설계', 'SAP FI', 'PADS', 'Xen', 'CCIE', '교육 관리', '의료 산업', 'RDBMS', '모바일 기술', 'Product Management ', 'JPA', 'Spark', 'Apache Spark', '일본어', 'Simulink', 'Python', 'React.js', 'R', '스토리지 영역 네트워크', 'GPU', 'PCB 디자인', 'XHTML', 'B2C', 'React Native', 'EDA', 'JSP 개발', 'Cisco', '프론트엔드 개발자', 'B2B', 'SCM', 'SSIS', 'GitLab', 'Apache Kafka', 'Windows 서버', 'QA 엔지니어링', '네트워크 운영', 'GCP', 'RF', 'Hyperledger', 'HTML5', 'PACS', 'debugging', 'ERP 구현', '로봇 프로그래밍', '강의', 'EnCase', 'Ubuntu', '모뎀', '레이더', 'Restful API', 'XP', 'Tensorflow', 'C#', 'RESTful WebServices', '카메라', '네트워크 보안', 'Power BI', 'Nest.js', 'Gradle', 'MVVM', 'Active Directory', 'Golang', 'Nexacro', 'Oracle RAC', '컴퓨터 비전', 'jQuery', '윈도우 모바일', 'SVG', 'Visual Studio Code', '네트워크 통신', '컴파일러', 'RTOS', 'RAID', 'CAD', 'CMS', 'RTL 검증', '프로젝트 실행', '금융', '회로', 'VB .NET', 'OTN', 'Docker', 'MES', 'Zeplin', 'DART for Publishers', 'Spa', 'DSP', 'Vue.JS', 'OpenStack', 'ISR', 'HCI', '백엔드 개발', 'IP', 'Node.js', 'OAuth', 'Embedded Linux', '반도체', '인프라', 'Audit Command Language (ACL)', '제어 시스템 설계', '위성 통신', 'Scikit-Learn', 'ExpressJS', 'SaaS', '전자정부프레임워크', 'Citrix', 'ORCAD', 'Xcode'}\n",
      "10863\n",
      "525\n"
     ]
    }
   ],
   "source": [
    "import re\n",
    "\n",
    "with open(\"../data/crawled_data_combined_2000.csv\", encoding=\"utf-8\") as f:\n",
    "    reader = csv.reader(f)\n",
    "    # 태그 하나씩 쪼개서 넣을 리스트 (set으로 중복 제거 전)\n",
    "    skillsList = []\n",
    "    # count = 1\n",
    "    # csv 파일 리더로, 한 row씩 읽기\n",
    "    for row in reader:\n",
    "\n",
    "        # if count == 3:\n",
    "        #     break\n",
    "        # row list의 10번째 element인 tags string을 ''안 단어들로 나눠서 list만들기\n",
    "        skills = re.findall(r\"'(.*?)'\", row[10])     \n",
    "        # print(row[10])\n",
    "\n",
    "        # 각 줄의 태그를 tagList에 넣는다.\n",
    "        skillsList += skills\n",
    "\n",
    "\n",
    "        # count += 1\n",
    "\n",
    "        \n",
    "    \n",
    "    skillsSet = set(skillsList)\n",
    "    print(skillsSet)\n",
    "    print(len(skillsList))\n",
    "    print(len(skillsSet))"
   ]
  },
  {
   "cell_type": "code",
   "execution_count": 88,
   "metadata": {},
   "outputs": [
    {
     "name": "stdout",
     "output_type": "stream",
     "text": [
      "135\n"
     ]
    }
   ],
   "source": [
    "skills_filter = []\n",
    "for i in skillsSet:\n",
    "    if skillsList.count(i) >= 10:\n",
    "        skills_filter.append(i)\n",
    "print(len(skills_filter))"
   ]
  },
  {
   "attachments": {},
   "cell_type": "markdown",
   "metadata": {},
   "source": [
    "#### total"
   ]
  },
  {
   "cell_type": "code",
   "execution_count": 89,
   "metadata": {},
   "outputs": [
    {
     "name": "stdout",
     "output_type": "stream",
     "text": [
      "{'구매 관리', 'MySQL', 'GPS', 'SONET', '분석 능력', 'ORM', 'NodeJS', '성능 측정', '방화벽', 'PMO', 'DBT', '프로젝트 납품', '모바일 장치', 'SSAS', 'RTP', '네비게이션 시스템', '프로토 타이핑', 'PaaS', 'ASP', '윈도우 프로그래밍', 'GruntJS', '데이터 시각화', '모델링 및 시뮬레이션', '클라우드 보안', 'Java', 'POS', 'Scrum', 'Xamarin', 'Health Information Technology', 'Windows 원격 데스크톱', '정보 보안', 'FMEA', 'SD', 'UX 디자인', 'CRM', '개발', 'MATLAB', 'EMC 규정 준수', 'GIS', '프로세스 개선', 'OLAP', 'Juniper', 'NoSQL', 'SAS', 'OpenCL', 'Unreal Engine', 'EMC Storage', 'NFC', '모터 제어', 'Apple Software', 'AIX', '최적화', '연구 및 개발', 'CCNA', 'Kubernetes', 'RFP', '딥 러닝', 'LiDAR', 'XAML', 'PHPUnit', 'SAP HR', '앱 서버', '임베디드 소프트웨어', '알고리즘 설계', 'CRM 통합', 'JSP', 'React', 'Amazon Web Service', 'Mobile App Design', 'VMware Infrastructure', 'SMS', 'iOS', 'SAP 구현', 'KYC', 'Diagnostic', 'SDLC', 'Github', 'OpenCV', 'HTA', 'Multi Tasking', '정보관리', 'Palantir', '신호 처리', 'DHCP', 'Applicant Tracking System(ATS)', 'Typeform', 'Confluence', 'DOM', '웹사이트', 'SPSS', 'Stata', 'SAP FICO', 'iOS 디자인', 'WPF', '3D 그래픽', 'Adobe Illustrator', 'VR', 'Apache 2', 'Flask', 'WebGL', 'ERP 소프트웨어', 'Bootstrap', 'SPI', 'MS 오피스', 'Powershell', 'RESTful Architecture', '데이터 수집', 'TypeScript', 'Embedded C', '서버 관리', '기술 개발', 'UX', '교육 기술', '그래픽 디자인', '회로 설계', 'RabbitMQ', '알고리즘 개발', 'Next.js', 'RHEL', '인터페이스', 'Go', 'Redux', 'Splunk', '차량', 'CAM', '소켓', '리팩토링', 'FPGA', '병렬 프로그래밍', 'Rhino 3D', 'LIS', '전력전자학', 'TCP', 'CSS3', '구글 API', '3D', '학술 출판', '보안 교육', 'Android', '복제', '라이브러리 관리', '보안 정책', '솔루션 아키텍처', 'CSS', 'BitBucket', '펌웨어', '서비스 디자인', 'WinForm', '분석 개발', 'Mac', 'C++', '고객 관계', '수학', 'WBS', '상품 기획', 'EC2', 'NumPy', 'STP', 'LTE', '전자 공학', '데이터베이스 설계', '리눅스 시스템 관리', 'PKI', 'Apache', 'MDX', '기술 교육', 'QC', 'ObjectiveC', 'SOLR', 'IoT', 'Laravel', 'Microsoft Server', '로봇', 'CentOS', '애자일 방법론', '클라우드 응용 프로그램', 'Perl', 'Flow', 'Sketch', 'WPF 개발', 'DLP', 'iOS 개발', 'Bash', 'HP', 'OOP', 'Maven', 'JavaScript', 'Redis', '네트워크 설계', 'Svelte', 'Tableau', 'ETL 도구', 'FPGA 프로토 타이핑', '도메인 관리', '브랜딩', 'IVR', 'Spring Boot', 'PMP', 'Angular', '품질 보증', '예측 모델링', 'Coroutine', 'Metal', 'GCC', 'ES6', '샘플 관리', 'Adobe Photoshop', '인공 지능', 'ASIC', '생산 계획', 'Visual Studio', '운영 관리', 'Pytorch', 'Axure', 'Zemax', 'Shell', 'Shader', 'Tomcat', 'CISSP', 'CRM 데이터베이스', 'Google Maps', 'AAC', '시스템 관리', 'Django', 'MSSQL', '안드로이드 SDK', 'ML', 'VBA', 'CodeIgniter', 'Clustering', 'ElasticSearch', 'GraphQL', 'Telerik', 'TDD', '비즈니스 분석', 'Children', 'RTL 코딩', 'Spring Framework', 'Retrofit2', 'Framer', 'Qt', '.NET', 'MFC', 'OpenGL', 'BI', 'AutoCAD', '서비스 프로세스', 'ADC', 'HMI', 'Jenkins', 'SSH', 'SciPy', 'Data Analysis', 'Ethereum', 'Notion', 'WebSphere MQ', 'CAN', '기술 관리', 'Redmine', 'Hadoop', 'AngularJS', 'MVC', '카산드라', '무선 통신', 'Spine', 'GIS 시스템', 'Firebase', 'LIN', 'CSS 자바 스크립트', 'RTL 설계', '취약점 스캐닝', '재고 관리', '유지보수', 'Solidworks', 'Windows 서비스', 'JIRA', 'Ruby on Rails', 'Delphi', 'DevOps', '테스트 실행', 'Visual Basic', 'Debian', '보안 운영', '보안 금융', 'Slack', '학술 연구', 'PADS Layout', 'Google Cloud Platform', 'ETL', 'DWDM', '백신', 'GCPs', 'STL', 'MongoDB', 'IIS', '리눅스 서버', 'Asana', 'Microchip PIC', '공공 부문', 'Solaris ', 'Windows 8', '클라우드 스토리지', '통신', 'IPS', '고객 중심', 'JsonAPI', 'Unity3D', '관리', 'PHP', 'QlikView', 'Android Studio', 'Struts', 'ASP .NET', 'Office 365', 'Blockchain', 'API 개발', 'UNIX', '프레젠테이션', 'Google Analytics', 'Google Apps', '서버 아키텍처', '고객 지원', '시스템 통합', 'Linux', '데이터베이스 관리', '데이터베이스', 'Ruby', 'SketchUp', 'jQuery UI', 'ITIL', 'Flash', 'GUI', '서버', 'Git', '네트워크 개발', '.NET Core', 'WebRTC', '컴퓨터 공학', 'CakePHP', '아날로그 회로 설계', '보안 감사', '제안서 작성', '의료 영상', '스토리지 솔루션', 'OpenMP', 'ISO', 'EMR', 'Datastage', 'IntelliJ IDEA', 'Kernel Programming', 'SMTP', 'VDI', '회로 분석', 'Verilog', 'NAS', 'Web Socket', '암호화', 'C', 'IT 관리', '제품 개발', 'Oracle Database', 'SAP MM', '웹 디자인', 'PostgreSQL', 'REST', '프로토콜 개발', 'Google Webmaster Tools', 'CUDA', '웹 개발', 'PCB 레이아웃 설계', 'SQL 서버', 'Entity Framework', 'SSRS', '통계 모델링', 'Perforce', 'Swift', '자동차', 'Raspberry Pi', 'Mixpanel', 'JUnit', 'Servlets', 'ROS', '애자일 프로젝트 관리', '운영체제', 'Communication', 'PLC', '영상', '기술 문서', 'JSTL', 'Asterisk', '3G', '의료 기기', '분석 문제 해결', 'C / C++', 'UDP', '요구 사항 분석', '3D 모델링', 'VM웨어', 'Elixir', 'Adobe XD', 'OSS', '네트워크 관리', '데이터 구조', 'Figma', 'Flutter', 'DB2', 'Akka', 'DNS', 'Amplitude', 'DICOM', 'GIS 응용 프로그램', 'Windows Embedded', 'Excel', 'AUTOSAR', 'EAI', '데이터 분석', 'SAP 포털', 'iBatis', '모바일 게임', '기계 학습 (Machine Learning)', 'VHDL', 'LESS', '시스템 구축', 'WordPress', 'HTML', 'SNMP', '분석능력', 'AR', 'UX 기획', 'PowerBuilder', '검증', '네트워크 엔지니어링', 'SVN', 'Rx', '프로그램 관리', 'Storage', 'TestNG', 'Oracle', 'SSL', 'Oracle SQL', '공차 분석', 'SQLite', '영어 실력', 'MXNET', '전원 엔지니어링', 'Rust', 'I2C', 'FastAPI', '하드웨어', 'BGP', 'CISA', 'SAP BI', '가상화', 'ANSI C', 'VoIP', '네트워크 인프라', '리눅스 커널', 'Sybase', 'Processing', 'RS232', 'SEO', '분석 서비스', '데이터 마트', 'Arduino', 'SQL', 'Shell Scripting', 'Altium', 'API', 'HTTP', 'SASS', 'IT 운영', '프로젝트 관리', 'Nginx', 'SAP ERP', '인버터', 'Xilinx', '임베디드 시스템', 'SAP SD', '데이터 입력', '보안', 'Wordpress Design', 'GLSL', 'UI 디자인', '시스템 구현', '검색 엔진', 'SoC', 'LINQ', 'Kotlin', 'Google Tag Manager', 'User Experience', 'ABAP', 'VPN', 'MMO', 'VueJS', '솔루션 개발', '샘플 준비', 'TCL', '보안 관리', 'Agile', 'Scala', '클라이언트 개발', 'POP 디스플레이', '클라우드 컴퓨팅', '품질 관리', 'RPG', 'NLP', 'AJAX', 'AWS', 'Revit', 'Hilt', 'Azure', 'JSON', '안드로이드 개발', 'Neo4j', '의료 장비', '하드웨어 테스트', 'SAP', 'User Stories', '소프트웨어 개발', '하드웨어 설계', 'SAP FI', 'PADS', 'Xen', 'CCIE', '교육 관리', '서비스 관리', '의료 산업', 'RDBMS', '자연 언어 처리', '모바일 기술', 'Cocoa Touch', 'Product Management ', 'GIMP', 'JPA', 'Spark', 'Apache Spark', '일본어', 'Simulink', 'Python', 'React.js', 'R', '스토리지 영역 네트워크', 'GPU', 'PCB 디자인', 'XHTML', 'B2C', '소프트웨어 검증', 'React Native', 'EDA', 'JSP 개발', 'Cisco', '모바일 게임 개발', '프론트엔드 개발자', 'B2B', 'SCM', 'SSIS', 'GitLab', '네트워크 프로그래밍', 'FTP', 'MIMO', 'Apache Kafka', 'Heroku', 'Windows 서버', 'QA 엔지니어링', 'Trello', 'SAP BW', '네트워크 운영', 'GCP', 'RF', 'Hyperledger', 'HTML5', 'PACS', '설계', 'debugging', 'ERP 구현', '로봇 프로그래밍', '강의', 'EnCase', 'Ubuntu', '모뎀', '레이더', 'Restful API', 'XP', 'Tensorflow', 'C#', 'RESTful WebServices', '카메라', '모델링', 'CTI', '네트워크 보안', 'Power BI', 'Nest.js', 'CCNP', 'XML', 'Gradle', 'MVVM', 'Active Directory', 'Golang', 'Nexacro', 'Oracle RAC', '컴퓨터 비전', 'jQuery', '윈도우 모바일', 'SVG', 'Visual Studio Code', '네트워크 통신', 'Eclipse', '컴파일러', 'RTOS', 'OFDM', 'RAID', 'CAD', 'CMS', 'RTL 검증', '프로젝트 실행', '금융', '회로', 'VB .NET', '자산 관리', 'OTN', '빅 데이터', 'Docker', 'MES', 'Zeplin', 'DART for Publishers', 'Spa', 'DSP', 'CRM 소프트웨어', 'Amazon Redshift', 'Vue.JS', 'OpenStack', '머신 비전', 'ISR', 'HCI', '마이크로프로세서', '백엔드 개발', 'SIP', 'Adobe', 'IP', 'Node.js', 'OAuth', 'Embedded Linux', '반도체', '자동차 전자', 'DirectX', 'DSL', '데이터 통합', '인프라', 'Audit Command Language (ACL)', '제어 시스템 설계', '위성 통신', 'Scikit-Learn', 'ExpressJS', 'SaaS', '전자정부프레임워크', 'Citrix', 'TeamCity', 'ORCAD', 'Xcode'}\n",
      "29385\n",
      "659\n"
     ]
    }
   ],
   "source": [
    "import re\n",
    "\n",
    "with open(\"../data/crawled_data_combined.csv\", encoding=\"utf-8\") as f:\n",
    "    reader = csv.reader(f)\n",
    "    # 태그 하나씩 쪼개서 넣을 리스트 (set으로 중복 제거 전)\n",
    "    skillsList = []\n",
    "    # count = 1\n",
    "    # csv 파일 리더로, 한 row씩 읽기\n",
    "    for row in reader:\n",
    "\n",
    "        # if count == 3:\n",
    "        #     break\n",
    "        # row list의 10번째 element인 tags string을 ''안 단어들로 나눠서 list만들기\n",
    "        skills = re.findall(r\"'(.*?)'\", row[10])     \n",
    "        # print(row[10])\n",
    "\n",
    "        # 각 줄의 태그를 tagList에 넣는다.\n",
    "        skillsList += skills\n",
    "\n",
    "\n",
    "        # count += 1\n",
    "\n",
    "        \n",
    "    \n",
    "    skillsSet = set(skillsList)\n",
    "    print(skillsSet)\n",
    "    print(len(skillsList))\n",
    "    print(len(skillsSet))\n"
   ]
  },
  {
   "cell_type": "code",
   "execution_count": 90,
   "metadata": {},
   "outputs": [
    {
     "name": "stdout",
     "output_type": "stream",
     "text": [
      "169\n",
      "['MySQL', 'ORM', 'NodeJS', 'Java', '정보 보안', '개발', 'MATLAB', 'NoSQL', 'Unreal Engine', 'Kubernetes', '딥 러닝', '임베디드 소프트웨어', 'JSP', 'React', 'iOS', 'Github', 'OpenCV', 'Confluence', 'WPF', 'Flask', 'WebGL', 'Bootstrap', 'Powershell', 'TypeScript', 'Embedded C', '서버 관리', 'RabbitMQ', 'Next.js', 'Go', 'Redux', 'FPGA', 'TCP', 'CSS3', 'Android', 'CSS', 'BitBucket', '펌웨어', 'Mac', 'C++', 'NumPy', 'Apache', 'ObjectiveC', 'IoT', 'Laravel', 'Perl', 'iOS 개발', 'Bash', 'OOP', 'Maven', 'JavaScript', 'Redis', 'Tableau', 'Spring Boot', 'ES6', 'Pytorch', 'Shell', 'Tomcat', '시스템 관리', 'Django', 'MSSQL', 'ML', 'ElasticSearch', 'GraphQL', 'Spring Framework', '.NET', 'MFC', 'OpenGL', 'Jenkins', 'Notion', 'Hadoop', 'AngularJS', 'Firebase', 'CSS 자바 스크립트', 'RTL 설계', 'JIRA', 'Ruby on Rails', 'DevOps', 'Slack', 'Google Cloud Platform', 'ETL', 'MongoDB', 'Unity3D', 'PHP', 'Android Studio', 'ASP .NET', 'Office 365', 'Blockchain', 'API 개발', 'UNIX', 'Google Analytics', 'Linux', 'Ruby', 'Git', 'WebRTC', 'Verilog', 'C', 'PostgreSQL', 'REST', 'CUDA', 'Swift', 'JUnit', 'ROS', 'C / C++', 'VM웨어', 'OSS', 'Figma', 'Flutter', 'DNS', '시스템 구축', 'HTML', '검증', 'Oracle', 'Rust', 'FastAPI', 'CISA', '가상화', 'SQL', 'Shell Scripting', 'API', 'HTTP', 'Nginx', '임베디드 시스템', '보안', 'SoC', 'Kotlin', 'ABAP', 'VueJS', '보안 관리', 'Agile', 'Scala', 'AWS', 'Azure', '안드로이드 개발', 'SAP', '소프트웨어 개발', 'RDBMS', 'Product Management ', 'JPA', 'Spark', 'Python', 'React.js', 'R', 'React Native', '프론트엔드 개발자', 'GitLab', 'Apache Kafka', 'Windows 서버', 'QA 엔지니어링', 'GCP', 'HTML5', 'Ubuntu', 'Restful API', 'Tensorflow', 'C#', 'RESTful WebServices', 'Nest.js', 'Gradle', 'MVVM', 'Active Directory', 'Golang', 'jQuery', 'Docker', 'Vue.JS', '백엔드 개발', 'Node.js', 'Embedded Linux', '인프라', 'Scikit-Learn', 'ExpressJS']\n"
     ]
    }
   ],
   "source": [
    "skills_filter = []\n",
    "for i in skillsSet:\n",
    "    if skillsList.count(i) >= 20:\n",
    "        skills_filter.append(i)\n",
    "print(len(skills_filter))\n",
    "print(skills_filter)"
   ]
  },
  {
   "attachments": {},
   "cell_type": "markdown",
   "metadata": {},
   "source": [
    "# skills pivot file 만들기"
   ]
  },
  {
   "cell_type": "code",
   "execution_count": null,
   "metadata": {},
   "outputs": [],
   "source": [
    "import re\n",
    "with open(\"../data/data_skill_encoding.csv\", 'w', encoding='utf-8') as newfile:\n",
    "    writer = csv.writer(newfile)\n",
    "\n",
    "    with open(\"../data/crawled_data_combined.csv\", encoding=\"utf-8\") as f:\n",
    "        reader = csv.reader(f)\n",
    "        # 태그 하나씩 쪼개서 넣을 리스트 (set으로 중복 제거 전)\n",
    "        skillsList = []\n",
    "        # count = 1\n",
    "        # csv 파일 리더로, 한 row씩 읽기\n",
    "        for row in reader:\n",
    "\n",
    "            # if count == 3:\n",
    "            #     break\n",
    "            # row list의 10번째 element인 tags string을 ''안 단어들로 나눠서 list만들기\n",
    "            skills = re.findall(r\"'(.*?)'\", row[10])     \n",
    "            # print(row[10])\n",
    "\n",
    "            # 각 줄의 태그를 tagList에 넣는다.\n",
    "            skillsList += skills"
   ]
  },
  {
   "cell_type": "code",
   "execution_count": null,
   "metadata": {},
   "outputs": [],
   "source": []
  },
  {
   "attachments": {},
   "cell_type": "markdown",
   "metadata": {},
   "source": [
    "### Qualifications"
   ]
  },
  {
   "cell_type": "code",
   "execution_count": 92,
   "metadata": {},
   "outputs": [
    {
     "name": "stdout",
     "output_type": "stream",
     "text": [
      "qualifications\n",
      "['• 1년이상 Java 경력', '• Spring Boot 경험자']\n",
      "['• DBA 경력 5년 이상이신 분', '• 대용량 DBMS 운영 경험하신 분', '• Public Cloud (AWS) 환경에 대한 기본적인 이해 및 경험이 있는 분', '• 쿼리 튜닝, 분석 가능하신 분', '• MongoDB 운영, 트러블슈팅 경험하신 분', '• 인프라 환경의 자동화를 추구하며 동료와 적극적으로 소통할 수 있는 분', '• 더 나은 기술을 익히고 적용하는데 거리낌 없는 분', '• 문서화 및 메뉴얼 작성에 거부감이 없는 분']\n",
      "['■ 이런 분과 함께 하고 싶습니다.', '', '• 학력 - 학사 이상 / 컴퓨터공학 관련 전공자 우대', '', '• 경력 - 해당 직무 수행 경력 5년 이상', '', '• 전문지식', '', '-  K8S에서 동작하는 애플리케이션의 CI/CD 구축 및 운영 경험', '', '-  AWS Public Cloud 환경에서 개발 및 운영 경험', '', '-  Docker, Kubernetes 기반 서비스 경험', '', '-  네트워크 및 보안에 대한 이해', '', '-  Java 혹은 Kotlin 기반의 Back-End 개발 경험', '', '-  Spring Framework에 대한 이해 및 개발 경험 (SpringBoot, JPA 개발)', '', '-  RESTful API 설계 및 구현 경험', '', '-  RDBMS 및 NoSQL 개발 경험', '', '-  MSA 환경에서 서비스 개발/운영 경험', '', '- 다양한 Lib 및 Open Source 활용경험 ', '', '- 논리적 사고와 문제 분석 및 해결 능력', '', '- 다양한 분야의 사람들과 협업, 커뮤니케이션 능력']\n",
      "['• 하드웨어를 제어하는데 관심이 많으신 분', '• 기술 표준 R&D에 관심이 많으신 분']\n",
      "['- Spring boot 서버 개발 경험자', '- Rest API 설계 가능자', '- Web security를 잘 이해하고 있는 분', '- 서버, 스토리지, 백업, 로드밸런싱 등 Cloud infraware에 대해 ', '  잘 이해하고 있는 분', '- RDS에 대한 지식이 있고 활용 가능한 분']\n",
      "['• 컴퓨터 공학 또는 관련 분야의 학사 학위 (또는 동등한 실무 경험)를 보유하신 분', '• React.js 및 관련 프론트엔드 기술에 대한 3년 이상의 실무 경험을 보유하신 분', '• 웹 개발에 필요한 JavaScript, HTML, CSS에 대한 깊은 이해와 능숙한 사용 경험을 보유하신 분', '• RESTful API와의 상호작용 경험과 가상자산 거래 관련 API에 대한 높은 이해도를 보유하신 분', '• 사용자 경험을 고려한 반응형 웹 디자인 구현 경험을 보유하신 분', '• 버전 관리 도구(Git 등) 사용 능력을 보유하신 분', '• 팀에서의 협업과 커뮤니케이션 능력을 보유하신 분']\n",
      "['•지리정보체계(GIS), 정밀도로지도 분야에 대한 숙련', '•지도 데이터 및 공간좌표에 대한 수학적 이해', '•컴퓨터 공학, 소프트웨어 공학 및 최적화 알고리즘에 대한 이해', '•소프트웨어 안전성에 대한 이해 및 개발능력', '•관련 전공 석사 이상']\n",
      "{'구매 관리', 'MySQL', 'GPS', 'SONET', '분석 능력', 'ORM', 'NodeJS', '성능 측정', '방화벽', 'PMO', 'DBT', '프로젝트 납품', '모바일 장치', 'SSAS', 'RTP', '네비게이션 시스템', '프로토 타이핑', 'PaaS', 'ASP', '윈도우 프로그래밍', 'GruntJS', '데이터 시각화', '모델링 및 시뮬레이션', '클라우드 보안', 'Java', 'POS', 'Scrum', 'Xamarin', 'Health Information Technology', 'Windows 원격 데스크톱', '정보 보안', 'FMEA', 'SD', 'UX 디자인', 'CRM', '개발', 'MATLAB', 'EMC 규정 준수', 'GIS', '프로세스 개선', 'OLAP', 'Juniper', 'NoSQL', 'SAS', 'OpenCL', 'Unreal Engine', 'EMC Storage', 'NFC', '모터 제어', 'Apple Software', 'AIX', '최적화', '연구 및 개발', 'CCNA', 'Kubernetes', 'RFP', '딥 러닝', 'LiDAR', 'XAML', 'PHPUnit', 'SAP HR', '앱 서버', '임베디드 소프트웨어', '알고리즘 설계', 'CRM 통합', 'JSP', 'React', 'Amazon Web Service', 'Mobile App Design', 'VMware Infrastructure', 'SMS', 'iOS', 'SAP 구현', 'KYC', 'Diagnostic', 'SDLC', 'Github', 'OpenCV', 'HTA', 'Multi Tasking', '정보관리', 'Palantir', '신호 처리', 'DHCP', 'Applicant Tracking System(ATS)', 'Typeform', 'Confluence', 'DOM', '웹사이트', 'SPSS', 'Stata', 'SAP FICO', 'iOS 디자인', 'WPF', '3D 그래픽', 'Adobe Illustrator', 'VR', 'Apache 2', 'Flask', 'WebGL', 'ERP 소프트웨어', 'Bootstrap', 'SPI', 'MS 오피스', 'Powershell', 'RESTful Architecture', '데이터 수집', 'TypeScript', 'Embedded C', '서버 관리', '기술 개발', 'UX', '교육 기술', '그래픽 디자인', '회로 설계', 'RabbitMQ', '알고리즘 개발', 'Next.js', 'RHEL', '인터페이스', 'Go', 'Redux', 'Splunk', '차량', 'CAM', '소켓', '리팩토링', 'FPGA', '병렬 프로그래밍', 'Rhino 3D', 'LIS', '전력전자학', 'TCP', 'CSS3', '구글 API', '3D', '학술 출판', '보안 교육', 'Android', '복제', '라이브러리 관리', '보안 정책', '솔루션 아키텍처', 'CSS', 'BitBucket', '펌웨어', '서비스 디자인', 'WinForm', '분석 개발', 'Mac', 'C++', '고객 관계', '수학', 'WBS', '상품 기획', 'EC2', 'NumPy', 'STP', 'LTE', '전자 공학', '데이터베이스 설계', '리눅스 시스템 관리', 'PKI', 'Apache', 'MDX', '기술 교육', 'QC', 'ObjectiveC', 'SOLR', 'IoT', 'Laravel', 'Microsoft Server', '로봇', 'CentOS', '애자일 방법론', '클라우드 응용 프로그램', 'Perl', 'Flow', 'Sketch', 'WPF 개발', 'DLP', 'iOS 개발', 'Bash', 'HP', 'OOP', 'Maven', 'JavaScript', 'Redis', '네트워크 설계', 'Svelte', 'Tableau', 'ETL 도구', 'FPGA 프로토 타이핑', '도메인 관리', '브랜딩', 'IVR', 'Spring Boot', 'PMP', 'Angular', '품질 보증', '예측 모델링', 'Coroutine', 'Metal', 'GCC', 'ES6', '샘플 관리', 'Adobe Photoshop', '인공 지능', 'ASIC', '생산 계획', 'Visual Studio', '운영 관리', 'Pytorch', 'Axure', 'Zemax', 'Shell', 'Shader', 'Tomcat', 'CISSP', 'CRM 데이터베이스', 'Google Maps', 'AAC', '시스템 관리', 'Django', 'MSSQL', '안드로이드 SDK', 'ML', 'VBA', 'CodeIgniter', 'Clustering', 'ElasticSearch', 'GraphQL', 'Telerik', 'TDD', '비즈니스 분석', 'Children', 'RTL 코딩', 'Spring Framework', 'Retrofit2', 'Framer', 'Qt', '.NET', 'MFC', 'OpenGL', 'BI', 'AutoCAD', '서비스 프로세스', 'ADC', 'HMI', 'Jenkins', 'SSH', 'SciPy', 'Data Analysis', 'Ethereum', 'Notion', 'WebSphere MQ', 'CAN', '기술 관리', 'Redmine', 'Hadoop', 'AngularJS', 'MVC', '카산드라', '무선 통신', 'Spine', 'GIS 시스템', 'Firebase', 'LIN', 'CSS 자바 스크립트', 'RTL 설계', '취약점 스캐닝', '재고 관리', '유지보수', 'Solidworks', 'Windows 서비스', 'JIRA', 'Ruby on Rails', 'Delphi', 'DevOps', '테스트 실행', 'Visual Basic', 'Debian', '보안 운영', '보안 금융', 'Slack', '학술 연구', 'PADS Layout', 'Google Cloud Platform', 'ETL', 'DWDM', '백신', 'GCPs', 'STL', 'MongoDB', 'IIS', '리눅스 서버', 'Asana', 'Microchip PIC', '공공 부문', 'Solaris ', 'Windows 8', '클라우드 스토리지', '통신', 'IPS', '고객 중심', 'JsonAPI', 'Unity3D', '관리', 'PHP', 'QlikView', 'Android Studio', 'Struts', 'ASP .NET', 'Office 365', 'Blockchain', 'API 개발', 'UNIX', '프레젠테이션', 'Google Analytics', 'Google Apps', '서버 아키텍처', '고객 지원', '시스템 통합', 'Linux', '데이터베이스 관리', '데이터베이스', 'Ruby', 'SketchUp', 'jQuery UI', 'ITIL', 'Flash', 'GUI', '서버', 'Git', '네트워크 개발', '.NET Core', 'WebRTC', '컴퓨터 공학', 'CakePHP', '아날로그 회로 설계', '보안 감사', '제안서 작성', '의료 영상', '스토리지 솔루션', 'OpenMP', 'ISO', 'EMR', 'Datastage', 'IntelliJ IDEA', 'Kernel Programming', 'SMTP', 'VDI', '회로 분석', 'Verilog', 'NAS', 'Web Socket', '암호화', 'C', 'IT 관리', '제품 개발', 'Oracle Database', 'SAP MM', '웹 디자인', 'PostgreSQL', 'REST', '프로토콜 개발', 'Google Webmaster Tools', 'CUDA', '웹 개발', 'PCB 레이아웃 설계', 'SQL 서버', 'Entity Framework', 'SSRS', '통계 모델링', 'Perforce', 'Swift', '자동차', 'Raspberry Pi', 'Mixpanel', 'JUnit', 'Servlets', 'ROS', '애자일 프로젝트 관리', '운영체제', 'Communication', 'PLC', '영상', '기술 문서', 'JSTL', 'Asterisk', '3G', '의료 기기', '분석 문제 해결', 'C / C++', 'UDP', '요구 사항 분석', '3D 모델링', 'VM웨어', 'Elixir', 'Adobe XD', 'OSS', '네트워크 관리', '데이터 구조', 'Figma', 'Flutter', 'DB2', 'Akka', 'DNS', 'Amplitude', 'DICOM', 'GIS 응용 프로그램', 'Windows Embedded', 'Excel', 'AUTOSAR', 'EAI', '데이터 분석', 'SAP 포털', 'iBatis', '모바일 게임', '기계 학습 (Machine Learning)', 'VHDL', 'LESS', '시스템 구축', 'WordPress', 'HTML', 'SNMP', '분석능력', 'AR', 'UX 기획', 'PowerBuilder', '검증', '네트워크 엔지니어링', 'SVN', 'Rx', '프로그램 관리', 'Storage', 'TestNG', 'Oracle', 'SSL', 'Oracle SQL', '공차 분석', 'SQLite', '영어 실력', 'MXNET', '전원 엔지니어링', 'Rust', 'I2C', 'FastAPI', '하드웨어', 'BGP', 'CISA', 'SAP BI', '가상화', 'ANSI C', 'VoIP', '네트워크 인프라', '리눅스 커널', 'Sybase', 'Processing', 'RS232', 'SEO', '분석 서비스', '데이터 마트', 'Arduino', 'SQL', 'Shell Scripting', 'Altium', 'API', 'HTTP', 'SASS', 'IT 운영', '프로젝트 관리', 'Nginx', 'SAP ERP', '인버터', 'Xilinx', '임베디드 시스템', 'SAP SD', '데이터 입력', '보안', 'Wordpress Design', 'GLSL', 'UI 디자인', '시스템 구현', '검색 엔진', 'SoC', 'LINQ', 'Kotlin', 'Google Tag Manager', 'User Experience', 'ABAP', 'VPN', 'MMO', 'VueJS', '솔루션 개발', '샘플 준비', 'TCL', '보안 관리', 'Agile', 'Scala', '클라이언트 개발', 'POP 디스플레이', '클라우드 컴퓨팅', '품질 관리', 'RPG', 'NLP', 'AJAX', 'AWS', 'Revit', 'Hilt', 'Azure', 'JSON', '안드로이드 개발', 'Neo4j', '의료 장비', '하드웨어 테스트', 'SAP', 'User Stories', '소프트웨어 개발', '하드웨어 설계', 'SAP FI', 'PADS', 'Xen', 'CCIE', '교육 관리', '서비스 관리', '의료 산업', 'RDBMS', '자연 언어 처리', '모바일 기술', 'Cocoa Touch', 'Product Management ', 'GIMP', 'JPA', 'Spark', 'Apache Spark', '일본어', 'Simulink', 'Python', 'React.js', 'R', '스토리지 영역 네트워크', 'GPU', 'PCB 디자인', 'XHTML', 'B2C', '소프트웨어 검증', 'React Native', 'EDA', 'JSP 개발', 'Cisco', '모바일 게임 개발', '프론트엔드 개발자', 'B2B', 'SCM', 'SSIS', 'GitLab', '네트워크 프로그래밍', 'FTP', 'MIMO', 'Apache Kafka', 'Heroku', 'Windows 서버', 'QA 엔지니어링', 'Trello', 'SAP BW', '네트워크 운영', 'GCP', 'RF', 'Hyperledger', 'HTML5', 'PACS', '설계', 'debugging', 'ERP 구현', '로봇 프로그래밍', '강의', 'EnCase', 'Ubuntu', '모뎀', '레이더', 'Restful API', 'XP', 'Tensorflow', 'C#', 'RESTful WebServices', '카메라', '모델링', 'CTI', '네트워크 보안', 'Power BI', 'Nest.js', 'CCNP', 'XML', 'Gradle', 'MVVM', 'Active Directory', 'Golang', 'Nexacro', 'Oracle RAC', '컴퓨터 비전', 'jQuery', '윈도우 모바일', 'SVG', 'Visual Studio Code', '네트워크 통신', 'Eclipse', '컴파일러', 'RTOS', 'OFDM', 'RAID', 'CAD', 'CMS', 'RTL 검증', '프로젝트 실행', '금융', '회로', 'VB .NET', '자산 관리', 'OTN', '빅 데이터', 'Docker', 'MES', 'Zeplin', 'DART for Publishers', 'Spa', 'DSP', 'CRM 소프트웨어', 'Amazon Redshift', 'Vue.JS', 'OpenStack', '머신 비전', 'ISR', 'HCI', '마이크로프로세서', '백엔드 개발', 'SIP', 'Adobe', 'IP', 'Node.js', 'OAuth', 'Embedded Linux', '반도체', '자동차 전자', 'DirectX', 'DSL', '데이터 통합', '인프라', 'Audit Command Language (ACL)', '제어 시스템 설계', '위성 통신', 'Scikit-Learn', 'ExpressJS', 'SaaS', '전자정부프레임워크', 'Citrix', 'TeamCity', 'ORCAD', 'Xcode'}\n",
      "29385\n",
      "659\n"
     ]
    }
   ],
   "source": [
    "import re\n",
    "\n",
    "with open(\"../data/crawled_data_combined_2000.csv\", encoding=\"utf-8\") as f:\n",
    "    reader = csv.reader(f)\n",
    "    # 태그 하나씩 쪼개서 넣을 리스트 (set으로 중복 제거 전)\n",
    "    qualiList = []\n",
    "    count = 1\n",
    "    # csv 파일 리더로, 한 row씩 읽기\n",
    "    for row in reader:\n",
    "        print(row[7])\n",
    "\n",
    "\n",
    "        if count == 8:\n",
    "            break\n",
    "        # row list의 10번째 element인 tags string을 ''안 단어들로 나눠서 list만들기\n",
    "        # quali = re.findall(r\"'(.*?)'\", row[10])     \n",
    "        # print(row[10])\n",
    "\n",
    "        # 각 줄의 태그를 tagList에 넣는다.\n",
    "        # qualiList += quali\n",
    "\n",
    "\n",
    "        count += 1\n",
    "\n",
    "        \n",
    "    \n",
    "    skillsSet = set(skillsList)\n",
    "    print(skillsSet)\n",
    "    print(len(skillsList))\n",
    "    print(len(skillsSet))"
   ]
  }
 ],
 "metadata": {
  "kernelspec": {
   "display_name": "Python 3",
   "language": "python",
   "name": "python3"
  },
  "language_info": {
   "codemirror_mode": {
    "name": "ipython",
    "version": 3
   },
   "file_extension": ".py",
   "mimetype": "text/x-python",
   "name": "python",
   "nbconvert_exporter": "python",
   "pygments_lexer": "ipython3",
   "version": "3.10.9"
  },
  "orig_nbformat": 4
 },
 "nbformat": 4,
 "nbformat_minor": 2
}
