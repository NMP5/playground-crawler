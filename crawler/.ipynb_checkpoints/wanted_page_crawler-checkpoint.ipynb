{
 "cells": [
  {
   "cell_type": "markdown",
   "id": "21939a40",
   "metadata": {},
   "source": [
    "# 라이브러리 import"
   ]
  },
  {
   "cell_type": "code",
   "execution_count": 2,
   "id": "b2174a81",
   "metadata": {
    "scrolled": true
   },
   "outputs": [],
   "source": [
    "import requests\n",
    "\n",
    "from selenium import webdriver\n",
    "from selenium.webdriver.common.keys import Keys\n",
    "from selenium.webdriver.common.by import By\n",
    "\n",
    "# 페이지 로딩을 기다리는데에 사용할 time 모듈 import\n",
    "import time\n",
    "import re\n",
    "from tqdm import tqdm"
   ]
  },
  {
   "cell_type": "markdown",
   "id": "75a8d87d",
   "metadata": {},
   "source": [
    "# 함수 정의"
   ]
  },
  {
   "cell_type": "code",
   "execution_count": 14,
   "id": "7875db27",
   "metadata": {},
   "outputs": [],
   "source": [
    "def get_url_list():\n",
    "    with open(\"../data/job_fix_list.csv\", encoding='cp949') as f:\n",
    "        urls = f.readlines()\n",
    "\n",
    "#     url_list = []\n",
    "\n",
    "#     for url in urls:\n",
    "#         url_spl = url.rstrip(\"\\n\").split(\",\")\n",
    "\n",
    "#         job = \",\".join(url_spl[:-1]).strip('\"\"')\n",
    "#         url = url_spl[-1]\n",
    "\n",
    "#         url_list.append([job, url])\n",
    "\n",
    "    url_list = [url.rstrip(\"\\n\") for url in urls]\n",
    "    \n",
    "    return url_list\n",
    "\n",
    "def get_job_description(driver, url):\n",
    "    \n",
    "    # Job Description 을 담을 딕셔너리 생성\n",
    "    res = {}\n",
    "    \n",
    "    response = requests.get(url)\n",
    "    \n",
    "    if response.status_code == 200:\n",
    "        try:\n",
    "            \n",
    "            # url 접속하기\n",
    "            driver.get(url)\n",
    "\n",
    "            # 화면 비율을 축소해서 모든 데이터 보이게 만들기\n",
    "            driver.execute_script(\"document.body.style.zoom='10%'\")\n",
    "\n",
    "            time.sleep(5)\n",
    "\n",
    "            # url 에서 index 값 추출\n",
    "            res['id'] = url.split(\"/\")[-1]\n",
    "\n",
    "            # JobHeader 클래스 가져와서 title, company, tags 추출\n",
    "            job_header = driver.find_element(By.CLASS_NAME, 'JobHeader_className__HttDA')\n",
    "            title = job_header.find_element(By.TAG_NAME, 'h2')\n",
    "            company = job_header.find_element(By.TAG_NAME, 'a')\n",
    "            location = job_header.find_element(By.CLASS_NAME, 'JobHeader_pcLocationContainer__xRwIv')\n",
    "            tags = job_header.find_element(By.CLASS_NAME, 'Tags_tagsClass__mvehZ')\n",
    "\n",
    "            # res 딕셔너리에 저장\n",
    "            res['title'] = title.text\n",
    "            res['company'] = company.text\n",
    "            res['location'] = location.text.split(\".\")\n",
    "\n",
    "            # Tag 리스트 가져와서 저장\n",
    "            tag_list = list(map(str, tags.text.split('#')))\n",
    "            tag_list = tag_list[1:]\n",
    "            res['tags'] = tag_list\n",
    "\n",
    "            # JobDescription 클래스 가져와서 header, contents 추출\n",
    "            jd = driver.find_element(By.CLASS_NAME, 'JobDescription_JobDescription__VWfcb')\n",
    "            jd_header = jd.find_elements(By.TAG_NAME, 'h6')\n",
    "            jd_contents = jd.find_elements(By.TAG_NAME, 'p')\n",
    "\n",
    "            for i in range(1, len(jd_header)+1):\n",
    "                title = jd_header[i-1].text\n",
    "                content = jd_contents[i].text.split(\"\\n\")\n",
    "\n",
    "                if title == '자격요건':\n",
    "                    res['qualifications'] = content\n",
    "                elif title == '우대사항':\n",
    "                    res['preferred'] = content\n",
    "                elif title == '혜택 및 복지':\n",
    "                    res[\"benefits\"] = content\n",
    "                elif title == '기술스택 ・ 툴':\n",
    "                    res[\"skills\"] = content\n",
    "\n",
    "\n",
    "            jwp = driver.find_element(By.CLASS_NAME, \"JobWorkPlace_className__ra6rp\")\n",
    "            jwp_bodies = jwp.find_elements(By.CLASS_NAME, 'body')\n",
    "\n",
    "            if len(jwp_bodies) < 2:\n",
    "                workplace = \"\"\n",
    "            else:\n",
    "                workplace = jwp_bodies[1].text\n",
    "\n",
    "            res['workplace'] = workplace\n",
    "        except NoSuchElementException:\n",
    "            print(\"존재하지 않는 페이지 입니다.\")\n",
    "    else:\n",
    "        print(\"존재하지 않는 페이지 입니다.\")\n",
    "        print(\"res = \", res)\n",
    "    \n",
    "    return res"
   ]
  },
  {
   "cell_type": "markdown",
   "id": "d5eb044c",
   "metadata": {},
   "source": [
    "# 크롤링 실행"
   ]
  },
  {
   "cell_type": "code",
   "execution_count": null,
   "id": "8cbbb6ae",
   "metadata": {
    "scrolled": false
   },
   "outputs": [
    {
     "name": "stderr",
     "output_type": "stream",
     "text": [
      "  0%|▏                                                                                                     | 1/500 [00:09<1:22:01,  9.86s/it]"
     ]
    },
    {
     "name": "stdout",
     "output_type": "stream",
     "text": [
      "{'id': '87360', 'title': '리모콘 개발 분야 전문가', 'company': '에스케이브로드밴드(SK브로드밴드)', 'location': ['서울', '한국'], 'tags': ['연봉상위1%', '인원성장', '퇴사율5%이하', '1,001~10,000명', '설립10년이상', '의료비', '통신비', 'IT, 컨텐츠'], 'qualifications': ['• 학력 : 정규 4년제 대학 졸업자 또는 동등 수준 교육 이수자', '', '• 경력', '   - 리모콘 개발 및 양산 경험', '   - 안드로이드 Bluetooth Stack, Device Driver, Application 등 S/W 개발 경험', '   - STB, TV용 리모콘 정합 및 BT Profile(w/ Voice) 개발 경험', '   - Realtek, Qualcomm등 BT Chip 경험', '   - 리모콘 품질 개선 및 VOC 대응 경험', '', '• 역량/지식/자격증', '   - Bluetooth 기술 및 표준 규격에 대한 이해', '   - 신규 리모콘 서비스 기획 및 설계 능력', '   - 리모콘 Firmware 개발 및 S/W 디버깅 능력 (C/C++, RTOS)', '   - Android 환경의 디버깅 능력', '   - 가전제품 적외선(IR) 통신 방식에 대한 이해', '   - S/W, H/W, 기구 등 다양한 VOC에 대한 품질 개선 능력'], 'preferred': ['• 프로젝트 전체 PM 역할 경험 우대', '• Bluetooth Protocol Viewer 운용 경험', '• 해외 업체 발굴 및 협업 경험 우대'], 'benefits': ['• 비포괄임금제 및 선택적 근로시간제 (10시 ~ 15시 핵심근무시간)', '• 선택적 복리후생비 320만원/년', '• 연차휴가 외 특별휴가 6일/년, 기념일휴가 1일/년', '• 무선통신비 12만원/월 지원 및 유선통신비 할인', '• 복지연금 15만원/월 지원', '• 그 외 의료비지원, 자녀학자금, 주택자금대출 등 업계 최고의 복리후생 보유'], 'workplace': '서울 중구 퇴계로 24 SK남산빌딩'}\n"
     ]
    },
    {
     "name": "stderr",
     "output_type": "stream",
     "text": [
      "\r",
      "  0%|▍                                                                                                     | 2/500 [00:19<1:18:44,  9.49s/it]"
     ]
    },
    {
     "name": "stdout",
     "output_type": "stream",
     "text": [
      "{'id': '145023', 'title': '플랫폼전략 모바일 iOS App개발', 'company': '코콤', 'location': ['서울', '한국'], 'tags': ['자기계발', 'IT, 컨텐츠'], 'qualifications': ['• 초대졸 이상', '• 경력(3년이상)'], 'preferred': ['•  정보처리기사'], 'benefits': ['• 주5일근무, 연차, 경조휴가', '• 4대 보험, 자기계발지원', '• 인센티브, 우수사원/ 장기근속 포상, 퇴직금, 퇴직연금', '• 구내식당, 중고등학자금 지원, 대학학자금 지원', '• 휴양시설 지원'], 'skills': ['React', 'HTML', 'JavaScript'], 'workplace': '서울특별시 강서구 마곡중앙8로 5길 16'}\n"
     ]
    },
    {
     "name": "stderr",
     "output_type": "stream",
     "text": [
      "\r",
      "  1%|▌                                                                                                     | 3/500 [00:25<1:06:28,  8.02s/it]"
     ]
    },
    {
     "name": "stdout",
     "output_type": "stream",
     "text": [
      "{'id': '152815', 'title': '시니어 프론트엔드 개발 및 운영', 'company': '아이트럭', 'location': ['서울', '한국'], 'tags': ['인원급성장', '퇴사율 6~10%', '50명이하', '설립3년이하', '스타트업', '음료', '커피', '간식', 'IT, 컨텐츠'], 'qualifications': ['• React, Vue, Angular 등 SPA 프레임워크 사용에 능숙하신 분을 찾습니다.', '• HTML, CSS, JavaScript에 대한 이해가 깊은 분을 찾습니다.', '• React Native를 이용한 크로스 플랫폼 앱개발에 경험이 있으신 분', '• UI/UX에 대해 높은 가치를 두고 있는 분을 찾습니다.', '• Git 등의 분산 버전 관리 시스템 이용에 능숙한 분을 찾습니다.'], 'preferred': ['• TypeScript, Flow를 이용한 JavaScript 정적 타입 분석 경험이 있는 분이면 좋습니다.', '• 서버 사이드 렌더링(SSR, Next.js) 개발 경험이 있는 분이면 좋습니다.', '• 반응형 디자인,  웹 표준을 고려한 UI 개발 경험이 있는 분이면 좋습니다.', '• React Native에서 사용 가능한 플랫폼 별 (Android, iOS) Native Module 개발 경험이 있는 분', '• 테스트 및 배포 자동화 경험이 있는 분이면 좋습니다.', '• 백엔드 개발 경험이 있거나 백엔드 개발 관련(Node.js, Database, RESTful API 등) 이해도가 있으신 분', '• 컴퓨터공학, 수학 등 유사관련 전공자이신 분', '• 새로운 기술 습득과 지식 공유에 즐거움을 느끼시는 분', '• 코드 개선 및 코드 리뷰에 적극 참여하시는 분', '• 웹 서비스 성능 개선 경험 및 노하우가 있으신 분'], 'benefits': ['ㆍ식사 지원', 'ㆍ필요한 도서, 강의, 세미나 및 컨퍼런스 참가비 지원', 'ㆍ4대보험, 경조사 지원', 'ㆍ주도적인 업무 환경', 'ㆍ향후 성과에 따른 확실한 보상', 'ㆍ청년내일채움공제 등 지원해 드릴 수 있는 모든 제도'], 'workplace': '서울특별시 서초구 동작대로 230, 10층(방배동,화련회관)'}\n"
     ]
    }
   ],
   "source": [
    "driver = webdriver.Chrome()\n",
    "\n",
    "# url 가져오기\n",
    "url_list = get_url_list()\n",
    "\n",
    "total = []\n",
    "\n",
    "for i in tqdm(range(1000, 1500)):\n",
    "    res = get_job_description(driver, url_list[i])\n",
    "    # res = get_job_description(driver, \"https://www.wanted.co.kr/wd/1\")\n",
    "    \n",
    "    if len(res) == 0:\n",
    "        print(\"존재하지 않는 페이지 입니다.\")\n",
    "        continue\n",
    "    else:\n",
    "        total.append(res)\n",
    "\n",
    "driver.quit()"
   ]
  },
  {
   "cell_type": "code",
   "execution_count": null,
   "id": "5b8cd01c",
   "metadata": {},
   "outputs": [],
   "source": []
  },
  {
   "cell_type": "markdown",
   "id": "f08b7f46",
   "metadata": {},
   "source": [
    "# 크롤링 결과 및 확인"
   ]
  },
  {
   "cell_type": "code",
   "execution_count": null,
   "id": "cc6221b0",
   "metadata": {
    "scrolled": false
   },
   "outputs": [],
   "source": [
    "print(total[0])\n",
    "\n",
    "key_list = [key for key in total[0].keys()]\n",
    "print(key_list)"
   ]
  },
  {
   "cell_type": "markdown",
   "id": "cef5dbb9",
   "metadata": {},
   "source": [
    "# 결과 csv 파일로 저장하기"
   ]
  },
  {
   "cell_type": "code",
   "execution_count": null,
   "id": "774704d9",
   "metadata": {},
   "outputs": [],
   "source": [
    "import csv\n",
    "\n",
    "with open('/Users/jhnam/workspace/playground-data/crawler/output/wanted_crawling_output_3.csv', 'w', encoding='UTF-8') as f:\n",
    "    # csv 파일의 헤더 설정\n",
    "    header = ['id', 'title', 'company', 'location', 'tags', 'qualifications', 'preferred', 'benefits', 'skills', 'workplace']\n",
    "\n",
    "    # 헤더 적용\n",
    "    writer = csv.DictWriter(f, fieldnames=header)\n",
    "    writer.writeheader()\n",
    "    \n",
    "    # 헤더에 맞게 딕셔너리 값 입력\n",
    "    for jd in total:\n",
    "        writer.writerow(jd)"
   ]
  },
  {
   "cell_type": "code",
   "execution_count": null,
   "id": "c93e4998",
   "metadata": {},
   "outputs": [],
   "source": []
  },
  {
   "cell_type": "markdown",
   "id": "0efbe139",
   "metadata": {},
   "source": [
    "# 전처리 (진행중)"
   ]
  },
  {
   "cell_type": "code",
   "execution_count": null,
   "id": "613a6da1",
   "metadata": {},
   "outputs": [],
   "source": [
    "import re\n",
    "import nltk\n",
    "from nltk.tokenize import word_tokenize\n",
    "from nltk.tag import pos_tag\n",
    "\n",
    "nltk.download('punkt')\n",
    "nltk.download('averaged_perceptron_tagger')\n",
    "\n",
    "\n",
    "exception_list = ['를', '를', '를', '을', '을', '있거나', '있으신', '갖추신', '경험이', '이상의', '에', '에', '에', '에', '에', '이용한', '에', '에', '에', '준하는', '에', '있으신', '에', '에', '에', '중심적인', '에', '에', '이해를', '에', '대한', '및', '가지고', '전반적인', '에']\n",
    "\n",
    "# 텍스트 정의\n",
    "contents = \"• 6년 이상의 백엔드 개발 경력이 있거나 그에 준하는 실력을 갖추신 분\\n• JavaScript / TypeScript 를 이용한 개발에 능숙하신 분\\n• 웹 서비스에 대한 전반적인 이해를 갖추신 분\\n• RDB(Postgres) 및 ORM에 대한 전반적인 이해를 갖추신 분\\n• 도커, 쿠버네티스 등 컨테이너 기반의 서비스에 대한 경험이 있으신 분\\n• 1년 이상의 NestJS 실무 프로젝트 개발 경험이 있으신 분\\n• 모듈화, 테스트, 유지보수가 용이한 코드에 대한 이해를 갖추고 계신 분\\n• 기술 중심이 아닌 유저 중심적인 태도를 가지고 계신 분\\n• 배움에 대한 열정을 갖고, 지속적이고 효과적으로 피드백을 주고 받는 분\"\n",
    "\n",
    "# 특수문자 제거\n",
    "contents = re.sub(r'[^\\w\\s]', '', contents)\n",
    "\n",
    "# 단어 토큰화\n",
    "tokens = word_tokenize(contents)\n",
    "\n",
    "# 품사 태깅\n",
    "tagged_words = pos_tag(tokens)\n",
    "\n",
    "# 명사 추출 (동사 및 불용어 제외)\n",
    "nouns = [word for word, pos in tagged_words if pos.startswith('N') and not pos.startswith('V') and word.lower() not in exception_list]\n",
    "\n",
    "# 중복 제거\n",
    "nouns = list(set(nouns))\n",
    "\n",
    "# 결과 출력\n",
    "print(nouns)"
   ]
  },
  {
   "cell_type": "code",
   "execution_count": null,
   "id": "2e74ffdb",
   "metadata": {},
   "outputs": [],
   "source": []
  }
 ],
 "metadata": {
  "kernelspec": {
   "display_name": "Python 3 (ipykernel)",
   "language": "python",
   "name": "python3"
  },
  "language_info": {
   "codemirror_mode": {
    "name": "ipython",
    "version": 3
   },
   "file_extension": ".py",
   "mimetype": "text/x-python",
   "name": "python",
   "nbconvert_exporter": "python",
   "pygments_lexer": "ipython3",
   "version": "3.9.16"
  },
  "toc": {
   "base_numbering": 1,
   "nav_menu": {},
   "number_sections": true,
   "sideBar": true,
   "skip_h1_title": false,
   "title_cell": "Table of Contents",
   "title_sidebar": "Contents",
   "toc_cell": false,
   "toc_position": {},
   "toc_section_display": true,
   "toc_window_display": false
  }
 },
 "nbformat": 4,
 "nbformat_minor": 5
}
