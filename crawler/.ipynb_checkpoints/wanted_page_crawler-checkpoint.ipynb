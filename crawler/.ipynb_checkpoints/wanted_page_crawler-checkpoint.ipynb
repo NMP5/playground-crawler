{
 "cells": [
  {
   "cell_type": "code",
   "execution_count": 12,
   "id": "b2174a81",
   "metadata": {
    "scrolled": true
   },
   "outputs": [],
   "source": [
    "from selenium import webdriver\n",
    "from selenium.webdriver.common.keys import Keys\n",
    "from selenium.webdriver.common.by import By\n",
    "# 페이지 로딩을 기다리는데에 사용할 time 모듈 import\n",
    "import time\n",
    "import re"
   ]
  },
  {
   "cell_type": "code",
   "execution_count": 15,
   "id": "7875db27",
   "metadata": {},
   "outputs": [],
   "source": [
    "def get_url_list():\n",
    "    with open(\"./wd_link\") as f:\n",
    "        urls = f.readlines()\n",
    "    \n",
    "    urls = [url.rstrip('\\n') for url in urls]\n",
    "    \n",
    "    return urls\n",
    "\n",
    "def get_job_description(driver, url):\n",
    "    driver.get(url)\n",
    "    time.sleep(3)\n",
    "    \n",
    "    res = {}\n",
    "    \n",
    "    # JobHeader 클래스 가져와서 title, company 추출\n",
    "    job_header = driver.find_element(By.CLASS_NAME, 'JobHeader_className__HttDA')\n",
    "    title = job_header.find_element(By.TAG_NAME, 'h2')\n",
    "    company = job_header.find_element(By.TAG_NAME, 'a')\n",
    "    \n",
    "    # res 딕셔너리에 저장\n",
    "    res['title'] = title.text\n",
    "    res['company'] = company.text\n",
    "\n",
    "    # JobDescription 클래스 가져와서 header, contents 추출\n",
    "    jd = driver.find_element(By.CLASS_NAME, 'JobDescription_JobDescription__VWfcb')\n",
    "    jd_header = jd.find_elements(By.TAG_NAME, 'h6')\n",
    "    jd_contents = jd.find_elements(By.TAG_NAME, 'p')\n",
    "\n",
    "    for i in range(1, len(jd_header)+1):\n",
    "        title = jd_header[i-1].text\n",
    "        content = jd_contents[i].text\n",
    "    \n",
    "        if title == '자격요건':\n",
    "            res['qualifications'] = content\n",
    "        elif title == '우대사항':\n",
    "            res['preferred'] = content\n",
    "            break\n",
    "\n",
    "        elif title == '기술스택 ・ 툴':\n",
    "            skill_list = content.split(\"\\n\")\n",
    "            res[\"skills\"] = skill_list\n",
    "        \n",
    "    return res"
   ]
  },
  {
   "cell_type": "code",
   "execution_count": 17,
   "id": "8cbbb6ae",
   "metadata": {
    "scrolled": false
   },
   "outputs": [
    {
     "name": "stdout",
     "output_type": "stream",
     "text": [
      "0 보안 기술 엔지니어\n",
      "1 Backend 개발팀 시니어 개발자 (6년 이상)\n",
      "2 솔루션 운영 엔지니어 (국내)\n"
     ]
    },
    {
     "ename": "KeyboardInterrupt",
     "evalue": "",
     "output_type": "error",
     "traceback": [
      "\u001b[0;31m---------------------------------------------------------------------------\u001b[0m",
      "\u001b[0;31mKeyboardInterrupt\u001b[0m                         Traceback (most recent call last)",
      "Cell \u001b[0;32mIn[17], line 10\u001b[0m\n\u001b[1;32m      7\u001b[0m cnt \u001b[38;5;241m=\u001b[39m \u001b[38;5;241m0\u001b[39m\n\u001b[1;32m      9\u001b[0m \u001b[38;5;28;01mfor\u001b[39;00m url \u001b[38;5;129;01min\u001b[39;00m urls:\n\u001b[0;32m---> 10\u001b[0m     res \u001b[38;5;241m=\u001b[39m \u001b[43mget_job_description\u001b[49m\u001b[43m(\u001b[49m\u001b[43mdriver\u001b[49m\u001b[43m,\u001b[49m\u001b[43m \u001b[49m\u001b[43murl\u001b[49m\u001b[43m)\u001b[49m\n\u001b[1;32m     11\u001b[0m     \u001b[38;5;28mprint\u001b[39m(cnt, res[\u001b[38;5;124m'\u001b[39m\u001b[38;5;124mtitle\u001b[39m\u001b[38;5;124m'\u001b[39m])\n\u001b[1;32m     12\u001b[0m     total\u001b[38;5;241m.\u001b[39mappend(res)\n",
      "Cell \u001b[0;32mIn[15], line 11\u001b[0m, in \u001b[0;36mget_job_description\u001b[0;34m(driver, url)\u001b[0m\n\u001b[1;32m      9\u001b[0m \u001b[38;5;28;01mdef\u001b[39;00m \u001b[38;5;21mget_job_description\u001b[39m(driver, url):\n\u001b[1;32m     10\u001b[0m     driver\u001b[38;5;241m.\u001b[39mget(url)\n\u001b[0;32m---> 11\u001b[0m     \u001b[43mtime\u001b[49m\u001b[38;5;241;43m.\u001b[39;49m\u001b[43msleep\u001b[49m\u001b[43m(\u001b[49m\u001b[38;5;241;43m3\u001b[39;49m\u001b[43m)\u001b[49m\n\u001b[1;32m     13\u001b[0m     res \u001b[38;5;241m=\u001b[39m {}\n\u001b[1;32m     15\u001b[0m     \u001b[38;5;66;03m# JobHeader 클래스 가져와서 title, company 추출\u001b[39;00m\n",
      "\u001b[0;31mKeyboardInterrupt\u001b[0m: "
     ]
    }
   ],
   "source": [
    "driver = webdriver.Chrome()\n",
    "\n",
    "urls = get_url_list()\n",
    "\n",
    "total = []\n",
    "\n",
    "cnt = 1\n",
    "\n",
    "for url in urls:\n",
    "    res = get_job_description(driver, url)\n",
    "    print(cnt, res['title'])\n",
    "    total.append(res)\n",
    "    cnt += 1\n",
    "        \n",
    "driver.close()"
   ]
  },
  {
   "cell_type": "code",
   "execution_count": 98,
   "id": "6a47bb90",
   "metadata": {},
   "outputs": [
    {
     "name": "stdout",
     "output_type": "stream",
     "text": [
      "[{'title': '보안 기술 엔지니어', 'company': '아인시스에이아이랩', 'qualification': '• IDS/IPS 사고분석 경력을 1년 이상 보유하신 분', 'preferential_treatments': '• 전산학, 컴퓨터공학을 전공하신 분 \\n• 보안 장비 프로젝트를 경험해보신 분\\n• 보안/네트워크 관련 자격증을 소지하신 분'}, {'title': 'Backend 개발팀 시니어 개발자 (6년 이상)', 'company': '모던라이언', 'qualification': '• 6년 이상의 백엔드 개발 경력이 있거나 그에 준하는 실력을 갖추신 분\\n• JavaScript / TypeScript 를 이용한 개발에 능숙하신 분\\n• 웹 서비스에 대한 전반적인 이해를 갖추신 분\\n• RDB(Postgres) 및 ORM에 대한 전반적인 이해를 갖추신 분\\n• 도커, 쿠버네티스 등 컨테이너 기반의 서비스에 대한 경험이 있으신 분\\n• 1년 이상의 NestJS 실무 프로젝트 개발 경험이 있으신 분\\n• 모듈화, 테스트, 유지보수가 용이한 코드에 대한 이해를 갖추고 계신 분\\n• 기술 중심이 아닌 유저 중심적인 태도를 가지고 계신 분\\n• 배움에 대한 열정을 갖고, 지속적이고 효과적으로 피드백을 주고 받는 분', 'preferential_treatments': '• 하나 이상의 백엔드 서비스나 플랫폼을 직접 설계 및 개발한 경험이 있는 분\\n• NestJS, TypeORM, Ethers 등의 라이브러리 사용 경험이 있는 분\\n• 사용자 인증과 인가 방식에 대한 설계 및 구현 경험이 있는 분\\n• 블록체인과 NFT 도메인에 대한 이해가 있으며, 관련 개발에 경험이 있으신 분\\n• 피그마로 제작된 UI / UX 기반으로 기획자와 협업 경험이 있으신 분'}, {'title': '솔루션 운영 엔지니어 (국내)', 'company': '스콥정보통신', 'qualification': '• 학력 : 초대졸 이상\\n• 전공 : 무관\\n• 경력 : 5년 이상\\n\\n• 네트워크 및 보안 관련 업무경력\\n• NAC, IP관리 솔루션 운영 경험자\\n• Network L2,L3 운영 경험자\\n• 서버 / DB설치 지식 보유자', 'preferential_treatments': '• 컨설팅 관련 업무 경력\\n• 동종업계 제조사 엔지니어'}, {'title': 'Cyber Security Manager (Automotive)', 'company': '럭스소프트코리아', 'qualification': '• Experience with creating and managing Security Architecture and/or Solution Architecture\\n• Proven work experience in-Vehicle Cyber Security\\n• Threat modelling and vulnerability analysis\\n• Risk assessment/management experience, including threat identification, risk assessment and mitigation as well as vulnerability management and tracking\\n• Strong software security expertise, including familiarity with Secure Software Development Lifecycle, SAST, Threat Modelling, and Penetration testing concepts\\n• Experience and ability to perform Threat modelling for automotive software projects\\n• Understanding of automotive security standards and guidelines (ISO 21434, SAE J3061 and others)\\n• Familiarity with safety requirements set towards automotive software solutions (ISO 26262:2018)', 'preferential_treatments': '• Security certification is a plus (CISSP, CRISC, CISA, CISSP-ISSAP)\\n• Experience in managing cyber security in automotive projects\\n• Technical IT-related degree or equivalent qualification\\n• Consulting experience'}, {'title': 'Digital 회로설계 개발자', 'company': '테스콤', 'qualification': '• 전자회로 기초이론 이해 및 설계 능력\\n• High Speed Digital 회로 설계 능력\\n• 영어 문서를 읽고 이해하는 능력', 'preferential_treatments': '통신공학, 전자공학, 정보통신 공학 전공자'}, {'title': 'NVR, VMS 설계 및 개발자', 'company': '에이클시스템', 'qualification': '• C++ 프로그래밍 능력\\n• NVR, VMS 연구 설계 및 개발 경력', 'preferential_treatments': '• AI 영상분석 개발 경험\\n• 정보처리기사 자격증 소지'}, {'title': 'Software Engineer (Frontend)', 'company': '언베일드', 'qualification': '- React 및 HTML/CSS 경험 (layout, specificity, cross browser compatibility, accessibility 등) 3년 이상\\n- 브라우저 API 및 프론트엔드 성능 최적화 관련 경험 3년 이상', 'preferential_treatments': '- Web3.js 사용 경험\\n- 블록체인 애플리케이션 및 dApp에 대한 기본적인 이해\\n- 오픈 소스 프로젝트에 기여한 경험'}, {'title': '프론트엔드 개발자 (3년 이상)', 'company': '스마트잭', 'qualification': '• 프론트 개발 경력 3년 이상 이신 분\\n• Vue.js, Javascript(ES6+) 개발에 능숙하신 분\\n• Git에 대한 이해 및 소스 코드 관리 경험이 있으신 분', 'preferential_treatments': '• Mobile Web 기반 하이브리드 App  프로젝트 경험자 (Flutter)\\n• 프로젝트 리딩 경험자\\n• Node.js, express.js 경험자\\n• Typescript 개발 경험자\\n• AWS 환경에서 서비스 운영 및 배포 경험자\\n• 대규모 서비스 설계 및 개발 경험자'}]\n"
     ]
    }
   ],
   "source": [
    "print(total)"
   ]
  },
  {
   "cell_type": "code",
   "execution_count": 89,
   "id": "315aa9e0",
   "metadata": {},
   "outputs": [
    {
     "name": "stdout",
     "output_type": "stream",
     "text": [
      "['Web3', 'js', '사용', '경험', '블록체인', '애플리케이션', '및', 'dApp에', '대한', '기본적인', '이해', '오픈', '소스', '프로젝트에', '기여한', '경험']\n"
     ]
    }
   ],
   "source": [
    "import re\n",
    "\n",
    "# [word].[word] 형식의 단어 처리\n",
    "cleaned_list = []\n",
    "for word in word_list:\n",
    "    if re.match(r'^\\w+\\.\\w+$', word):\n",
    "        combined_word = word.replace('.', '')\n",
    "        cleaned_list.append(combined_word)\n",
    "    else:\n",
    "        cleaned_list.extend(re.findall(r'\\b\\w+\\b', word))\n",
    "\n",
    "print(cleaned_list)"
   ]
  },
  {
   "cell_type": "code",
   "execution_count": 2,
   "id": "c3968ae5",
   "metadata": {
    "scrolled": true
   },
   "outputs": [
    {
     "name": "stdout",
     "output_type": "stream",
     "text": [
      "• 전산학, 컴퓨터공학을 전공하신 분 \n",
      "• 보안 장비 프로젝트를 경험해보신 분\n",
      "• 보안/네트워크 관련 자격증을 소지하신 분\n"
     ]
    }
   ],
   "source": [
    "contents = \"• 전산학, 컴퓨터공학을 전공하신 분 \\n• 보안 장비 프로젝트를 경험해보신 분\\n• 보안/네트워크 관련 자격증을 소지하신 분\"\n",
    "print(contents)"
   ]
  },
  {
   "cell_type": "code",
   "execution_count": 15,
   "id": "613a6da1",
   "metadata": {},
   "outputs": [
    {
     "name": "stdout",
     "output_type": "stream",
     "text": [
      "['아닌', '피드백을', '기반의', '태도를', '서비스에', '프로젝트', '개발에', '개발', '능숙하신', '갖추고', '웹', 'NestJS', '테스트', '코드에', '그에', '용이한', 'JavaScript', '중심이', '지속적이고', '기술', 'TypeScript', '모듈화', '실력을', '열정을', '도커', 'ORM에', '갖고', '받는', '계신', '효과적으로', '경력이', '백엔드', '컨테이너', '배움에', '분', '유저', '쿠버네티스', '등', '실무', '주고', 'RDBPostgres', '유지보수가']\n"
     ]
    },
    {
     "name": "stderr",
     "output_type": "stream",
     "text": [
      "[nltk_data] Downloading package punkt to /Users/jhnam/nltk_data...\n",
      "[nltk_data]   Package punkt is already up-to-date!\n",
      "[nltk_data] Downloading package averaged_perceptron_tagger to\n",
      "[nltk_data]     /Users/jhnam/nltk_data...\n",
      "[nltk_data]   Package averaged_perceptron_tagger is already up-to-\n",
      "[nltk_data]       date!\n"
     ]
    }
   ],
   "source": [
    "import re\n",
    "import nltk\n",
    "from nltk.tokenize import word_tokenize\n",
    "from nltk.tag import pos_tag\n",
    "\n",
    "nltk.download('punkt')\n",
    "nltk.download('averaged_perceptron_tagger')\n",
    "\n",
    "\n",
    "exception_list = ['를', '를', '를', '을', '을', '있거나', '있으신', '갖추신', '경험이', '이상의', '에', '에', '에', '에', '에', '이용한', '에', '에', '에', '준하는', '에', '있으신', '에', '에', '에', '중심적인', '에', '에', '이해를', '에', '대한', '및', '가지고', '전반적인', '에']\n",
    "\n",
    "# 텍스트 정의\n",
    "contents = \"• 6년 이상의 백엔드 개발 경력이 있거나 그에 준하는 실력을 갖추신 분\\n• JavaScript / TypeScript 를 이용한 개발에 능숙하신 분\\n• 웹 서비스에 대한 전반적인 이해를 갖추신 분\\n• RDB(Postgres) 및 ORM에 대한 전반적인 이해를 갖추신 분\\n• 도커, 쿠버네티스 등 컨테이너 기반의 서비스에 대한 경험이 있으신 분\\n• 1년 이상의 NestJS 실무 프로젝트 개발 경험이 있으신 분\\n• 모듈화, 테스트, 유지보수가 용이한 코드에 대한 이해를 갖추고 계신 분\\n• 기술 중심이 아닌 유저 중심적인 태도를 가지고 계신 분\\n• 배움에 대한 열정을 갖고, 지속적이고 효과적으로 피드백을 주고 받는 분\"\n",
    "\n",
    "# 특수문자 제거\n",
    "contents = re.sub(r'[^\\w\\s]', '', contents)\n",
    "\n",
    "# 단어 토큰화\n",
    "tokens = word_tokenize(contents)\n",
    "\n",
    "# 품사 태깅\n",
    "tagged_words = pos_tag(tokens)\n",
    "\n",
    "# 명사 추출 (동사 및 불용어 제외)\n",
    "nouns = [word for word, pos in tagged_words if pos.startswith('N') and not pos.startswith('V') and word.lower() not in exception_list]\n",
    "\n",
    "# 중복 제거\n",
    "nouns = list(set(nouns))\n",
    "\n",
    "# 결과 출력\n",
    "print(nouns)"
   ]
  },
  {
   "cell_type": "code",
   "execution_count": 99,
   "id": "774704d9",
   "metadata": {},
   "outputs": [],
   "source": [
    "import csv\n",
    "\n",
    "with open('//Users/jhnam/workspace/dummy/wanted_crawling_data.csv', 'w', encoding='UTF-8') as f:\n",
    "    # csv 파일의 헤더 설정\n",
    "    header = ['title', 'company', 'qualifications', 'preferred', 'skills']\n",
    "\n",
    "    # 헤더 적용\n",
    "    writer = csv.DictWriter(f, fieldnames=header)\n",
    "    writer.writeheader()\n",
    "    \n",
    "    # 헤더에 맞게 딕셔너리 값 입력\n",
    "    for jd in total:\n",
    "        writer.writerow(jd)"
   ]
  }
 ],
 "metadata": {
  "kernelspec": {
   "display_name": "Python 3 (ipykernel)",
   "language": "python",
   "name": "python3"
  },
  "language_info": {
   "codemirror_mode": {
    "name": "ipython",
    "version": 3
   },
   "file_extension": ".py",
   "mimetype": "text/x-python",
   "name": "python",
   "nbconvert_exporter": "python",
   "pygments_lexer": "ipython3",
   "version": "3.9.16"
  },
  "toc": {
   "base_numbering": 1,
   "nav_menu": {},
   "number_sections": true,
   "sideBar": true,
   "skip_h1_title": false,
   "title_cell": "Table of Contents",
   "title_sidebar": "Contents",
   "toc_cell": false,
   "toc_position": {},
   "toc_section_display": true,
   "toc_window_display": false
  }
 },
 "nbformat": 4,
 "nbformat_minor": 5
}
