{
 "cells": [
  {
   "cell_type": "markdown",
   "id": "21939a40",
   "metadata": {},
   "source": [
    "# 라이브러리 import"
   ]
  },
  {
   "cell_type": "code",
   "execution_count": 3,
   "id": "b2174a81",
   "metadata": {
    "scrolled": true
   },
   "outputs": [],
   "source": [
    "import requests\n",
    "\n",
    "from selenium import webdriver\n",
    "from selenium.webdriver.common.keys import Keys\n",
    "from selenium.webdriver.common.by import By\n",
    "\n",
    "# 페이지 로딩을 기다리는데에 사용할 time 모듈 import\n",
    "import time\n",
    "import re\n",
    "from tqdm import tqdm"
   ]
  },
  {
   "cell_type": "markdown",
   "id": "75a8d87d",
   "metadata": {},
   "source": [
    "# 함수 정의"
   ]
  },
  {
   "cell_type": "code",
   "execution_count": 5,
   "id": "7875db27",
   "metadata": {},
   "outputs": [],
   "source": [
    "def get_url_list():\n",
    "    with open(\"../data/job_fix_list.csv\", encoding='cp949') as f:\n",
    "        urls = f.readlines()\n",
    "\n",
    "#     url_list = []\n",
    "\n",
    "#     for url in urls:\n",
    "#         url_spl = url.rstrip(\"\\n\").split(\",\")\n",
    "\n",
    "#         job = \",\".join(url_spl[:-1]).strip('\"\"')\n",
    "#         url = url_spl[-1]\n",
    "\n",
    "#         url_list.append([job, url])\n",
    "\n",
    "    url_list = [url.rstrip(\"\\n\") for url in urls]\n",
    "    \n",
    "    return url_list\n",
    "\n",
    "def get_job_description(driver, url):\n",
    "    \n",
    "    response = requests.get(url)\n",
    "    \n",
    "    if response.status_code == 200:\n",
    "        # url 접속하기\n",
    "        driver.get(url)\n",
    "\n",
    "        # 화면 비율을 축소해서 모든 데이터 보이게 만들기\n",
    "        driver.execute_script(\"document.body.style.zoom='10%'\")\n",
    "\n",
    "        time.sleep(5)\n",
    "\n",
    "        # Job Description 을 담을 딕셔너리 생성\n",
    "        res = {}\n",
    "\n",
    "        # url 에서 index 값 추출\n",
    "        res['id'] = url.split(\"/\")[-1]\n",
    "\n",
    "        # JobHeader 클래스 가져와서 title, company, tags 추출\n",
    "        job_header = driver.find_element(By.CLASS_NAME, 'JobHeader_className__HttDA')\n",
    "        title = job_header.find_element(By.TAG_NAME, 'h2')\n",
    "        company = job_header.find_element(By.TAG_NAME, 'a')\n",
    "        location = job_header.find_element(By.CLASS_NAME, 'JobHeader_pcLocationContainer__xRwIv')\n",
    "        tags = job_header.find_element(By.CLASS_NAME, 'Tags_tagsClass__mvehZ')\n",
    "\n",
    "        # res 딕셔너리에 저장\n",
    "        res['title'] = title.text\n",
    "        res['company'] = company.text\n",
    "        res['location'] = location.text.split(\".\")\n",
    "\n",
    "        # Tag 리스트 가져와서 저장\n",
    "        tag_list = list(map(str, tags.text.split('#')))\n",
    "        tag_list = tag_list[1:]\n",
    "        res['tags'] = tag_list\n",
    "\n",
    "        # JobDescription 클래스 가져와서 header, contents 추출\n",
    "        jd = driver.find_element(By.CLASS_NAME, 'JobDescription_JobDescription__VWfcb')\n",
    "        jd_header = jd.find_elements(By.TAG_NAME, 'h6')\n",
    "        jd_contents = jd.find_elements(By.TAG_NAME, 'p')\n",
    "\n",
    "        for i in range(1, len(jd_header)+1):\n",
    "            title = jd_header[i-1].text\n",
    "            content = jd_contents[i].text.split(\"\\n\")\n",
    "\n",
    "            if title == '자격요건':\n",
    "                res['qualifications'] = content\n",
    "            elif title == '우대사항':\n",
    "                res['preferred'] = content\n",
    "            elif title == '혜택 및 복지':\n",
    "                res[\"benefits\"] = content\n",
    "            elif title == '기술스택 ・ 툴':\n",
    "                res[\"skills\"] = content\n",
    "\n",
    "\n",
    "        jwp = driver.find_element(By.CLASS_NAME, \"JobWorkPlace_className__ra6rp\")\n",
    "        jwp_bodies = jwp.find_elements(By.CLASS_NAME, 'body')\n",
    "\n",
    "        if len(jwp_bodies) < 2:\n",
    "            workplace = \"\"\n",
    "        else:\n",
    "            workplace = jwp_bodies[1].text\n",
    "        \n",
    "        res['workplace'] = workplace\n",
    "    else:\n",
    "        print(\"존재하지 않는 페이지 입니다.\")\n",
    "    \n",
    "    return res"
   ]
  },
  {
   "cell_type": "markdown",
   "id": "d5eb044c",
   "metadata": {},
   "source": [
    "# 크롤링 실행"
   ]
  },
  {
   "cell_type": "code",
   "execution_count": null,
   "id": "8cbbb6ae",
   "metadata": {
    "scrolled": false
   },
   "outputs": [
    {
     "name": "stderr",
     "output_type": "stream",
     "text": [
      "  0%|▍                                                                                                     | 2/500 [00:16<1:07:04,  8.08s/it]"
     ]
    }
   ],
   "source": [
    "driver = webdriver.Chrome()\n",
    "\n",
    "# url 가져오기\n",
    "url_list = get_url_list()\n",
    "\n",
    "total = []\n",
    "\n",
    "for i in tqdm(range(500, 1000)):\n",
    "    res = get_job_description(driver, url_list[i])\n",
    "    \n",
    "    if len(res) == 0:\n",
    "        print(\"존재하지 않는 페이지 입니다.\")\n",
    "        continue\n",
    "    else:\n",
    "        total.append(res)\n",
    "\n",
    "driver.quit()"
   ]
  },
  {
   "cell_type": "code",
   "execution_count": null,
   "id": "2ea7b3d5",
   "metadata": {},
   "outputs": [],
   "source": []
  },
  {
   "cell_type": "markdown",
   "id": "f08b7f46",
   "metadata": {},
   "source": [
    "# 크롤링 결과 및 확인"
   ]
  },
  {
   "cell_type": "code",
   "execution_count": null,
   "id": "cc6221b0",
   "metadata": {
    "scrolled": false
   },
   "outputs": [],
   "source": [
    "print(total[0])\n",
    "\n",
    "key_list = [key for key in total[0].keys()]\n",
    "print(key_list)"
   ]
  },
  {
   "cell_type": "markdown",
   "id": "cef5dbb9",
   "metadata": {},
   "source": [
    "# 결과 csv 파일로 저장하기"
   ]
  },
  {
   "cell_type": "code",
   "execution_count": 18,
   "id": "774704d9",
   "metadata": {},
   "outputs": [],
   "source": [
    "import csv\n",
    "\n",
    "with open('/Users/jhnam/workspace/playground-data/crawler/output/wanted_crawling_output_2.csv', 'w', encoding='UTF-8') as f:\n",
    "    # csv 파일의 헤더 설정\n",
    "    header = ['id', 'title', 'company', 'location', 'tags', 'qualifications', 'preferred', 'benefits', 'skills', 'workplace']\n",
    "\n",
    "    # 헤더 적용\n",
    "    writer = csv.DictWriter(f, fieldnames=header)\n",
    "    writer.writeheader()\n",
    "    \n",
    "    # 헤더에 맞게 딕셔너리 값 입력\n",
    "    for jd in total:\n",
    "        writer.writerow(jd)"
   ]
  },
  {
   "cell_type": "code",
   "execution_count": null,
   "id": "c93e4998",
   "metadata": {},
   "outputs": [],
   "source": []
  },
  {
   "cell_type": "markdown",
   "id": "0efbe139",
   "metadata": {},
   "source": [
    "# 전처리 (진행중)"
   ]
  },
  {
   "cell_type": "code",
   "execution_count": null,
   "id": "613a6da1",
   "metadata": {},
   "outputs": [],
   "source": [
    "import re\n",
    "import nltk\n",
    "from nltk.tokenize import word_tokenize\n",
    "from nltk.tag import pos_tag\n",
    "\n",
    "nltk.download('punkt')\n",
    "nltk.download('averaged_perceptron_tagger')\n",
    "\n",
    "\n",
    "exception_list = ['를', '를', '를', '을', '을', '있거나', '있으신', '갖추신', '경험이', '이상의', '에', '에', '에', '에', '에', '이용한', '에', '에', '에', '준하는', '에', '있으신', '에', '에', '에', '중심적인', '에', '에', '이해를', '에', '대한', '및', '가지고', '전반적인', '에']\n",
    "\n",
    "# 텍스트 정의\n",
    "contents = \"• 6년 이상의 백엔드 개발 경력이 있거나 그에 준하는 실력을 갖추신 분\\n• JavaScript / TypeScript 를 이용한 개발에 능숙하신 분\\n• 웹 서비스에 대한 전반적인 이해를 갖추신 분\\n• RDB(Postgres) 및 ORM에 대한 전반적인 이해를 갖추신 분\\n• 도커, 쿠버네티스 등 컨테이너 기반의 서비스에 대한 경험이 있으신 분\\n• 1년 이상의 NestJS 실무 프로젝트 개발 경험이 있으신 분\\n• 모듈화, 테스트, 유지보수가 용이한 코드에 대한 이해를 갖추고 계신 분\\n• 기술 중심이 아닌 유저 중심적인 태도를 가지고 계신 분\\n• 배움에 대한 열정을 갖고, 지속적이고 효과적으로 피드백을 주고 받는 분\"\n",
    "\n",
    "# 특수문자 제거\n",
    "contents = re.sub(r'[^\\w\\s]', '', contents)\n",
    "\n",
    "# 단어 토큰화\n",
    "tokens = word_tokenize(contents)\n",
    "\n",
    "# 품사 태깅\n",
    "tagged_words = pos_tag(tokens)\n",
    "\n",
    "# 명사 추출 (동사 및 불용어 제외)\n",
    "nouns = [word for word, pos in tagged_words if pos.startswith('N') and not pos.startswith('V') and word.lower() not in exception_list]\n",
    "\n",
    "# 중복 제거\n",
    "nouns = list(set(nouns))\n",
    "\n",
    "# 결과 출력\n",
    "print(nouns)"
   ]
  },
  {
   "cell_type": "code",
   "execution_count": null,
   "id": "2e74ffdb",
   "metadata": {},
   "outputs": [],
   "source": []
  }
 ],
 "metadata": {
  "kernelspec": {
   "display_name": "Python 3 (ipykernel)",
   "language": "python",
   "name": "python3"
  },
  "language_info": {
   "codemirror_mode": {
    "name": "ipython",
    "version": 3
   },
   "file_extension": ".py",
   "mimetype": "text/x-python",
   "name": "python",
   "nbconvert_exporter": "python",
   "pygments_lexer": "ipython3",
   "version": "3.9.16"
  },
  "toc": {
   "base_numbering": 1,
   "nav_menu": {},
   "number_sections": true,
   "sideBar": true,
   "skip_h1_title": false,
   "title_cell": "Table of Contents",
   "title_sidebar": "Contents",
   "toc_cell": false,
   "toc_position": {},
   "toc_section_display": true,
   "toc_window_display": false
  }
 },
 "nbformat": 4,
 "nbformat_minor": 5
}
