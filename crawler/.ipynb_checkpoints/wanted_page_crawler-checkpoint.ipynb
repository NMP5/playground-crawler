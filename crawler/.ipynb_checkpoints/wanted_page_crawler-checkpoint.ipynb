{
 "cells": [
  {
   "cell_type": "markdown",
   "id": "21939a40",
   "metadata": {},
   "source": [
    "# 라이브러리 import"
   ]
  },
  {
   "cell_type": "code",
   "execution_count": 103,
   "id": "b2174a81",
   "metadata": {
    "scrolled": true
   },
   "outputs": [],
   "source": [
    "import requests\n",
    "\n",
    "from selenium import webdriver\n",
    "from selenium.webdriver.common.keys import Keys\n",
    "from selenium.webdriver.common.by import By\n",
    "\n",
    "# 페이지 로딩을 기다리는데에 사용할 time 모듈 import\n",
    "import time\n",
    "import re\n",
    "from tqdm import tqdm"
   ]
  },
  {
   "cell_type": "markdown",
   "id": "75a8d87d",
   "metadata": {},
   "source": [
    "# 함수 정의"
   ]
  },
  {
   "cell_type": "code",
   "execution_count": 104,
   "id": "7875db27",
   "metadata": {},
   "outputs": [],
   "source": [
    "def get_url_list():\n",
    "    with open(\"../data/job_link.csv\", encoding='cp949') as f:\n",
    "        urls = f.readlines()\n",
    "\n",
    "    url_list = []\n",
    "\n",
    "    for url in urls:\n",
    "        url_spl = url.rstrip(\"\\n\").split(\",\")\n",
    "\n",
    "        job = \",\".join(url_spl[:-1]).strip('\"\"')\n",
    "        url = url_spl[-1]\n",
    "\n",
    "        url_list.append([job, url])\n",
    "    \n",
    "    return url_list\n",
    "\n",
    "def get_job_description(driver, url_list):\n",
    "    job = url_list[0]\n",
    "    url = url_list[1]\n",
    "    \n",
    "    response = requests.get(url)\n",
    "    \n",
    "    if response.status_code == 200:\n",
    "        # url 접속하기\n",
    "        driver.get(url)\n",
    "\n",
    "        # 화면 비율을 축소해서 모든 데이터 보이게 만들기\n",
    "        driver.execute_script(\"document.body.style.zoom='20%'\")\n",
    "\n",
    "        time.sleep(5)\n",
    "\n",
    "        # Job Description 을 담을 딕셔너리 생성\n",
    "        res = {}\n",
    "\n",
    "        # url 에서 index 값 추출\n",
    "        res['id'] = url.split(\"/\")[-1]\n",
    "\n",
    "        # 직무 이름 값 입력\n",
    "        res['job'] = job\n",
    "\n",
    "        # JobHeader 클래스 가져와서 title, company, tags 추출\n",
    "        job_header = driver.find_element(By.CLASS_NAME, 'JobHeader_className__HttDA')\n",
    "        title = job_header.find_element(By.TAG_NAME, 'h2')\n",
    "        company = job_header.find_element(By.TAG_NAME, 'a')\n",
    "        location = job_header.find_element(By.CLASS_NAME, 'JobHeader_pcLocationContainer__xRwIv')\n",
    "        tags = job_header.find_element(By.CLASS_NAME, 'Tags_tagsClass__mvehZ')\n",
    "\n",
    "        # res 딕셔너리에 저장\n",
    "        res['title'] = title.text\n",
    "        res['company'] = company.text\n",
    "        res['location'] = location.text.split(\".\")\n",
    "\n",
    "        # Tag 리스트 가져와서 저장\n",
    "        tag_list = list(map(str, tags.text.split('#')))\n",
    "        tag_list = tag_list[1:]\n",
    "        res['tags'] = tag_list\n",
    "\n",
    "        # JobDescription 클래스 가져와서 header, contents 추출\n",
    "        jd = driver.find_element(By.CLASS_NAME, 'JobDescription_JobDescription__VWfcb')\n",
    "        jd_header = jd.find_elements(By.TAG_NAME, 'h6')\n",
    "        jd_contents = jd.find_elements(By.TAG_NAME, 'p')\n",
    "\n",
    "        for i in range(1, len(jd_header)+1):\n",
    "            title = jd_header[i-1].text\n",
    "            content = jd_contents[i].text.replace(\"- \", \"\").split(\"\\n\")\n",
    "\n",
    "            if title == '자격요건':\n",
    "                res['qualifications'] = content\n",
    "            elif title == '우대사항':\n",
    "                res['preferred'] = content\n",
    "            elif title == '혜택 및 복지':\n",
    "                res[\"benefits\"] = content\n",
    "            elif title == '기술스택 ・ 툴':\n",
    "                res[\"skills\"] = content\n",
    "\n",
    "\n",
    "        jwp = driver.find_element(By.CLASS_NAME, \"JobWorkPlace_className__ra6rp\")\n",
    "        jwp_bodies = jwp.find_elements(By.CLASS_NAME, 'body')\n",
    "        workplace = jwp_bodies[1].text\n",
    "        res['workplace'] = workplace\n",
    "    else:\n",
    "        print(\"존재하지 않는 페이지 입니다.\")\n",
    "    \n",
    "    return res"
   ]
  },
  {
   "cell_type": "code",
   "execution_count": 68,
   "id": "8a23c768",
   "metadata": {},
   "outputs": [],
   "source": [
    "# driver = webdriver.Chrome()\n",
    "\n",
    "# url = [\"백엔드 개발자\", \"https://www.wanted.co.kr/wd/160122\"]\n",
    "\n",
    "# # url 접속하기\n",
    "# driver.get(url[1])\n",
    "\n",
    "# # 화면 비율을 축소해서 모든 데이터 보이게 만들기\n",
    "# driver.execute_script(\"document.body.style.zoom='20%'\")\n",
    "\n",
    "# time.sleep(5)\n",
    "\n",
    "# job_header = driver.find_element(By.CLASS_NAME, 'JobHeader_className__HttDA')\n",
    "# location = job_header.find_element(By.CLASS_NAME, 'JobHeader_pcLocationContainer__xRwIv')\n",
    "# print(location.text.split(\".\"))\n",
    "\n",
    "# driver.close()"
   ]
  },
  {
   "cell_type": "markdown",
   "id": "d5eb044c",
   "metadata": {},
   "source": [
    "# 크롤링 실행"
   ]
  },
  {
   "cell_type": "code",
   "execution_count": 105,
   "id": "8cbbb6ae",
   "metadata": {
    "scrolled": false
   },
   "outputs": [
    {
     "name": "stderr",
     "output_type": "stream",
     "text": [
      "  0%|▏                                                                                 | 1/500 [00:08<1:06:59,  8.06s/it]"
     ]
    },
    {
     "name": "stdout",
     "output_type": "stream",
     "text": [
      "1 웹 서버/백엔드(Back-End) 개발자\n"
     ]
    },
    {
     "name": "stderr",
     "output_type": "stream",
     "text": [
      "\r",
      "  0%|▎                                                                                   | 2/500 [00:14<58:48,  7.09s/it]"
     ]
    },
    {
     "name": "stdout",
     "output_type": "stream",
     "text": [
      "2 Backend 개발팀 시니어 개발자 (6년 이상)\n"
     ]
    },
    {
     "name": "stderr",
     "output_type": "stream",
     "text": [
      "\r",
      "  1%|▌                                                                                   | 3/500 [00:20<56:20,  6.80s/it]"
     ]
    },
    {
     "name": "stdout",
     "output_type": "stream",
     "text": [
      "3 웹 프론트엔드 및 백엔드 개발자(5-10년)\n"
     ]
    },
    {
     "name": "stderr",
     "output_type": "stream",
     "text": [
      "\r",
      "  1%|▋                                                                                   | 4/500 [00:27<54:19,  6.57s/it]"
     ]
    },
    {
     "name": "stdout",
     "output_type": "stream",
     "text": [
      "4 React 개발자\n"
     ]
    },
    {
     "name": "stderr",
     "output_type": "stream",
     "text": [
      "\r",
      "  1%|▊                                                                                   | 5/500 [00:33<54:44,  6.63s/it]"
     ]
    },
    {
     "name": "stdout",
     "output_type": "stream",
     "text": [
      "5 [firebase,Vue.js] 풀스택 개발자\n"
     ]
    },
    {
     "name": "stderr",
     "output_type": "stream",
     "text": [
      "  1%|▊                                                                                 | 5/500 [00:36<1:00:56,  7.39s/it]\n"
     ]
    },
    {
     "ename": "KeyboardInterrupt",
     "evalue": "",
     "output_type": "error",
     "traceback": [
      "\u001b[0;31m---------------------------------------------------------------------------\u001b[0m",
      "\u001b[0;31mKeyboardInterrupt\u001b[0m                         Traceback (most recent call last)",
      "Cell \u001b[0;32mIn[105], line 9\u001b[0m\n\u001b[1;32m      6\u001b[0m total \u001b[38;5;241m=\u001b[39m []\n\u001b[1;32m      8\u001b[0m \u001b[38;5;28;01mfor\u001b[39;00m i \u001b[38;5;129;01min\u001b[39;00m tqdm(\u001b[38;5;28mrange\u001b[39m(\u001b[38;5;241m0\u001b[39m, \u001b[38;5;241m500\u001b[39m)):\n\u001b[0;32m----> 9\u001b[0m     res \u001b[38;5;241m=\u001b[39m \u001b[43mget_job_description\u001b[49m\u001b[43m(\u001b[49m\u001b[43mdriver\u001b[49m\u001b[43m,\u001b[49m\u001b[43m \u001b[49m\u001b[43murl_list\u001b[49m\u001b[43m[\u001b[49m\u001b[43mi\u001b[49m\u001b[43m]\u001b[49m\u001b[43m)\u001b[49m\n\u001b[1;32m     10\u001b[0m     \u001b[38;5;28mprint\u001b[39m(i\u001b[38;5;241m+\u001b[39m\u001b[38;5;241m1\u001b[39m, res[\u001b[38;5;124m'\u001b[39m\u001b[38;5;124mtitle\u001b[39m\u001b[38;5;124m'\u001b[39m])\n\u001b[1;32m     11\u001b[0m     total\u001b[38;5;241m.\u001b[39mappend(res)\n",
      "Cell \u001b[0;32mIn[104], line 30\u001b[0m, in \u001b[0;36mget_job_description\u001b[0;34m(driver, url_list)\u001b[0m\n\u001b[1;32m     27\u001b[0m \u001b[38;5;66;03m# 화면 비율을 축소해서 모든 데이터 보이게 만들기\u001b[39;00m\n\u001b[1;32m     28\u001b[0m driver\u001b[38;5;241m.\u001b[39mexecute_script(\u001b[38;5;124m\"\u001b[39m\u001b[38;5;124mdocument.body.style.zoom=\u001b[39m\u001b[38;5;124m'\u001b[39m\u001b[38;5;124m20\u001b[39m\u001b[38;5;124m%\u001b[39m\u001b[38;5;124m'\u001b[39m\u001b[38;5;124m\"\u001b[39m)\n\u001b[0;32m---> 30\u001b[0m \u001b[43mtime\u001b[49m\u001b[38;5;241;43m.\u001b[39;49m\u001b[43msleep\u001b[49m\u001b[43m(\u001b[49m\u001b[38;5;241;43m5\u001b[39;49m\u001b[43m)\u001b[49m\n\u001b[1;32m     32\u001b[0m \u001b[38;5;66;03m# Job Description 을 담을 딕셔너리 생성\u001b[39;00m\n\u001b[1;32m     33\u001b[0m res \u001b[38;5;241m=\u001b[39m {}\n",
      "\u001b[0;31mKeyboardInterrupt\u001b[0m: "
     ]
    }
   ],
   "source": [
    "driver = webdriver.Chrome()\n",
    "\n",
    "# url 가져오기\n",
    "url_list = get_url_list()\n",
    "\n",
    "total = []\n",
    "\n",
    "for i in tqdm(range(0, 500)):\n",
    "    res = get_job_description(driver, url_list[i])\n",
    "    total.append(res)\n",
    "\n",
    "driver.close()"
   ]
  },
  {
   "cell_type": "code",
   "execution_count": 91,
   "id": "910ff586",
   "metadata": {},
   "outputs": [
    {
     "data": {
      "text/plain": [
       "['NMS/APM/SMS 등 개발 경험자 우대', ' 스타트업 4년이상 경험자 우대', ' 백엔드 개발 스킬 보유자 우대']"
      ]
     },
     "execution_count": 91,
     "metadata": {},
     "output_type": "execute_result"
    }
   ],
   "source": [
    "tmp = \"- NMS/APM/SMS 등 개발 경험자 우대\\n - 스타트업 4년이상 경험자 우대\\n - 백엔드 개발 스킬 보유자 우대\"\n",
    "tmp.replace(\"- \", \"\").split(\"\\n\")"
   ]
  },
  {
   "cell_type": "code",
   "execution_count": null,
   "id": "106868ab",
   "metadata": {},
   "outputs": [],
   "source": []
  },
  {
   "cell_type": "markdown",
   "id": "f08b7f46",
   "metadata": {},
   "source": [
    "# 크롤링 결과 및 확인"
   ]
  },
  {
   "cell_type": "code",
   "execution_count": 106,
   "id": "cc6221b0",
   "metadata": {
    "scrolled": true
   },
   "outputs": [
    {
     "name": "stdout",
     "output_type": "stream",
     "text": [
      "{'id': '165306', 'job': '웹 개발자', 'title': '웹 서버/백엔드(Back-End) 개발자', 'company': '엔드림', 'location': ['서울', '한국'], 'tags': ['연봉업계평균이상', '인원급성장', '퇴사율 6~10%', '51~300명', '설립4~9년', '육아휴직', '자율복장', '워크샵', 'IT, 컨텐츠'], 'qualifications': ['• C# 개발 경험이 있거나, 개발이 가능 하신분 (필수)', '• .NET MVC 개발 경험이 있으신 분', '• MVC 패턴에 대하여 이해하고 계신 분 ', '• HTML5, CSS, javascript 에 대한 이해가 있는 분', '• 외부 Library나 API 사용에 능숙 하신 분'], 'preferred': ['• Java, node.js 개발 경험이 있으신 분', '• 아키텍쳐 설계에 능숙 하신 분', '• HTTP 기반의 대용량 웹 관련 서비스에 대한 경험이 있으신 분', '• 코드 품질 향상을 위한 분석 및 리팩토링 경험이 있으신 분', '• 업무 커뮤니케이션이 능숙 하신 분'], 'benefits': ['■ 오직 엔드리머만이 경험할 수 있는 특별한 복지!', '', 'ㆍ일하기 즐거운 엔드리머', '조직 발전을 위한 2021년 연봉조정대상 전원 연봉 1천만원 파격 인상', '경찰병원역 도보 1분 및 가락시장역 도보 5분 이내에 위치한 사무실', '원거리 근무자의 편의를 위한 오피스텔 임대 지원(2인 1실)', '워라밸(Work-life balance) 향상을 위한 선택적근로시간제 운영', '식권대장을 통한 점심/저녁 식대 제공(일 최대 2만 원)', '임직원 전용 휴게공간 및 커피, 각종 차 제공', '메일 아침을 든든하게 만들어줄 맛 좋은 쿠키와 빵 제공', '사내 호칭을 ‘님’으로 통일해 상호 존중하는 조직문화 지향', '자율복장제도를 통해 캐주얼한 업무 분위기 조성', '', 'ㆍ모두가 건강한 엔드리머', '각종 경조사비 및 경조 화환 지원(임직원 본인 및 가족 포함)', '임직원의 빠른 회복을 지원하기 위한 코로나19 백신 접종 휴가 시행', '생활 안정 지원을 위한 주거래 은행 연계형 개인신용대출 지원(임직원 한정 우대 금리 적용)', '자녀의 성장을 함께 지켜볼 수 있도록 산전후 휴가 및 육아 휴직 제도 마련', '임직원 본인 대상 연간 건강검진 1회 제공', '임직원 단체상해보험 가입', '명절(설날, 추석) 상품권 지급', '', 'ㆍ꾸준히 성장하는 엔드리머', '임직원 게임비 지원', '사내 채용을 통한 인재 추천 시 추천자 포상금 지급', '직무역량 향상을 위한 전사 워크샵 진행', '참여 프로젝트 기여자 엔드림 뱃지 지급', '', 'ㆍ다함께 소통하는 엔드리머', \"네트워크 확대 프로그램의 일환으로 진행되는 '호스트 미팅'\", '입사 후 1년 근속 시 제주도 단체여행(희망자)', '입사 후 3년 근속 시 해외여행 경비 100만원 및 4일 유급휴가', '입사 후 5년 근속 시 해외여행 경비 200만원 및 1개월 유급휴가', '', '', '■ 지원 전 잠깐! 이런 점은 유의해주세요.', '', '입사지원 서류에 허위사실이 발견될 경우, 채용확정 이후라도 채용이 취소될 수 있습니다.', '채용 과정 중 접수된 서류는 일체 반환하지 않으며 전형 종료 후 즉시 파기됩니다.', '장애인 및 국가보훈대상자는 우대합니다.', '입사지원은 해외여행에 결격사유가 없는 자에 한하여 가능합니다.'], 'skills': ['MySQL', 'C#', 'CSS', 'Java', 'JavaScript', 'Node.js', 'HTTP', 'HTML5', 'MSSQL'], 'workplace': '서울특별시 송파구 중대로 135, IT 벤처타워 서관 15~16층'}\n",
      "['id', 'job', 'title', 'company', 'location', 'tags', 'qualifications', 'preferred', 'benefits', 'skills', 'workplace']\n"
     ]
    }
   ],
   "source": [
    "print(total[0])\n",
    "\n",
    "key_list = [key for key in total[0].keys()]\n",
    "print(key_list)"
   ]
  },
  {
   "cell_type": "markdown",
   "id": "cef5dbb9",
   "metadata": {},
   "source": [
    "# 결과 csv 파일로 저장하기"
   ]
  },
  {
   "cell_type": "code",
   "execution_count": 101,
   "id": "774704d9",
   "metadata": {},
   "outputs": [],
   "source": [
    "import csv\n",
    "\n",
    "with open('/Users/jhnam/workspace/playground-data/crawler/wanted_crawling_data_test4.csv', 'w', encoding='UTF-8') as f:\n",
    "    # csv 파일의 헤더 설정\n",
    "    header = ['id', 'job', 'title', 'company', 'location', 'tags', 'qualifications', 'preferred', 'benefits', 'skills', 'workplace']\n",
    "\n",
    "    # 헤더 적용\n",
    "    writer = csv.DictWriter(f, fieldnames=header)\n",
    "    writer.writeheader()\n",
    "    \n",
    "    # 헤더에 맞게 딕셔너리 값 입력\n",
    "    for jd in total:\n",
    "        writer.writerow(jd)"
   ]
  },
  {
   "cell_type": "code",
   "execution_count": null,
   "id": "c93e4998",
   "metadata": {},
   "outputs": [],
   "source": []
  },
  {
   "cell_type": "markdown",
   "id": "0efbe139",
   "metadata": {},
   "source": [
    "# 전처리 (진행중)"
   ]
  },
  {
   "cell_type": "code",
   "execution_count": null,
   "id": "613a6da1",
   "metadata": {},
   "outputs": [],
   "source": [
    "import re\n",
    "import nltk\n",
    "from nltk.tokenize import word_tokenize\n",
    "from nltk.tag import pos_tag\n",
    "\n",
    "nltk.download('punkt')\n",
    "nltk.download('averaged_perceptron_tagger')\n",
    "\n",
    "\n",
    "exception_list = ['를', '를', '를', '을', '을', '있거나', '있으신', '갖추신', '경험이', '이상의', '에', '에', '에', '에', '에', '이용한', '에', '에', '에', '준하는', '에', '있으신', '에', '에', '에', '중심적인', '에', '에', '이해를', '에', '대한', '및', '가지고', '전반적인', '에']\n",
    "\n",
    "# 텍스트 정의\n",
    "contents = \"• 6년 이상의 백엔드 개발 경력이 있거나 그에 준하는 실력을 갖추신 분\\n• JavaScript / TypeScript 를 이용한 개발에 능숙하신 분\\n• 웹 서비스에 대한 전반적인 이해를 갖추신 분\\n• RDB(Postgres) 및 ORM에 대한 전반적인 이해를 갖추신 분\\n• 도커, 쿠버네티스 등 컨테이너 기반의 서비스에 대한 경험이 있으신 분\\n• 1년 이상의 NestJS 실무 프로젝트 개발 경험이 있으신 분\\n• 모듈화, 테스트, 유지보수가 용이한 코드에 대한 이해를 갖추고 계신 분\\n• 기술 중심이 아닌 유저 중심적인 태도를 가지고 계신 분\\n• 배움에 대한 열정을 갖고, 지속적이고 효과적으로 피드백을 주고 받는 분\"\n",
    "\n",
    "# 특수문자 제거\n",
    "contents = re.sub(r'[^\\w\\s]', '', contents)\n",
    "\n",
    "# 단어 토큰화\n",
    "tokens = word_tokenize(contents)\n",
    "\n",
    "# 품사 태깅\n",
    "tagged_words = pos_tag(tokens)\n",
    "\n",
    "# 명사 추출 (동사 및 불용어 제외)\n",
    "nouns = [word for word, pos in tagged_words if pos.startswith('N') and not pos.startswith('V') and word.lower() not in exception_list]\n",
    "\n",
    "# 중복 제거\n",
    "nouns = list(set(nouns))\n",
    "\n",
    "# 결과 출력\n",
    "print(nouns)"
   ]
  },
  {
   "cell_type": "code",
   "execution_count": null,
   "id": "2e74ffdb",
   "metadata": {},
   "outputs": [],
   "source": []
  }
 ],
 "metadata": {
  "kernelspec": {
   "display_name": "Python 3 (ipykernel)",
   "language": "python",
   "name": "python3"
  },
  "language_info": {
   "codemirror_mode": {
    "name": "ipython",
    "version": 3
   },
   "file_extension": ".py",
   "mimetype": "text/x-python",
   "name": "python",
   "nbconvert_exporter": "python",
   "pygments_lexer": "ipython3",
   "version": "3.9.16"
  },
  "toc": {
   "base_numbering": 1,
   "nav_menu": {},
   "number_sections": true,
   "sideBar": true,
   "skip_h1_title": false,
   "title_cell": "Table of Contents",
   "title_sidebar": "Contents",
   "toc_cell": false,
   "toc_position": {},
   "toc_section_display": true,
   "toc_window_display": false
  }
 },
 "nbformat": 4,
 "nbformat_minor": 5
}
