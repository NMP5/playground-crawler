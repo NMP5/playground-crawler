{
 "cells": [
  {
   "cell_type": "markdown",
   "id": "21939a40",
   "metadata": {},
   "source": [
    "# 라이브러리 import"
   ]
  },
  {
   "cell_type": "code",
   "execution_count": 3,
   "id": "b2174a81",
   "metadata": {
    "scrolled": true
   },
   "outputs": [],
   "source": [
    "import requests\n",
    "\n",
    "from selenium import webdriver\n",
    "from selenium.webdriver.common.keys import Keys\n",
    "from selenium.webdriver.common.by import By\n",
    "\n",
    "# 페이지 로딩을 기다리는데에 사용할 time 모듈 import\n",
    "import time\n",
    "import re\n",
    "from tqdm import tqdm"
   ]
  },
  {
   "cell_type": "markdown",
   "id": "75a8d87d",
   "metadata": {},
   "source": [
    "# 함수 정의"
   ]
  },
  {
   "cell_type": "code",
   "execution_count": 5,
   "id": "7875db27",
   "metadata": {},
   "outputs": [],
   "source": [
    "def get_url_list():\n",
    "    with open(\"../data/job_fix_list.csv\", encoding='cp949') as f:\n",
    "        urls = f.readlines()\n",
    "\n",
    "#     url_list = []\n",
    "\n",
    "#     for url in urls:\n",
    "#         url_spl = url.rstrip(\"\\n\").split(\",\")\n",
    "\n",
    "#         job = \",\".join(url_spl[:-1]).strip('\"\"')\n",
    "#         url = url_spl[-1]\n",
    "\n",
    "#         url_list.append([job, url])\n",
    "\n",
    "    url_list = [url.rstrip(\"\\n\") for url in urls]\n",
    "    \n",
    "    return url_list\n",
    "\n",
    "def get_job_description(driver, url):\n",
    "    \n",
    "    # Job Description 을 담을 딕셔너리 생성\n",
    "    res = {}\n",
    "    \n",
    "    response = requests.get(url)\n",
    "    \n",
    "    if response.status_code == 200:\n",
    "        # url 접속하기\n",
    "        driver.get(url)\n",
    "\n",
    "        # 화면 비율을 축소해서 모든 데이터 보이게 만들기\n",
    "        driver.execute_script(\"document.body.style.zoom='10%'\")\n",
    "\n",
    "        time.sleep(5)\n",
    "\n",
    "        # url 에서 index 값 추출\n",
    "        res['id'] = url.split(\"/\")[-1]\n",
    "\n",
    "        # JobHeader 클래스 가져와서 title, company, tags 추출\n",
    "        job_header = driver.find_element(By.CLASS_NAME, 'JobHeader_className__HttDA')\n",
    "        title = job_header.find_element(By.TAG_NAME, 'h2')\n",
    "        company = job_header.find_element(By.TAG_NAME, 'a')\n",
    "        location = job_header.find_element(By.CLASS_NAME, 'JobHeader_pcLocationContainer__xRwIv')\n",
    "        tags = job_header.find_element(By.CLASS_NAME, 'Tags_tagsClass__mvehZ')\n",
    "\n",
    "        # res 딕셔너리에 저장\n",
    "        res['title'] = title.text\n",
    "        res['company'] = company.text\n",
    "        res['location'] = location.text.split(\".\")\n",
    "\n",
    "        # Tag 리스트 가져와서 저장\n",
    "        tag_list = list(map(str, tags.text.split('#')))\n",
    "        tag_list = tag_list[1:]\n",
    "        res['tags'] = tag_list\n",
    "\n",
    "        # JobDescription 클래스 가져와서 header, contents 추출\n",
    "        jd = driver.find_element(By.CLASS_NAME, 'JobDescription_JobDescription__VWfcb')\n",
    "        jd_header = jd.find_elements(By.TAG_NAME, 'h6')\n",
    "        jd_contents = jd.find_elements(By.TAG_NAME, 'p')\n",
    "\n",
    "        for i in range(1, len(jd_header)+1):\n",
    "            title = jd_header[i-1].text\n",
    "            content = jd_contents[i].text.split(\"\\n\")\n",
    "\n",
    "            if title == '자격요건':\n",
    "                res['qualifications'] = content\n",
    "            elif title == '우대사항':\n",
    "                res['preferred'] = content\n",
    "            elif title == '혜택 및 복지':\n",
    "                res[\"benefits\"] = content\n",
    "            elif title == '기술스택 ・ 툴':\n",
    "                res[\"skills\"] = content\n",
    "\n",
    "\n",
    "        jwp = driver.find_element(By.CLASS_NAME, \"JobWorkPlace_className__ra6rp\")\n",
    "        jwp_bodies = jwp.find_elements(By.CLASS_NAME, 'body')\n",
    "\n",
    "        if len(jwp_bodies) < 2:\n",
    "            workplace = \"\"\n",
    "        else:\n",
    "            workplace = jwp_bodies[1].text\n",
    "        \n",
    "        res['workplace'] = workplace\n",
    "    else:\n",
    "        print(\"존재하지 않는 페이지 입니다.\")\n",
    "    \n",
    "    return res"
   ]
  },
  {
   "cell_type": "markdown",
   "id": "d5eb044c",
   "metadata": {},
   "source": [
    "# 크롤링 실행"
   ]
  },
  {
   "cell_type": "code",
   "execution_count": 21,
   "id": "8cbbb6ae",
   "metadata": {
    "scrolled": false
   },
   "outputs": [
    {
     "name": "stderr",
     "output_type": "stream",
     "text": [
      "  3%|██▊                                                                                                  | 14/500 [01:51<1:04:20,  7.94s/it]\n"
     ]
    },
    {
     "ename": "NoSuchElementException",
     "evalue": "Message: no such element: Unable to locate element: {\"method\":\"css selector\",\"selector\":\".JobHeader_className__HttDA\"}\n  (Session info: chrome=114.0.5735.133); For documentation on this error, please visit: https://www.selenium.dev/documentation/webdriver/troubleshooting/errors#no-such-element-exception\nStacktrace:\n0   chromedriver                        0x000000010ec996b8 chromedriver + 4937400\n1   chromedriver                        0x000000010ec90b73 chromedriver + 4901747\n2   chromedriver                        0x000000010e84e616 chromedriver + 435734\n3   chromedriver                        0x000000010e891e0f chromedriver + 712207\n4   chromedriver                        0x000000010e8920a1 chromedriver + 712865\n5   chromedriver                        0x000000010e8d39a4 chromedriver + 981412\n6   chromedriver                        0x000000010e8b603d chromedriver + 860221\n7   chromedriver                        0x000000010e8d0e76 chromedriver + 970358\n8   chromedriver                        0x000000010e8b5de3 chromedriver + 859619\n9   chromedriver                        0x000000010e883d7f chromedriver + 654719\n10  chromedriver                        0x000000010e8850de chromedriver + 659678\n11  chromedriver                        0x000000010ec552ad chromedriver + 4657837\n12  chromedriver                        0x000000010ec5a130 chromedriver + 4677936\n13  chromedriver                        0x000000010ec60def chromedriver + 4705775\n14  chromedriver                        0x000000010ec5b05a chromedriver + 4681818\n15  chromedriver                        0x000000010ec2d92c chromedriver + 4495660\n16  chromedriver                        0x000000010ec78838 chromedriver + 4802616\n17  chromedriver                        0x000000010ec789b7 chromedriver + 4802999\n18  chromedriver                        0x000000010ec8999f chromedriver + 4872607\n19  libsystem_pthread.dylib             0x00007ff8126011d3 _pthread_start + 125\n20  libsystem_pthread.dylib             0x00007ff8125fcbd3 thread_start + 15\n",
     "output_type": "error",
     "traceback": [
      "\u001b[0;31m---------------------------------------------------------------------------\u001b[0m",
      "\u001b[0;31mNoSuchElementException\u001b[0m                    Traceback (most recent call last)",
      "Cell \u001b[0;32mIn[21], line 9\u001b[0m\n\u001b[1;32m      6\u001b[0m total \u001b[38;5;241m=\u001b[39m []\n\u001b[1;32m      8\u001b[0m \u001b[38;5;28;01mfor\u001b[39;00m i \u001b[38;5;129;01min\u001b[39;00m tqdm(\u001b[38;5;28mrange\u001b[39m(\u001b[38;5;241m1000\u001b[39m, \u001b[38;5;241m1500\u001b[39m)):\n\u001b[0;32m----> 9\u001b[0m     res \u001b[38;5;241m=\u001b[39m \u001b[43mget_job_description\u001b[49m\u001b[43m(\u001b[49m\u001b[43mdriver\u001b[49m\u001b[43m,\u001b[49m\u001b[43m \u001b[49m\u001b[43murl_list\u001b[49m\u001b[43m[\u001b[49m\u001b[43mi\u001b[49m\u001b[43m]\u001b[49m\u001b[43m)\u001b[49m\n\u001b[1;32m     11\u001b[0m     \u001b[38;5;28;01mif\u001b[39;00m \u001b[38;5;28mlen\u001b[39m(res) \u001b[38;5;241m==\u001b[39m \u001b[38;5;241m0\u001b[39m:\n\u001b[1;32m     12\u001b[0m         \u001b[38;5;28mprint\u001b[39m(\u001b[38;5;124m\"\u001b[39m\u001b[38;5;124m존재하지 않는 페이지 입니다.\u001b[39m\u001b[38;5;124m\"\u001b[39m)\n",
      "Cell \u001b[0;32mIn[5], line 39\u001b[0m, in \u001b[0;36mget_job_description\u001b[0;34m(driver, url)\u001b[0m\n\u001b[1;32m     36\u001b[0m res[\u001b[38;5;124m'\u001b[39m\u001b[38;5;124mid\u001b[39m\u001b[38;5;124m'\u001b[39m] \u001b[38;5;241m=\u001b[39m url\u001b[38;5;241m.\u001b[39msplit(\u001b[38;5;124m\"\u001b[39m\u001b[38;5;124m/\u001b[39m\u001b[38;5;124m\"\u001b[39m)[\u001b[38;5;241m-\u001b[39m\u001b[38;5;241m1\u001b[39m]\n\u001b[1;32m     38\u001b[0m \u001b[38;5;66;03m# JobHeader 클래스 가져와서 title, company, tags 추출\u001b[39;00m\n\u001b[0;32m---> 39\u001b[0m job_header \u001b[38;5;241m=\u001b[39m \u001b[43mdriver\u001b[49m\u001b[38;5;241;43m.\u001b[39;49m\u001b[43mfind_element\u001b[49m\u001b[43m(\u001b[49m\u001b[43mBy\u001b[49m\u001b[38;5;241;43m.\u001b[39;49m\u001b[43mCLASS_NAME\u001b[49m\u001b[43m,\u001b[49m\u001b[43m \u001b[49m\u001b[38;5;124;43m'\u001b[39;49m\u001b[38;5;124;43mJobHeader_className__HttDA\u001b[39;49m\u001b[38;5;124;43m'\u001b[39;49m\u001b[43m)\u001b[49m\n\u001b[1;32m     40\u001b[0m title \u001b[38;5;241m=\u001b[39m job_header\u001b[38;5;241m.\u001b[39mfind_element(By\u001b[38;5;241m.\u001b[39mTAG_NAME, \u001b[38;5;124m'\u001b[39m\u001b[38;5;124mh2\u001b[39m\u001b[38;5;124m'\u001b[39m)\n\u001b[1;32m     41\u001b[0m company \u001b[38;5;241m=\u001b[39m job_header\u001b[38;5;241m.\u001b[39mfind_element(By\u001b[38;5;241m.\u001b[39mTAG_NAME, \u001b[38;5;124m'\u001b[39m\u001b[38;5;124ma\u001b[39m\u001b[38;5;124m'\u001b[39m)\n",
      "File \u001b[0;32m/usr/local/lib/python3.9/site-packages/selenium/webdriver/remote/webdriver.py:740\u001b[0m, in \u001b[0;36mWebDriver.find_element\u001b[0;34m(self, by, value)\u001b[0m\n\u001b[1;32m    737\u001b[0m     by \u001b[38;5;241m=\u001b[39m By\u001b[38;5;241m.\u001b[39mCSS_SELECTOR\n\u001b[1;32m    738\u001b[0m     value \u001b[38;5;241m=\u001b[39m \u001b[38;5;124mf\u001b[39m\u001b[38;5;124m'\u001b[39m\u001b[38;5;124m[name=\u001b[39m\u001b[38;5;124m\"\u001b[39m\u001b[38;5;132;01m{\u001b[39;00mvalue\u001b[38;5;132;01m}\u001b[39;00m\u001b[38;5;124m\"\u001b[39m\u001b[38;5;124m]\u001b[39m\u001b[38;5;124m'\u001b[39m\n\u001b[0;32m--> 740\u001b[0m \u001b[38;5;28;01mreturn\u001b[39;00m \u001b[38;5;28;43mself\u001b[39;49m\u001b[38;5;241;43m.\u001b[39;49m\u001b[43mexecute\u001b[49m\u001b[43m(\u001b[49m\u001b[43mCommand\u001b[49m\u001b[38;5;241;43m.\u001b[39;49m\u001b[43mFIND_ELEMENT\u001b[49m\u001b[43m,\u001b[49m\u001b[43m \u001b[49m\u001b[43m{\u001b[49m\u001b[38;5;124;43m\"\u001b[39;49m\u001b[38;5;124;43musing\u001b[39;49m\u001b[38;5;124;43m\"\u001b[39;49m\u001b[43m:\u001b[49m\u001b[43m \u001b[49m\u001b[43mby\u001b[49m\u001b[43m,\u001b[49m\u001b[43m \u001b[49m\u001b[38;5;124;43m\"\u001b[39;49m\u001b[38;5;124;43mvalue\u001b[39;49m\u001b[38;5;124;43m\"\u001b[39;49m\u001b[43m:\u001b[49m\u001b[43m \u001b[49m\u001b[43mvalue\u001b[49m\u001b[43m}\u001b[49m\u001b[43m)\u001b[49m[\u001b[38;5;124m\"\u001b[39m\u001b[38;5;124mvalue\u001b[39m\u001b[38;5;124m\"\u001b[39m]\n",
      "File \u001b[0;32m/usr/local/lib/python3.9/site-packages/selenium/webdriver/remote/webdriver.py:346\u001b[0m, in \u001b[0;36mWebDriver.execute\u001b[0;34m(self, driver_command, params)\u001b[0m\n\u001b[1;32m    344\u001b[0m response \u001b[38;5;241m=\u001b[39m \u001b[38;5;28mself\u001b[39m\u001b[38;5;241m.\u001b[39mcommand_executor\u001b[38;5;241m.\u001b[39mexecute(driver_command, params)\n\u001b[1;32m    345\u001b[0m \u001b[38;5;28;01mif\u001b[39;00m response:\n\u001b[0;32m--> 346\u001b[0m     \u001b[38;5;28;43mself\u001b[39;49m\u001b[38;5;241;43m.\u001b[39;49m\u001b[43merror_handler\u001b[49m\u001b[38;5;241;43m.\u001b[39;49m\u001b[43mcheck_response\u001b[49m\u001b[43m(\u001b[49m\u001b[43mresponse\u001b[49m\u001b[43m)\u001b[49m\n\u001b[1;32m    347\u001b[0m     response[\u001b[38;5;124m\"\u001b[39m\u001b[38;5;124mvalue\u001b[39m\u001b[38;5;124m\"\u001b[39m] \u001b[38;5;241m=\u001b[39m \u001b[38;5;28mself\u001b[39m\u001b[38;5;241m.\u001b[39m_unwrap_value(response\u001b[38;5;241m.\u001b[39mget(\u001b[38;5;124m\"\u001b[39m\u001b[38;5;124mvalue\u001b[39m\u001b[38;5;124m\"\u001b[39m, \u001b[38;5;28;01mNone\u001b[39;00m))\n\u001b[1;32m    348\u001b[0m     \u001b[38;5;28;01mreturn\u001b[39;00m response\n",
      "File \u001b[0;32m/usr/local/lib/python3.9/site-packages/selenium/webdriver/remote/errorhandler.py:245\u001b[0m, in \u001b[0;36mErrorHandler.check_response\u001b[0;34m(self, response)\u001b[0m\n\u001b[1;32m    243\u001b[0m         alert_text \u001b[38;5;241m=\u001b[39m value[\u001b[38;5;124m\"\u001b[39m\u001b[38;5;124malert\u001b[39m\u001b[38;5;124m\"\u001b[39m]\u001b[38;5;241m.\u001b[39mget(\u001b[38;5;124m\"\u001b[39m\u001b[38;5;124mtext\u001b[39m\u001b[38;5;124m\"\u001b[39m)\n\u001b[1;32m    244\u001b[0m     \u001b[38;5;28;01mraise\u001b[39;00m exception_class(message, screen, stacktrace, alert_text)  \u001b[38;5;66;03m# type: ignore[call-arg]  # mypy is not smart enough here\u001b[39;00m\n\u001b[0;32m--> 245\u001b[0m \u001b[38;5;28;01mraise\u001b[39;00m exception_class(message, screen, stacktrace)\n",
      "\u001b[0;31mNoSuchElementException\u001b[0m: Message: no such element: Unable to locate element: {\"method\":\"css selector\",\"selector\":\".JobHeader_className__HttDA\"}\n  (Session info: chrome=114.0.5735.133); For documentation on this error, please visit: https://www.selenium.dev/documentation/webdriver/troubleshooting/errors#no-such-element-exception\nStacktrace:\n0   chromedriver                        0x000000010ec996b8 chromedriver + 4937400\n1   chromedriver                        0x000000010ec90b73 chromedriver + 4901747\n2   chromedriver                        0x000000010e84e616 chromedriver + 435734\n3   chromedriver                        0x000000010e891e0f chromedriver + 712207\n4   chromedriver                        0x000000010e8920a1 chromedriver + 712865\n5   chromedriver                        0x000000010e8d39a4 chromedriver + 981412\n6   chromedriver                        0x000000010e8b603d chromedriver + 860221\n7   chromedriver                        0x000000010e8d0e76 chromedriver + 970358\n8   chromedriver                        0x000000010e8b5de3 chromedriver + 859619\n9   chromedriver                        0x000000010e883d7f chromedriver + 654719\n10  chromedriver                        0x000000010e8850de chromedriver + 659678\n11  chromedriver                        0x000000010ec552ad chromedriver + 4657837\n12  chromedriver                        0x000000010ec5a130 chromedriver + 4677936\n13  chromedriver                        0x000000010ec60def chromedriver + 4705775\n14  chromedriver                        0x000000010ec5b05a chromedriver + 4681818\n15  chromedriver                        0x000000010ec2d92c chromedriver + 4495660\n16  chromedriver                        0x000000010ec78838 chromedriver + 4802616\n17  chromedriver                        0x000000010ec789b7 chromedriver + 4802999\n18  chromedriver                        0x000000010ec8999f chromedriver + 4872607\n19  libsystem_pthread.dylib             0x00007ff8126011d3 _pthread_start + 125\n20  libsystem_pthread.dylib             0x00007ff8125fcbd3 thread_start + 15\n"
     ]
    }
   ],
   "source": [
    "driver = webdriver.Chrome()\n",
    "\n",
    "# url 가져오기\n",
    "url_list = get_url_list()\n",
    "\n",
    "total = []\n",
    "\n",
    "for i in tqdm(range(1000, 1500)):\n",
    "    res = get_job_description(driver, url_list[i])\n",
    "    \n",
    "    if len(res) == 0:\n",
    "        print(\"존재하지 않는 페이지 입니다.\")\n",
    "        continue\n",
    "    else:\n",
    "        total.append(res)\n",
    "\n",
    "driver.quit()"
   ]
  },
  {
   "cell_type": "code",
   "execution_count": null,
   "id": "e075ba97",
   "metadata": {},
   "outputs": [],
   "source": []
  },
  {
   "cell_type": "markdown",
   "id": "f08b7f46",
   "metadata": {},
   "source": [
    "# 크롤링 결과 및 확인"
   ]
  },
  {
   "cell_type": "code",
   "execution_count": null,
   "id": "cc6221b0",
   "metadata": {
    "scrolled": false
   },
   "outputs": [],
   "source": [
    "print(total[0])\n",
    "\n",
    "key_list = [key for key in total[0].keys()]\n",
    "print(key_list)"
   ]
  },
  {
   "cell_type": "markdown",
   "id": "cef5dbb9",
   "metadata": {},
   "source": [
    "# 결과 csv 파일로 저장하기"
   ]
  },
  {
   "cell_type": "code",
   "execution_count": 20,
   "id": "774704d9",
   "metadata": {},
   "outputs": [],
   "source": [
    "import csv\n",
    "\n",
    "with open('/Users/jhnam/workspace/playground-data/crawler/output/wanted_crawling_output_2.csv', 'w', encoding='UTF-8') as f:\n",
    "    # csv 파일의 헤더 설정\n",
    "    header = ['id', 'title', 'company', 'location', 'tags', 'qualifications', 'preferred', 'benefits', 'skills', 'workplace']\n",
    "\n",
    "    # 헤더 적용\n",
    "    writer = csv.DictWriter(f, fieldnames=header)\n",
    "    writer.writeheader()\n",
    "    \n",
    "    # 헤더에 맞게 딕셔너리 값 입력\n",
    "    for jd in total:\n",
    "        writer.writerow(jd)"
   ]
  },
  {
   "cell_type": "code",
   "execution_count": null,
   "id": "c93e4998",
   "metadata": {},
   "outputs": [],
   "source": []
  },
  {
   "cell_type": "markdown",
   "id": "0efbe139",
   "metadata": {},
   "source": [
    "# 전처리 (진행중)"
   ]
  },
  {
   "cell_type": "code",
   "execution_count": null,
   "id": "613a6da1",
   "metadata": {},
   "outputs": [],
   "source": [
    "import re\n",
    "import nltk\n",
    "from nltk.tokenize import word_tokenize\n",
    "from nltk.tag import pos_tag\n",
    "\n",
    "nltk.download('punkt')\n",
    "nltk.download('averaged_perceptron_tagger')\n",
    "\n",
    "\n",
    "exception_list = ['를', '를', '를', '을', '을', '있거나', '있으신', '갖추신', '경험이', '이상의', '에', '에', '에', '에', '에', '이용한', '에', '에', '에', '준하는', '에', '있으신', '에', '에', '에', '중심적인', '에', '에', '이해를', '에', '대한', '및', '가지고', '전반적인', '에']\n",
    "\n",
    "# 텍스트 정의\n",
    "contents = \"• 6년 이상의 백엔드 개발 경력이 있거나 그에 준하는 실력을 갖추신 분\\n• JavaScript / TypeScript 를 이용한 개발에 능숙하신 분\\n• 웹 서비스에 대한 전반적인 이해를 갖추신 분\\n• RDB(Postgres) 및 ORM에 대한 전반적인 이해를 갖추신 분\\n• 도커, 쿠버네티스 등 컨테이너 기반의 서비스에 대한 경험이 있으신 분\\n• 1년 이상의 NestJS 실무 프로젝트 개발 경험이 있으신 분\\n• 모듈화, 테스트, 유지보수가 용이한 코드에 대한 이해를 갖추고 계신 분\\n• 기술 중심이 아닌 유저 중심적인 태도를 가지고 계신 분\\n• 배움에 대한 열정을 갖고, 지속적이고 효과적으로 피드백을 주고 받는 분\"\n",
    "\n",
    "# 특수문자 제거\n",
    "contents = re.sub(r'[^\\w\\s]', '', contents)\n",
    "\n",
    "# 단어 토큰화\n",
    "tokens = word_tokenize(contents)\n",
    "\n",
    "# 품사 태깅\n",
    "tagged_words = pos_tag(tokens)\n",
    "\n",
    "# 명사 추출 (동사 및 불용어 제외)\n",
    "nouns = [word for word, pos in tagged_words if pos.startswith('N') and not pos.startswith('V') and word.lower() not in exception_list]\n",
    "\n",
    "# 중복 제거\n",
    "nouns = list(set(nouns))\n",
    "\n",
    "# 결과 출력\n",
    "print(nouns)"
   ]
  },
  {
   "cell_type": "code",
   "execution_count": null,
   "id": "2e74ffdb",
   "metadata": {},
   "outputs": [],
   "source": []
  }
 ],
 "metadata": {
  "kernelspec": {
   "display_name": "Python 3 (ipykernel)",
   "language": "python",
   "name": "python3"
  },
  "language_info": {
   "codemirror_mode": {
    "name": "ipython",
    "version": 3
   },
   "file_extension": ".py",
   "mimetype": "text/x-python",
   "name": "python",
   "nbconvert_exporter": "python",
   "pygments_lexer": "ipython3",
   "version": "3.9.16"
  },
  "toc": {
   "base_numbering": 1,
   "nav_menu": {},
   "number_sections": true,
   "sideBar": true,
   "skip_h1_title": false,
   "title_cell": "Table of Contents",
   "title_sidebar": "Contents",
   "toc_cell": false,
   "toc_position": {},
   "toc_section_display": true,
   "toc_window_display": false
  }
 },
 "nbformat": 4,
 "nbformat_minor": 5
}
