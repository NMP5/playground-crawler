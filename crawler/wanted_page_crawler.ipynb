{
 "cells": [
  {
   "cell_type": "code",
   "execution_count": 22,
   "id": "b2174a81",
   "metadata": {
    "scrolled": true
   },
   "outputs": [],
   "source": [
    "from selenium import webdriver\n",
    "from selenium.webdriver.common.keys import Keys\n",
    "# 페이지 로딩을 기다리는데에 사용할 time 모듈 import\n",
    "import time\n",
    "import re"
   ]
  },
  {
   "cell_type": "code",
   "execution_count": 93,
   "id": "7875db27",
   "metadata": {},
   "outputs": [],
   "source": [
    "def get_url_list():\n",
    "    with open(\"./wd_link\") as f:\n",
    "        urls = f.readlines()\n",
    "    \n",
    "    urls = [url.rstrip('\\n') for url in urls]\n",
    "    \n",
    "    return urls\n",
    "\n",
    "def get_job_description(driver, url):\n",
    "    driver.get(url)\n",
    "    time.sleep(3)\n",
    "    \n",
    "    res = {}\n",
    "    \n",
    "    # JobHeader 클래스 가져와서 title, company 추출\n",
    "    job_header = driver.find_element(By.CLASS_NAME, 'JobHeader_className__HttDA')\n",
    "    title = job_header.find_element(By.TAG_NAME, 'h2')\n",
    "    company = job_header.find_element(By.TAG_NAME, 'a')\n",
    "    \n",
    "    # res 딕셔너리에 저장\n",
    "    res['title'] = title.text\n",
    "    res['company'] = company.text\n",
    "\n",
    "    # JobDescription 클래스 가져와서 header, contents 추출\n",
    "    jd = driver.find_element(By.CLASS_NAME, 'JobDescription_JobDescription__VWfcb')\n",
    "    jd_header = jd.find_elements(By.TAG_NAME, 'h6')\n",
    "    jd_contents = jd.find_elements(By.TAG_NAME, 'p')\n",
    "\n",
    "    for i in range(1, len(jd_header)+1):\n",
    "        title = jd_header[i-1].text\n",
    "        content = jd_contents[i].text\n",
    "    \n",
    "        if title == '자격요건':\n",
    "            res['qualifications'] = content\n",
    "        elif title == '우대사항':\n",
    "            res['preferred'] = content\n",
    "            break\n",
    "\n",
    "        elif title == '기술스택 ・ 툴':\n",
    "            skill_list = content.split(\"\\n\")\n",
    "            res[\"skills\"] = skill_list\n",
    "        \n",
    "    return res"
   ]
  },
  {
   "cell_type": "code",
   "execution_count": 96,
   "id": "8cbbb6ae",
   "metadata": {
    "scrolled": false
   },
   "outputs": [
    {
     "name": "stdout",
     "output_type": "stream",
     "text": [
      "{'title': '보안 기술 엔지니어', 'company': '아인시스에이아이랩', 'qualification': '• IDS/IPS 사고분석 경력을 1년 이상 보유하신 분', 'preferential_treatments': '• 전산학, 컴퓨터공학을 전공하신 분 \\n• 보안 장비 프로젝트를 경험해보신 분\\n• 보안/네트워크 관련 자격증을 소지하신 분'}\n",
      "{'title': 'Backend 개발팀 시니어 개발자 (6년 이상)', 'company': '모던라이언', 'qualification': '• 6년 이상의 백엔드 개발 경력이 있거나 그에 준하는 실력을 갖추신 분\\n• JavaScript / TypeScript 를 이용한 개발에 능숙하신 분\\n• 웹 서비스에 대한 전반적인 이해를 갖추신 분\\n• RDB(Postgres) 및 ORM에 대한 전반적인 이해를 갖추신 분\\n• 도커, 쿠버네티스 등 컨테이너 기반의 서비스에 대한 경험이 있으신 분\\n• 1년 이상의 NestJS 실무 프로젝트 개발 경험이 있으신 분\\n• 모듈화, 테스트, 유지보수가 용이한 코드에 대한 이해를 갖추고 계신 분\\n• 기술 중심이 아닌 유저 중심적인 태도를 가지고 계신 분\\n• 배움에 대한 열정을 갖고, 지속적이고 효과적으로 피드백을 주고 받는 분', 'preferential_treatments': '• 하나 이상의 백엔드 서비스나 플랫폼을 직접 설계 및 개발한 경험이 있는 분\\n• NestJS, TypeORM, Ethers 등의 라이브러리 사용 경험이 있는 분\\n• 사용자 인증과 인가 방식에 대한 설계 및 구현 경험이 있는 분\\n• 블록체인과 NFT 도메인에 대한 이해가 있으며, 관련 개발에 경험이 있으신 분\\n• 피그마로 제작된 UI / UX 기반으로 기획자와 협업 경험이 있으신 분'}\n",
      "{'title': '솔루션 운영 엔지니어 (국내)', 'company': '스콥정보통신', 'qualification': '• 학력 : 초대졸 이상\\n• 전공 : 무관\\n• 경력 : 5년 이상\\n\\n• 네트워크 및 보안 관련 업무경력\\n• NAC, IP관리 솔루션 운영 경험자\\n• Network L2,L3 운영 경험자\\n• 서버 / DB설치 지식 보유자', 'preferential_treatments': '• 컨설팅 관련 업무 경력\\n• 동종업계 제조사 엔지니어'}\n",
      "{'title': 'Cyber Security Manager (Automotive)', 'company': '럭스소프트코리아', 'qualification': '• Experience with creating and managing Security Architecture and/or Solution Architecture\\n• Proven work experience in-Vehicle Cyber Security\\n• Threat modelling and vulnerability analysis\\n• Risk assessment/management experience, including threat identification, risk assessment and mitigation as well as vulnerability management and tracking\\n• Strong software security expertise, including familiarity with Secure Software Development Lifecycle, SAST, Threat Modelling, and Penetration testing concepts\\n• Experience and ability to perform Threat modelling for automotive software projects\\n• Understanding of automotive security standards and guidelines (ISO 21434, SAE J3061 and others)\\n• Familiarity with safety requirements set towards automotive software solutions (ISO 26262:2018)', 'preferential_treatments': '• Security certification is a plus (CISSP, CRISC, CISA, CISSP-ISSAP)\\n• Experience in managing cyber security in automotive projects\\n• Technical IT-related degree or equivalent qualification\\n• Consulting experience'}\n",
      "{'title': 'Digital 회로설계 개발자', 'company': '테스콤', 'qualification': '• 전자회로 기초이론 이해 및 설계 능력\\n• High Speed Digital 회로 설계 능력\\n• 영어 문서를 읽고 이해하는 능력', 'preferential_treatments': '통신공학, 전자공학, 정보통신 공학 전공자'}\n",
      "{'title': 'NVR, VMS 설계 및 개발자', 'company': '에이클시스템', 'qualification': '• C++ 프로그래밍 능력\\n• NVR, VMS 연구 설계 및 개발 경력', 'preferential_treatments': '• AI 영상분석 개발 경험\\n• 정보처리기사 자격증 소지'}\n",
      "{'title': 'Software Engineer (Frontend)', 'company': '언베일드', 'qualification': '- React 및 HTML/CSS 경험 (layout, specificity, cross browser compatibility, accessibility 등) 3년 이상\\n- 브라우저 API 및 프론트엔드 성능 최적화 관련 경험 3년 이상', 'preferential_treatments': '- Web3.js 사용 경험\\n- 블록체인 애플리케이션 및 dApp에 대한 기본적인 이해\\n- 오픈 소스 프로젝트에 기여한 경험'}\n",
      "{'title': '프론트엔드 개발자 (3년 이상)', 'company': '스마트잭', 'qualification': '• 프론트 개발 경력 3년 이상 이신 분\\n• Vue.js, Javascript(ES6+) 개발에 능숙하신 분\\n• Git에 대한 이해 및 소스 코드 관리 경험이 있으신 분', 'preferential_treatments': '• Mobile Web 기반 하이브리드 App  프로젝트 경험자 (Flutter)\\n• 프로젝트 리딩 경험자\\n• Node.js, express.js 경험자\\n• Typescript 개발 경험자\\n• AWS 환경에서 서비스 운영 및 배포 경험자\\n• 대규모 서비스 설계 및 개발 경험자'}\n"
     ]
    },
    {
     "ename": "WebDriverException",
     "evalue": "Message: disconnected: not connected to DevTools\n  (failed to check if window was closed: disconnected: not connected to DevTools)\n  (Session info: chrome=114.0.5735.106)\nStacktrace:\n0   chromedriver                        0x00000001063c86b8 chromedriver + 4937400\n1   chromedriver                        0x00000001063bfb73 chromedriver + 4901747\n2   chromedriver                        0x0000000105f7d616 chromedriver + 435734\n3   chromedriver                        0x0000000105f63bc1 chromedriver + 330689\n4   chromedriver                        0x0000000105f63923 chromedriver + 330019\n5   chromedriver                        0x0000000105f7f262 chromedriver + 442978\n6   chromedriver                        0x0000000105fff56e chromedriver + 968046\n7   chromedriver                        0x0000000105fe4de3 chromedriver + 859619\n8   chromedriver                        0x0000000105fb2d7f chromedriver + 654719\n9   chromedriver                        0x0000000105fb40de chromedriver + 659678\n10  chromedriver                        0x00000001063842ad chromedriver + 4657837\n11  chromedriver                        0x0000000106389130 chromedriver + 4677936\n12  chromedriver                        0x000000010638fdef chromedriver + 4705775\n13  chromedriver                        0x000000010638a05a chromedriver + 4681818\n14  chromedriver                        0x000000010635c92c chromedriver + 4495660\n15  chromedriver                        0x00000001063a7838 chromedriver + 4802616\n16  chromedriver                        0x00000001063a79b7 chromedriver + 4802999\n17  chromedriver                        0x00000001063b899f chromedriver + 4872607\n18  libsystem_pthread.dylib             0x00007ff817c0c1d3 _pthread_start + 125\n19  libsystem_pthread.dylib             0x00007ff817c07bd3 thread_start + 15\n",
     "output_type": "error",
     "traceback": [
      "\u001b[0;31m---------------------------------------------------------------------------\u001b[0m",
      "\u001b[0;31mWebDriverException\u001b[0m                        Traceback (most recent call last)",
      "Cell \u001b[0;32mIn[96], line 9\u001b[0m\n\u001b[1;32m      6\u001b[0m total \u001b[38;5;241m=\u001b[39m []\n\u001b[1;32m      8\u001b[0m \u001b[38;5;28;01mfor\u001b[39;00m url \u001b[38;5;129;01min\u001b[39;00m urls:\n\u001b[0;32m----> 9\u001b[0m     res \u001b[38;5;241m=\u001b[39m \u001b[43mget_job_description\u001b[49m\u001b[43m(\u001b[49m\u001b[43mdriver\u001b[49m\u001b[43m,\u001b[49m\u001b[43m \u001b[49m\u001b[43murl\u001b[49m\u001b[43m)\u001b[49m\n\u001b[1;32m     10\u001b[0m     \u001b[38;5;28mprint\u001b[39m(res)\n\u001b[1;32m     11\u001b[0m     total\u001b[38;5;241m.\u001b[39mappend(res)\n",
      "Cell \u001b[0;32mIn[93], line 16\u001b[0m, in \u001b[0;36mget_job_description\u001b[0;34m(driver, url)\u001b[0m\n\u001b[1;32m     13\u001b[0m res \u001b[38;5;241m=\u001b[39m {}\n\u001b[1;32m     15\u001b[0m \u001b[38;5;66;03m# JobHeader 클래스 가져와서 title, company 추출\u001b[39;00m\n\u001b[0;32m---> 16\u001b[0m job_header \u001b[38;5;241m=\u001b[39m \u001b[43mdriver\u001b[49m\u001b[38;5;241;43m.\u001b[39;49m\u001b[43mfind_element\u001b[49m\u001b[43m(\u001b[49m\u001b[43mBy\u001b[49m\u001b[38;5;241;43m.\u001b[39;49m\u001b[43mCLASS_NAME\u001b[49m\u001b[43m,\u001b[49m\u001b[43m \u001b[49m\u001b[38;5;124;43m'\u001b[39;49m\u001b[38;5;124;43mJobHeader_className__HttDA\u001b[39;49m\u001b[38;5;124;43m'\u001b[39;49m\u001b[43m)\u001b[49m\n\u001b[1;32m     17\u001b[0m title \u001b[38;5;241m=\u001b[39m job_header\u001b[38;5;241m.\u001b[39mfind_element(By\u001b[38;5;241m.\u001b[39mTAG_NAME, \u001b[38;5;124m'\u001b[39m\u001b[38;5;124mh2\u001b[39m\u001b[38;5;124m'\u001b[39m)\n\u001b[1;32m     18\u001b[0m company \u001b[38;5;241m=\u001b[39m job_header\u001b[38;5;241m.\u001b[39mfind_element(By\u001b[38;5;241m.\u001b[39mTAG_NAME, \u001b[38;5;124m'\u001b[39m\u001b[38;5;124ma\u001b[39m\u001b[38;5;124m'\u001b[39m)\n",
      "File \u001b[0;32m/usr/local/lib/python3.9/site-packages/selenium/webdriver/remote/webdriver.py:740\u001b[0m, in \u001b[0;36mWebDriver.find_element\u001b[0;34m(self, by, value)\u001b[0m\n\u001b[1;32m    737\u001b[0m     by \u001b[38;5;241m=\u001b[39m By\u001b[38;5;241m.\u001b[39mCSS_SELECTOR\n\u001b[1;32m    738\u001b[0m     value \u001b[38;5;241m=\u001b[39m \u001b[38;5;124mf\u001b[39m\u001b[38;5;124m'\u001b[39m\u001b[38;5;124m[name=\u001b[39m\u001b[38;5;124m\"\u001b[39m\u001b[38;5;132;01m{\u001b[39;00mvalue\u001b[38;5;132;01m}\u001b[39;00m\u001b[38;5;124m\"\u001b[39m\u001b[38;5;124m]\u001b[39m\u001b[38;5;124m'\u001b[39m\n\u001b[0;32m--> 740\u001b[0m \u001b[38;5;28;01mreturn\u001b[39;00m \u001b[38;5;28;43mself\u001b[39;49m\u001b[38;5;241;43m.\u001b[39;49m\u001b[43mexecute\u001b[49m\u001b[43m(\u001b[49m\u001b[43mCommand\u001b[49m\u001b[38;5;241;43m.\u001b[39;49m\u001b[43mFIND_ELEMENT\u001b[49m\u001b[43m,\u001b[49m\u001b[43m \u001b[49m\u001b[43m{\u001b[49m\u001b[38;5;124;43m\"\u001b[39;49m\u001b[38;5;124;43musing\u001b[39;49m\u001b[38;5;124;43m\"\u001b[39;49m\u001b[43m:\u001b[49m\u001b[43m \u001b[49m\u001b[43mby\u001b[49m\u001b[43m,\u001b[49m\u001b[43m \u001b[49m\u001b[38;5;124;43m\"\u001b[39;49m\u001b[38;5;124;43mvalue\u001b[39;49m\u001b[38;5;124;43m\"\u001b[39;49m\u001b[43m:\u001b[49m\u001b[43m \u001b[49m\u001b[43mvalue\u001b[49m\u001b[43m}\u001b[49m\u001b[43m)\u001b[49m[\u001b[38;5;124m\"\u001b[39m\u001b[38;5;124mvalue\u001b[39m\u001b[38;5;124m\"\u001b[39m]\n",
      "File \u001b[0;32m/usr/local/lib/python3.9/site-packages/selenium/webdriver/remote/webdriver.py:346\u001b[0m, in \u001b[0;36mWebDriver.execute\u001b[0;34m(self, driver_command, params)\u001b[0m\n\u001b[1;32m    344\u001b[0m response \u001b[38;5;241m=\u001b[39m \u001b[38;5;28mself\u001b[39m\u001b[38;5;241m.\u001b[39mcommand_executor\u001b[38;5;241m.\u001b[39mexecute(driver_command, params)\n\u001b[1;32m    345\u001b[0m \u001b[38;5;28;01mif\u001b[39;00m response:\n\u001b[0;32m--> 346\u001b[0m     \u001b[38;5;28;43mself\u001b[39;49m\u001b[38;5;241;43m.\u001b[39;49m\u001b[43merror_handler\u001b[49m\u001b[38;5;241;43m.\u001b[39;49m\u001b[43mcheck_response\u001b[49m\u001b[43m(\u001b[49m\u001b[43mresponse\u001b[49m\u001b[43m)\u001b[49m\n\u001b[1;32m    347\u001b[0m     response[\u001b[38;5;124m\"\u001b[39m\u001b[38;5;124mvalue\u001b[39m\u001b[38;5;124m\"\u001b[39m] \u001b[38;5;241m=\u001b[39m \u001b[38;5;28mself\u001b[39m\u001b[38;5;241m.\u001b[39m_unwrap_value(response\u001b[38;5;241m.\u001b[39mget(\u001b[38;5;124m\"\u001b[39m\u001b[38;5;124mvalue\u001b[39m\u001b[38;5;124m\"\u001b[39m, \u001b[38;5;28;01mNone\u001b[39;00m))\n\u001b[1;32m    348\u001b[0m     \u001b[38;5;28;01mreturn\u001b[39;00m response\n",
      "File \u001b[0;32m/usr/local/lib/python3.9/site-packages/selenium/webdriver/remote/errorhandler.py:245\u001b[0m, in \u001b[0;36mErrorHandler.check_response\u001b[0;34m(self, response)\u001b[0m\n\u001b[1;32m    243\u001b[0m         alert_text \u001b[38;5;241m=\u001b[39m value[\u001b[38;5;124m\"\u001b[39m\u001b[38;5;124malert\u001b[39m\u001b[38;5;124m\"\u001b[39m]\u001b[38;5;241m.\u001b[39mget(\u001b[38;5;124m\"\u001b[39m\u001b[38;5;124mtext\u001b[39m\u001b[38;5;124m\"\u001b[39m)\n\u001b[1;32m    244\u001b[0m     \u001b[38;5;28;01mraise\u001b[39;00m exception_class(message, screen, stacktrace, alert_text)  \u001b[38;5;66;03m# type: ignore[call-arg]  # mypy is not smart enough here\u001b[39;00m\n\u001b[0;32m--> 245\u001b[0m \u001b[38;5;28;01mraise\u001b[39;00m exception_class(message, screen, stacktrace)\n",
      "\u001b[0;31mWebDriverException\u001b[0m: Message: disconnected: not connected to DevTools\n  (failed to check if window was closed: disconnected: not connected to DevTools)\n  (Session info: chrome=114.0.5735.106)\nStacktrace:\n0   chromedriver                        0x00000001063c86b8 chromedriver + 4937400\n1   chromedriver                        0x00000001063bfb73 chromedriver + 4901747\n2   chromedriver                        0x0000000105f7d616 chromedriver + 435734\n3   chromedriver                        0x0000000105f63bc1 chromedriver + 330689\n4   chromedriver                        0x0000000105f63923 chromedriver + 330019\n5   chromedriver                        0x0000000105f7f262 chromedriver + 442978\n6   chromedriver                        0x0000000105fff56e chromedriver + 968046\n7   chromedriver                        0x0000000105fe4de3 chromedriver + 859619\n8   chromedriver                        0x0000000105fb2d7f chromedriver + 654719\n9   chromedriver                        0x0000000105fb40de chromedriver + 659678\n10  chromedriver                        0x00000001063842ad chromedriver + 4657837\n11  chromedriver                        0x0000000106389130 chromedriver + 4677936\n12  chromedriver                        0x000000010638fdef chromedriver + 4705775\n13  chromedriver                        0x000000010638a05a chromedriver + 4681818\n14  chromedriver                        0x000000010635c92c chromedriver + 4495660\n15  chromedriver                        0x00000001063a7838 chromedriver + 4802616\n16  chromedriver                        0x00000001063a79b7 chromedriver + 4802999\n17  chromedriver                        0x00000001063b899f chromedriver + 4872607\n18  libsystem_pthread.dylib             0x00007ff817c0c1d3 _pthread_start + 125\n19  libsystem_pthread.dylib             0x00007ff817c07bd3 thread_start + 15\n"
     ]
    }
   ],
   "source": [
    "driver = webdriver.Chrome()\n",
    "\n",
    "# url = 'https://www.wanted.co.kr/wd/164241'\n",
    "\n",
    "urls = get_url_list()\n",
    "total = []\n",
    "\n",
    "for url in urls:\n",
    "    res = get_job_description(driver, url)\n",
    "    print(res)\n",
    "    total.append(res)\n",
    "        \n",
    "driver.close()"
   ]
  },
  {
   "cell_type": "code",
   "execution_count": 98,
   "id": "6a47bb90",
   "metadata": {},
   "outputs": [
    {
     "name": "stdout",
     "output_type": "stream",
     "text": [
      "[{'title': '보안 기술 엔지니어', 'company': '아인시스에이아이랩', 'qualification': '• IDS/IPS 사고분석 경력을 1년 이상 보유하신 분', 'preferential_treatments': '• 전산학, 컴퓨터공학을 전공하신 분 \\n• 보안 장비 프로젝트를 경험해보신 분\\n• 보안/네트워크 관련 자격증을 소지하신 분'}, {'title': 'Backend 개발팀 시니어 개발자 (6년 이상)', 'company': '모던라이언', 'qualification': '• 6년 이상의 백엔드 개발 경력이 있거나 그에 준하는 실력을 갖추신 분\\n• JavaScript / TypeScript 를 이용한 개발에 능숙하신 분\\n• 웹 서비스에 대한 전반적인 이해를 갖추신 분\\n• RDB(Postgres) 및 ORM에 대한 전반적인 이해를 갖추신 분\\n• 도커, 쿠버네티스 등 컨테이너 기반의 서비스에 대한 경험이 있으신 분\\n• 1년 이상의 NestJS 실무 프로젝트 개발 경험이 있으신 분\\n• 모듈화, 테스트, 유지보수가 용이한 코드에 대한 이해를 갖추고 계신 분\\n• 기술 중심이 아닌 유저 중심적인 태도를 가지고 계신 분\\n• 배움에 대한 열정을 갖고, 지속적이고 효과적으로 피드백을 주고 받는 분', 'preferential_treatments': '• 하나 이상의 백엔드 서비스나 플랫폼을 직접 설계 및 개발한 경험이 있는 분\\n• NestJS, TypeORM, Ethers 등의 라이브러리 사용 경험이 있는 분\\n• 사용자 인증과 인가 방식에 대한 설계 및 구현 경험이 있는 분\\n• 블록체인과 NFT 도메인에 대한 이해가 있으며, 관련 개발에 경험이 있으신 분\\n• 피그마로 제작된 UI / UX 기반으로 기획자와 협업 경험이 있으신 분'}, {'title': '솔루션 운영 엔지니어 (국내)', 'company': '스콥정보통신', 'qualification': '• 학력 : 초대졸 이상\\n• 전공 : 무관\\n• 경력 : 5년 이상\\n\\n• 네트워크 및 보안 관련 업무경력\\n• NAC, IP관리 솔루션 운영 경험자\\n• Network L2,L3 운영 경험자\\n• 서버 / DB설치 지식 보유자', 'preferential_treatments': '• 컨설팅 관련 업무 경력\\n• 동종업계 제조사 엔지니어'}, {'title': 'Cyber Security Manager (Automotive)', 'company': '럭스소프트코리아', 'qualification': '• Experience with creating and managing Security Architecture and/or Solution Architecture\\n• Proven work experience in-Vehicle Cyber Security\\n• Threat modelling and vulnerability analysis\\n• Risk assessment/management experience, including threat identification, risk assessment and mitigation as well as vulnerability management and tracking\\n• Strong software security expertise, including familiarity with Secure Software Development Lifecycle, SAST, Threat Modelling, and Penetration testing concepts\\n• Experience and ability to perform Threat modelling for automotive software projects\\n• Understanding of automotive security standards and guidelines (ISO 21434, SAE J3061 and others)\\n• Familiarity with safety requirements set towards automotive software solutions (ISO 26262:2018)', 'preferential_treatments': '• Security certification is a plus (CISSP, CRISC, CISA, CISSP-ISSAP)\\n• Experience in managing cyber security in automotive projects\\n• Technical IT-related degree or equivalent qualification\\n• Consulting experience'}, {'title': 'Digital 회로설계 개발자', 'company': '테스콤', 'qualification': '• 전자회로 기초이론 이해 및 설계 능력\\n• High Speed Digital 회로 설계 능력\\n• 영어 문서를 읽고 이해하는 능력', 'preferential_treatments': '통신공학, 전자공학, 정보통신 공학 전공자'}, {'title': 'NVR, VMS 설계 및 개발자', 'company': '에이클시스템', 'qualification': '• C++ 프로그래밍 능력\\n• NVR, VMS 연구 설계 및 개발 경력', 'preferential_treatments': '• AI 영상분석 개발 경험\\n• 정보처리기사 자격증 소지'}, {'title': 'Software Engineer (Frontend)', 'company': '언베일드', 'qualification': '- React 및 HTML/CSS 경험 (layout, specificity, cross browser compatibility, accessibility 등) 3년 이상\\n- 브라우저 API 및 프론트엔드 성능 최적화 관련 경험 3년 이상', 'preferential_treatments': '- Web3.js 사용 경험\\n- 블록체인 애플리케이션 및 dApp에 대한 기본적인 이해\\n- 오픈 소스 프로젝트에 기여한 경험'}, {'title': '프론트엔드 개발자 (3년 이상)', 'company': '스마트잭', 'qualification': '• 프론트 개발 경력 3년 이상 이신 분\\n• Vue.js, Javascript(ES6+) 개발에 능숙하신 분\\n• Git에 대한 이해 및 소스 코드 관리 경험이 있으신 분', 'preferential_treatments': '• Mobile Web 기반 하이브리드 App  프로젝트 경험자 (Flutter)\\n• 프로젝트 리딩 경험자\\n• Node.js, express.js 경험자\\n• Typescript 개발 경험자\\n• AWS 환경에서 서비스 운영 및 배포 경험자\\n• 대규모 서비스 설계 및 개발 경험자'}]\n"
     ]
    }
   ],
   "source": [
    "print(total)"
   ]
  },
  {
   "cell_type": "code",
   "execution_count": 89,
   "id": "315aa9e0",
   "metadata": {},
   "outputs": [
    {
     "name": "stdout",
     "output_type": "stream",
     "text": [
      "['Web3', 'js', '사용', '경험', '블록체인', '애플리케이션', '및', 'dApp에', '대한', '기본적인', '이해', '오픈', '소스', '프로젝트에', '기여한', '경험']\n"
     ]
    }
   ],
   "source": [
    "import re\n",
    "\n",
    "# [word].[word] 형식의 단어 처리\n",
    "cleaned_list = []\n",
    "for word in word_list:\n",
    "    if re.match(r'^\\w+\\.\\w+$', word):\n",
    "        combined_word = word.replace('.', '')\n",
    "        cleaned_list.append(combined_word)\n",
    "    else:\n",
    "        cleaned_list.extend(re.findall(r'\\b\\w+\\b', word))\n",
    "\n",
    "print(cleaned_list)"
   ]
  },
  {
   "cell_type": "code",
   "execution_count": 99,
   "id": "774704d9",
   "metadata": {},
   "outputs": [],
   "source": [
    "import csv\n",
    "\n",
    "with open('//Users/jhnam/workspace/dummy/wanted_crawling_data.csv', 'w', encoding='UTF-8') as f:\n",
    "    # csv 파일의 헤더 설정\n",
    "    header = ['title', 'company', 'qualifications', 'preferred', 'skills']\n",
    "\n",
    "    # 헤더 적용\n",
    "    writer = csv.DictWriter(f, fieldnames=header)\n",
    "    writer.writeheader()\n",
    "    \n",
    "    # 헤더에 맞게 딕셔너리 값 입력\n",
    "    for jd in total:\n",
    "        writer.writerow(jd)"
   ]
  }
 ],
 "metadata": {
  "kernelspec": {
   "display_name": "Python 3 (ipykernel)",
   "language": "python",
   "name": "python3"
  },
  "language_info": {
   "codemirror_mode": {
    "name": "ipython",
    "version": 3
   },
   "file_extension": ".py",
   "mimetype": "text/x-python",
   "name": "python",
   "nbconvert_exporter": "python",
   "pygments_lexer": "ipython3",
   "version": "3.9.16"
  },
  "toc": {
   "base_numbering": 1,
   "nav_menu": {},
   "number_sections": true,
   "sideBar": true,
   "skip_h1_title": false,
   "title_cell": "Table of Contents",
   "title_sidebar": "Contents",
   "toc_cell": false,
   "toc_position": {},
   "toc_section_display": true,
   "toc_window_display": false
  }
 },
 "nbformat": 4,
 "nbformat_minor": 5
}
