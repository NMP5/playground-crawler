{
 "cells": [
  {
   "attachments": {},
   "cell_type": "markdown",
   "id": "21939a40",
   "metadata": {},
   "source": [
    "# 라이브러리 import"
   ]
  },
  {
   "cell_type": "code",
   "execution_count": 17,
   "id": "b2174a81",
   "metadata": {
    "scrolled": true
   },
   "outputs": [],
   "source": [
    "import requests\n",
    "\n",
    "from selenium import webdriver\n",
    "from selenium.webdriver.common.keys import Keys\n",
    "from selenium.webdriver.common.by import By\n",
    "\n",
    "# 페이지 로딩을 기다리는데에 사용할 time 모듈 import\n",
    "import time\n",
    "import re\n",
    "from tqdm import tqdm\n",
    "from selenium.common.exceptions import NoSuchElementException\n"
   ]
  },
  {
   "attachments": {},
   "cell_type": "markdown",
   "id": "75a8d87d",
   "metadata": {},
   "source": [
    "# 함수 정의"
   ]
  },
  {
   "cell_type": "code",
   "execution_count": 32,
   "id": "7875db27",
   "metadata": {},
   "outputs": [],
   "source": [
    "def get_url_list():\n",
    "    with open(\"../data/job_fix_list.csv\", encoding='cp949') as f:\n",
    "        urls = f.readlines()\n",
    "\n",
    "#     url_list = []\n",
    "\n",
    "#     for url in urls:\n",
    "#         url_spl = url.rstrip(\"\\n\").split(\",\")\n",
    "\n",
    "#         job = \",\".join(url_spl[:-1]).strip('\"\"')\n",
    "#         url = url_spl[-1]\n",
    "\n",
    "#         url_list.append([job, url])\n",
    "\n",
    "    url_list = [url.rstrip(\"\\n\") for url in urls]\n",
    "    \n",
    "    return url_list\n",
    "\n",
    "def get_job_description(driver, url):\n",
    "    \n",
    "    # Job Description 을 담을 딕셔너리 생성\n",
    "    res = {}\n",
    "    \n",
    "    response = requests.get(url)\n",
    "    \n",
    "    if response.status_code == 200:\n",
    "        try:\n",
    "            \n",
    "            # url 접속하기\n",
    "            driver.get(url)\n",
    "\n",
    "            # 화면 비율을 축소해서 모든 데이터 보이게 만들기\n",
    "            driver.execute_script(\"document.body.style.zoom='10%'\")\n",
    "\n",
    "            time.sleep(5)\n",
    "\n",
    "            # url 에서 index 값 추출\n",
    "            res['id'] = url.split(\"/\")[-1]\n",
    "\n",
    "            # JobHeader 클래스 가져와서 title, company, tags 추출\n",
    "            job_header = driver.find_element(By.CLASS_NAME, 'JobHeader_className__HttDA')\n",
    "            title = job_header.find_element(By.TAG_NAME, 'h2')\n",
    "            company = job_header.find_element(By.TAG_NAME, 'a')\n",
    "            location = job_header.find_element(By.CLASS_NAME, 'JobHeader_mobileLocationContainer__DyxUQ')\n",
    "            tags = job_header.find_element(By.CLASS_NAME, 'Tags_tagsClass__mvehZ')\n",
    "\n",
    "            # res 딕셔너리에 저장\n",
    "            res['title'] = title.text\n",
    "            res['company'] = company.text\n",
    "            res['location'] = location.text.split(\".\")\n",
    "\n",
    "            # Tag 리스트 가져와서 저장\n",
    "            tag_list = list(map(str, tags.text.split('#')))\n",
    "            tag_list = tag_list[1:]\n",
    "            res['tags'] = tag_list\n",
    "\n",
    "            # JobDescription 클래스 가져와서 header, contents 추출\n",
    "            jd = driver.find_element(By.CLASS_NAME, 'JobDescription_JobDescription__VWfcb')\n",
    "            jd_header = jd.find_elements(By.TAG_NAME, 'h6')\n",
    "            jd_contents = jd.find_elements(By.TAG_NAME, 'p')\n",
    "\n",
    "            for i in range(1, len(jd_header)+1):\n",
    "                title = jd_header[i-1].text\n",
    "                content = jd_contents[i].text.split(\"\\n\")\n",
    "\n",
    "                if title == '자격요건':\n",
    "                    res['qualifications'] = content\n",
    "                elif title == '우대사항':\n",
    "                    res['preferred'] = content\n",
    "                elif title == '혜택 및 복지':\n",
    "                    res[\"benefits\"] = content\n",
    "                elif title == '기술스택 ・ 툴':\n",
    "                    res[\"skills\"] = content\n",
    "\n",
    "\n",
    "            jwp = driver.find_element(By.CLASS_NAME, \"JobWorkPlace_className__ra6rp\")\n",
    "            jwp_bodies = jwp.find_elements(By.CLASS_NAME, 'body')\n",
    "\n",
    "            if len(jwp_bodies) < 2:\n",
    "                workplace = \"\"\n",
    "            else:\n",
    "                workplace = jwp_bodies[1].text\n",
    "\n",
    "            res['workplace'] = workplace\n",
    "        except NoSuchElementException:\n",
    "            print(\"존재하지 않는 페이지 입니다.\")\n",
    "    else:\n",
    "        print(\"존재하지 않는 페이지 입니다.\")\n",
    "        print(\"res = \", res)\n",
    "    \n",
    "    return res"
   ]
  },
  {
   "attachments": {},
   "cell_type": "markdown",
   "id": "d5eb044c",
   "metadata": {},
   "source": [
    "# 크롤링 실행"
   ]
  },
  {
   "cell_type": "code",
   "execution_count": 34,
   "id": "8cbbb6ae",
   "metadata": {
    "scrolled": false
   },
   "outputs": [
    {
     "name": "stderr",
     "output_type": "stream",
     "text": [
      "  0%|          | 2/2000 [00:22<6:16:27, 11.31s/it]\n"
     ]
    },
    {
     "ename": "NoSuchWindowException",
     "evalue": "Message: no such window: target window already closed\nfrom unknown error: web view not found\n  (Session info: chrome=114.0.5735.134)\nStacktrace:\nBacktrace:\n\tGetHandleVerifier [0x0074A813+48355]\n\t(No symbol) [0x006DC4B1]\n\t(No symbol) [0x005E5358]\n\t(No symbol) [0x005CD293]\n\t(No symbol) [0x0062E37B]\n\t(No symbol) [0x0063C473]\n\t(No symbol) [0x0062A536]\n\t(No symbol) [0x006082DC]\n\t(No symbol) [0x006093DD]\n\tGetHandleVerifier [0x009AAABD+2539405]\n\tGetHandleVerifier [0x009EA78F+2800735]\n\tGetHandleVerifier [0x009E456C+2775612]\n\tGetHandleVerifier [0x007D51E0+616112]\n\t(No symbol) [0x006E5F8C]\n\t(No symbol) [0x006E2328]\n\t(No symbol) [0x006E240B]\n\t(No symbol) [0x006D4FF7]\n\tBaseThreadInitThunk [0x76D87D59+25]\n\tRtlInitializeExceptionChain [0x77E4B74B+107]\n\tRtlClearBits [0x77E4B6CF+191]\n",
     "output_type": "error",
     "traceback": [
      "\u001b[1;31m---------------------------------------------------------------------------\u001b[0m",
      "\u001b[1;31mNoSuchWindowException\u001b[0m                     Traceback (most recent call last)",
      "Cell \u001b[1;32mIn[34], line 9\u001b[0m\n\u001b[0;32m      6\u001b[0m total \u001b[39m=\u001b[39m []\n\u001b[0;32m      8\u001b[0m \u001b[39mfor\u001b[39;00m i \u001b[39min\u001b[39;00m tqdm(\u001b[39mrange\u001b[39m(\u001b[39m2000\u001b[39m, \u001b[39m4000\u001b[39m)):\n\u001b[1;32m----> 9\u001b[0m     res \u001b[39m=\u001b[39m get_job_description(driver, url_list[i])\n\u001b[0;32m     11\u001b[0m     \u001b[39mif\u001b[39;00m \u001b[39mlen\u001b[39m(res) \u001b[39m==\u001b[39m \u001b[39m0\u001b[39m:\n\u001b[0;32m     12\u001b[0m         \u001b[39mprint\u001b[39m(\u001b[39m\"\u001b[39m\u001b[39m존재하지 않는 페이지 입니다.\u001b[39m\u001b[39m\"\u001b[39m)\n",
      "Cell \u001b[1;32mIn[32], line 42\u001b[0m, in \u001b[0;36mget_job_description\u001b[1;34m(driver, url)\u001b[0m\n\u001b[0;32m     40\u001b[0m \u001b[39m# JobHeader 클래스 가져와서 title, company, tags 추출\u001b[39;00m\n\u001b[0;32m     41\u001b[0m job_header \u001b[39m=\u001b[39m driver\u001b[39m.\u001b[39mfind_element(By\u001b[39m.\u001b[39mCLASS_NAME, \u001b[39m'\u001b[39m\u001b[39mJobHeader_className__HttDA\u001b[39m\u001b[39m'\u001b[39m)\n\u001b[1;32m---> 42\u001b[0m title \u001b[39m=\u001b[39m job_header\u001b[39m.\u001b[39;49mfind_element(By\u001b[39m.\u001b[39;49mTAG_NAME, \u001b[39m'\u001b[39;49m\u001b[39mh2\u001b[39;49m\u001b[39m'\u001b[39;49m)\n\u001b[0;32m     43\u001b[0m company \u001b[39m=\u001b[39m job_header\u001b[39m.\u001b[39mfind_element(By\u001b[39m.\u001b[39mTAG_NAME, \u001b[39m'\u001b[39m\u001b[39ma\u001b[39m\u001b[39m'\u001b[39m)\n\u001b[0;32m     44\u001b[0m location \u001b[39m=\u001b[39m job_header\u001b[39m.\u001b[39mfind_element(By\u001b[39m.\u001b[39mCLASS_NAME, \u001b[39m'\u001b[39m\u001b[39mJobHeader_mobileLocationContainer__DyxUQ\u001b[39m\u001b[39m'\u001b[39m)\n",
      "File \u001b[1;32mc:\\Users\\Playdata\\AppData\\Local\\Programs\\Python\\Python310\\lib\\site-packages\\selenium\\webdriver\\remote\\webelement.py:425\u001b[0m, in \u001b[0;36mWebElement.find_element\u001b[1;34m(self, by, value)\u001b[0m\n\u001b[0;32m    422\u001b[0m     by \u001b[39m=\u001b[39m By\u001b[39m.\u001b[39mCSS_SELECTOR\n\u001b[0;32m    423\u001b[0m     value \u001b[39m=\u001b[39m \u001b[39mf\u001b[39m\u001b[39m'\u001b[39m\u001b[39m[name=\u001b[39m\u001b[39m\"\u001b[39m\u001b[39m{\u001b[39;00mvalue\u001b[39m}\u001b[39;00m\u001b[39m\"\u001b[39m\u001b[39m]\u001b[39m\u001b[39m'\u001b[39m\n\u001b[1;32m--> 425\u001b[0m \u001b[39mreturn\u001b[39;00m \u001b[39mself\u001b[39;49m\u001b[39m.\u001b[39;49m_execute(Command\u001b[39m.\u001b[39;49mFIND_CHILD_ELEMENT, {\u001b[39m\"\u001b[39;49m\u001b[39musing\u001b[39;49m\u001b[39m\"\u001b[39;49m: by, \u001b[39m\"\u001b[39;49m\u001b[39mvalue\u001b[39;49m\u001b[39m\"\u001b[39;49m: value})[\u001b[39m\"\u001b[39m\u001b[39mvalue\u001b[39m\u001b[39m\"\u001b[39m]\n",
      "File \u001b[1;32mc:\\Users\\Playdata\\AppData\\Local\\Programs\\Python\\Python310\\lib\\site-packages\\selenium\\webdriver\\remote\\webelement.py:403\u001b[0m, in \u001b[0;36mWebElement._execute\u001b[1;34m(self, command, params)\u001b[0m\n\u001b[0;32m    401\u001b[0m     params \u001b[39m=\u001b[39m {}\n\u001b[0;32m    402\u001b[0m params[\u001b[39m\"\u001b[39m\u001b[39mid\u001b[39m\u001b[39m\"\u001b[39m] \u001b[39m=\u001b[39m \u001b[39mself\u001b[39m\u001b[39m.\u001b[39m_id\n\u001b[1;32m--> 403\u001b[0m \u001b[39mreturn\u001b[39;00m \u001b[39mself\u001b[39;49m\u001b[39m.\u001b[39;49m_parent\u001b[39m.\u001b[39;49mexecute(command, params)\n",
      "File \u001b[1;32mc:\\Users\\Playdata\\AppData\\Local\\Programs\\Python\\Python310\\lib\\site-packages\\selenium\\webdriver\\remote\\webdriver.py:440\u001b[0m, in \u001b[0;36mWebDriver.execute\u001b[1;34m(self, driver_command, params)\u001b[0m\n\u001b[0;32m    438\u001b[0m response \u001b[39m=\u001b[39m \u001b[39mself\u001b[39m\u001b[39m.\u001b[39mcommand_executor\u001b[39m.\u001b[39mexecute(driver_command, params)\n\u001b[0;32m    439\u001b[0m \u001b[39mif\u001b[39;00m response:\n\u001b[1;32m--> 440\u001b[0m     \u001b[39mself\u001b[39;49m\u001b[39m.\u001b[39;49merror_handler\u001b[39m.\u001b[39;49mcheck_response(response)\n\u001b[0;32m    441\u001b[0m     response[\u001b[39m\"\u001b[39m\u001b[39mvalue\u001b[39m\u001b[39m\"\u001b[39m] \u001b[39m=\u001b[39m \u001b[39mself\u001b[39m\u001b[39m.\u001b[39m_unwrap_value(response\u001b[39m.\u001b[39mget(\u001b[39m\"\u001b[39m\u001b[39mvalue\u001b[39m\u001b[39m\"\u001b[39m, \u001b[39mNone\u001b[39;00m))\n\u001b[0;32m    442\u001b[0m     \u001b[39mreturn\u001b[39;00m response\n",
      "File \u001b[1;32mc:\\Users\\Playdata\\AppData\\Local\\Programs\\Python\\Python310\\lib\\site-packages\\selenium\\webdriver\\remote\\errorhandler.py:245\u001b[0m, in \u001b[0;36mErrorHandler.check_response\u001b[1;34m(self, response)\u001b[0m\n\u001b[0;32m    243\u001b[0m         alert_text \u001b[39m=\u001b[39m value[\u001b[39m\"\u001b[39m\u001b[39malert\u001b[39m\u001b[39m\"\u001b[39m]\u001b[39m.\u001b[39mget(\u001b[39m\"\u001b[39m\u001b[39mtext\u001b[39m\u001b[39m\"\u001b[39m)\n\u001b[0;32m    244\u001b[0m     \u001b[39mraise\u001b[39;00m exception_class(message, screen, stacktrace, alert_text)  \u001b[39m# type: ignore[call-arg]  # mypy is not smart enough here\u001b[39;00m\n\u001b[1;32m--> 245\u001b[0m \u001b[39mraise\u001b[39;00m exception_class(message, screen, stacktrace)\n",
      "\u001b[1;31mNoSuchWindowException\u001b[0m: Message: no such window: target window already closed\nfrom unknown error: web view not found\n  (Session info: chrome=114.0.5735.134)\nStacktrace:\nBacktrace:\n\tGetHandleVerifier [0x0074A813+48355]\n\t(No symbol) [0x006DC4B1]\n\t(No symbol) [0x005E5358]\n\t(No symbol) [0x005CD293]\n\t(No symbol) [0x0062E37B]\n\t(No symbol) [0x0063C473]\n\t(No symbol) [0x0062A536]\n\t(No symbol) [0x006082DC]\n\t(No symbol) [0x006093DD]\n\tGetHandleVerifier [0x009AAABD+2539405]\n\tGetHandleVerifier [0x009EA78F+2800735]\n\tGetHandleVerifier [0x009E456C+2775612]\n\tGetHandleVerifier [0x007D51E0+616112]\n\t(No symbol) [0x006E5F8C]\n\t(No symbol) [0x006E2328]\n\t(No symbol) [0x006E240B]\n\t(No symbol) [0x006D4FF7]\n\tBaseThreadInitThunk [0x76D87D59+25]\n\tRtlInitializeExceptionChain [0x77E4B74B+107]\n\tRtlClearBits [0x77E4B6CF+191]\n"
     ]
    }
   ],
   "source": [
    "driver = webdriver.Chrome()\n",
    "\n",
    "# url 가져오기\n",
    "url_list = get_url_list()\n",
    "\n",
    "total = []\n",
    "\n",
    "for i in tqdm(range(2000, 4000)):\n",
    "    res = get_job_description(driver, url_list[i])\n",
    "    \n",
    "    if len(res) == 0:\n",
    "        print(\"존재하지 않는 페이지 입니다.\")\n",
    "        continue\n",
    "    else:\n",
    "        total.append(res)\n",
    "\n",
    "driver.quit()"
   ]
  },
  {
   "cell_type": "code",
   "execution_count": null,
   "id": "60abec02",
   "metadata": {},
   "outputs": [],
   "source": []
  },
  {
   "cell_type": "code",
   "execution_count": null,
   "id": "88b44999",
   "metadata": {},
   "outputs": [
    {
     "name": "stdout",
     "output_type": "stream",
     "text": [
      "5462\n"
     ]
    }
   ],
   "source": [
    "url_list = get_url_list()\n",
    "\n",
    "print(len(url_list))"
   ]
  },
  {
   "attachments": {},
   "cell_type": "markdown",
   "id": "f08b7f46",
   "metadata": {},
   "source": [
    "# 크롤링 결과 및 확인"
   ]
  },
  {
   "cell_type": "code",
   "execution_count": 35,
   "id": "cc6221b0",
   "metadata": {
    "scrolled": false
   },
   "outputs": [
    {
     "name": "stdout",
     "output_type": "stream",
     "text": [
      "{'id': '88428', 'title': 'RPA SM/SI', 'company': '아임잇', 'location': [''], 'tags': ['퇴사율5%이하', '50명이하', '설립4~9년', '워크샵', '식비', '음료', '생일선물', '건강검진', 'IT, 컨텐츠'], 'qualifications': ['• 지원자격', '  경력 : 무관 (신입도 지원 가능)'], 'preferred': ['• 컴퓨터/시스템공학', '• 정보처리기사', '• RPA 솔루션 유경험자', '• MS Office(엑셀 함수, VBA) 경험자'], 'benefits': ['• 퇴직연금, 장기근속자 포상, 퇴직금, 직책수당, 4대 보험', '• 건강검진, 각종 경조사 지원', '• 명절선물/귀향비, 생일선물/파티', '• 워크샵, 신입사원교육(OJT), 직무능력향상교육, 도서구입비지원, 식비 지원, 음료제공', '• 연차, 여름휴가, 경조휴가제, 반차, Refresh휴가, 근로자의 날 휴무, 포상휴가'], 'skills': ['Java', 'WebSphere MQ'], 'workplace': '서울특별시 금천구 가산디지털1로'}\n",
      "{'id': '88428', 'title': 'RPA SM/SI', 'company': '아임잇', 'location': [''], 'tags': ['퇴사율5%이하', '50명이하', '설립4~9년', '워크샵', '식비', '음료', '생일선물', '건강검진', 'IT, 컨텐츠'], 'qualifications': ['• 지원자격', '  경력 : 무관 (신입도 지원 가능)'], 'preferred': ['• 컴퓨터/시스템공학', '• 정보처리기사', '• RPA 솔루션 유경험자', '• MS Office(엑셀 함수, VBA) 경험자'], 'benefits': ['• 퇴직연금, 장기근속자 포상, 퇴직금, 직책수당, 4대 보험', '• 건강검진, 각종 경조사 지원', '• 명절선물/귀향비, 생일선물/파티', '• 워크샵, 신입사원교육(OJT), 직무능력향상교육, 도서구입비지원, 식비 지원, 음료제공', '• 연차, 여름휴가, 경조휴가제, 반차, Refresh휴가, 근로자의 날 휴무, 포상휴가'], 'skills': ['Java', 'WebSphere MQ'], 'workplace': '서울특별시 금천구 가산디지털1로'}\n",
      "{'id': '146365', 'title': 'IT 개발자', 'company': '와이앤에스코퍼레이션', 'location': ['서울', '한국'], 'tags': ['IT, 컨텐츠'], 'qualifications': ['•  영어 능통자'], 'benefits': ['•  4대보험', '•  마음편한 연차사용', '•  수평적인 조직문화', '•  사내 대외 활동비 지원(맛집투어, 방탈출 카페 등)'], 'skills': ['React', 'CSS', 'JavaScript', 'HTML5', 'Restful API'], 'workplace': '서울시 강남구 봉은사로 47길 44'}\n"
     ]
    }
   ],
   "source": [
    "print(total[0])\n",
    "for t in total:\n",
    "    print(t)\n"
   ]
  },
  {
   "attachments": {},
   "cell_type": "markdown",
   "id": "cef5dbb9",
   "metadata": {},
   "source": [
    "# 결과 csv 파일로 저장하기"
   ]
  },
  {
   "cell_type": "code",
   "execution_count": 22,
   "id": "774704d9",
   "metadata": {},
   "outputs": [],
   "source": [
    "import csv\n",
    "\n",
    "with open('C:\\codes\\playground-data\\crawler\\output/wanted_crawling_output_8_3001_4000sam.csv', 'w', encoding='UTF-8') as f:\n",
    "# with open('C:\\codes\\playground-data\\crawler\\output/EXAMPLE.csv', 'w', encoding='UTF-8') as f:\n",
    "    # csv 파일의 헤더 설정\n",
    "    header = ['id', 'title', 'company', 'location', 'tags', 'qualifications', 'preferred', 'benefits', 'skills', 'workplace']\n",
    "\n",
    "    # 헤더 적용\n",
    "    writer = csv.DictWriter(f, fieldnames=header)\n",
    "    writer.writeheader()\n",
    "    \n",
    "    # 헤더에 맞게 딕셔너리 값 입력\n",
    "    for jd in total:\n",
    "        writer.writerow(jd)"
   ]
  },
  {
   "cell_type": "code",
   "execution_count": null,
   "id": "34ffcbea",
   "metadata": {},
   "outputs": [],
   "source": []
  },
  {
   "cell_type": "code",
   "execution_count": null,
   "id": "df8d0c71",
   "metadata": {},
   "outputs": [],
   "source": []
  },
  {
   "cell_type": "code",
   "execution_count": null,
   "id": "c93e4998",
   "metadata": {},
   "outputs": [],
   "source": []
  },
  {
   "attachments": {},
   "cell_type": "markdown",
   "id": "0efbe139",
   "metadata": {},
   "source": [
    "# 전처리 (진행중)"
   ]
  },
  {
   "cell_type": "code",
   "execution_count": null,
   "id": "613a6da1",
   "metadata": {},
   "outputs": [],
   "source": [
    "import re\n",
    "import nltk\n",
    "from nltk.tokenize import word_tokenize\n",
    "from nltk.tag import pos_tag\n",
    "\n",
    "nltk.download('punkt')\n",
    "nltk.download('averaged_perceptron_tagger')\n",
    "\n",
    "\n",
    "exception_list = ['를', '를', '를', '을', '을', '있거나', '있으신', '갖추신', '경험이', '이상의', '에', '에', '에', '에', '에', '이용한', '에', '에', '에', '준하는', '에', '있으신', '에', '에', '에', '중심적인', '에', '에', '이해를', '에', '대한', '및', '가지고', '전반적인', '에']\n",
    "\n",
    "# 텍스트 정의\n",
    "contents = \"• 6년 이상의 백엔드 개발 경력이 있거나 그에 준하는 실력을 갖추신 분\\n• JavaScript / TypeScript 를 이용한 개발에 능숙하신 분\\n• 웹 서비스에 대한 전반적인 이해를 갖추신 분\\n• RDB(Postgres) 및 ORM에 대한 전반적인 이해를 갖추신 분\\n• 도커, 쿠버네티스 등 컨테이너 기반의 서비스에 대한 경험이 있으신 분\\n• 1년 이상의 NestJS 실무 프로젝트 개발 경험이 있으신 분\\n• 모듈화, 테스트, 유지보수가 용이한 코드에 대한 이해를 갖추고 계신 분\\n• 기술 중심이 아닌 유저 중심적인 태도를 가지고 계신 분\\n• 배움에 대한 열정을 갖고, 지속적이고 효과적으로 피드백을 주고 받는 분\"\n",
    "\n",
    "# 특수문자 제거\n",
    "contents = re.sub(r'[^\\w\\s]', '', contents)\n",
    "\n",
    "# 단어 토큰화\n",
    "tokens = word_tokenize(contents)\n",
    "\n",
    "# 품사 태깅\n",
    "tagged_words = pos_tag(tokens)\n",
    "\n",
    "# 명사 추출 (동사 및 불용어 제외)\n",
    "nouns = [word for word, pos in tagged_words if pos.startswith('N') and not pos.startswith('V') and word.lower() not in exception_list]\n",
    "\n",
    "# 중복 제거\n",
    "nouns = list(set(nouns))\n",
    "\n",
    "# 결과 출력\n",
    "print(nouns)"
   ]
  },
  {
   "cell_type": "code",
   "execution_count": null,
   "id": "2e74ffdb",
   "metadata": {},
   "outputs": [],
   "source": []
  }
 ],
 "metadata": {
  "kernelspec": {
   "display_name": "Python 3 (ipykernel)",
   "language": "python",
   "name": "python3"
  },
  "language_info": {
   "codemirror_mode": {
    "name": "ipython",
    "version": 3
   },
   "file_extension": ".py",
   "mimetype": "text/x-python",
   "name": "python",
   "nbconvert_exporter": "python",
   "pygments_lexer": "ipython3",
   "version": "3.10.9"
  },
  "toc": {
   "base_numbering": 1,
   "nav_menu": {},
   "number_sections": true,
   "sideBar": true,
   "skip_h1_title": false,
   "title_cell": "Table of Contents",
   "title_sidebar": "Contents",
   "toc_cell": false,
   "toc_position": {},
   "toc_section_display": true,
   "toc_window_display": false
  }
 },
 "nbformat": 4,
 "nbformat_minor": 5
}
